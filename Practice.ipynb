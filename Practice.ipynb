{
  "cells": [
    {
      "cell_type": "markdown",
      "metadata": {
        "id": "view-in-github",
        "colab_type": "text"
      },
      "source": [
        "<a href=\"https://colab.research.google.com/github/ThejaRoop/Jupyter_related/blob/main/Practice.ipynb\" target=\"_parent\"><img src=\"https://colab.research.google.com/assets/colab-badge.svg\" alt=\"Open In Colab\"/></a>"
      ]
    },
    {
      "cell_type": "code",
      "execution_count": null,
      "id": "9bf48d56-cde2-483c-9e93-811c027717b4",
      "metadata": {
        "id": "9bf48d56-cde2-483c-9e93-811c027717b4"
      },
      "outputs": [],
      "source": [
        "#This is a test\n",
        "#walrus operator\n",
        "x = 0\n",
        "while (x := x + 1) < 10: # Prints 1, 2, 3, ..., 9\n",
        "    print(x)\n",
        "\n",
        "#break\n",
        "x = 0\n",
        "while x < 10:\n",
        "    if x == 5:\n",
        "        break # Stops the loop. Moves to Done below\n",
        "    print(x)\n",
        "    x += 1\n",
        "    print('Done')\n",
        "\n",
        "# help(str)\n",
        "\n",
        "@dataclass\n",
        "\n",
        "generator functions:\n",
        "def sub_generator():\n",
        "    yield 1\n",
        "    yield 2\n",
        "\n",
        "def main_generator():\n",
        "    yield from sub_generator()\n",
        "    yield 3\n",
        "\n",
        "gen = main_generator()\n",
        "\n",
        "for value in gen:\n",
        "    print(value)"
      ]
    },
    {
      "cell_type": "code",
      "execution_count": null,
      "id": "20f67e37-970b-4cb4-a606-12d70594b67e",
      "metadata": {
        "id": "20f67e37-970b-4cb4-a606-12d70594b67e",
        "outputId": "8e7775cc-0fec-4179-8672-f385a2d65c74"
      },
      "outputs": [
        {
          "data": {
            "text/plain": [
              "'Hello World'"
            ]
          },
          "execution_count": 75,
          "metadata": {},
          "output_type": "execute_result"
        }
      ],
      "source": [
        "s= 'Hello World'\n",
        "# in the above if i need to get the index of \"H\" and \"o\"  how to get?\n",
        "# s.find('o W')\n",
        "# p=s[0:4]\n",
        "# s.split(p)[1]\n",
        "replaced=s.replace('Hello', 'challo')\n",
        "replaced\n",
        "s = 'hello world'\n",
        "print(repr(s))\n",
        "del rooms[\"pink\"]\n",
        "\n",
        "d1={\"cow\":\"4legs\", \"horse\":\"1 nose\"}\n",
        "# for animal,speciality in d1.items():\n",
        "#     print(animal,speciality)\n",
        "\n",
        "d1.items()\n",
        "\n",
        "python zip function\n",
        "list1 = [1, 2, 3]\n",
        "list2 = ['a', 'b']\n",
        "zipped = zip(list1, list2)\n",
        "zipped = zip([1, 2, 3], ['a', 'b', 'c'])\n",
        "list1, list2 = zip(*zipped)\n",
        "\n",
        "\n",
        "# contextlib\n",
        "# subprocess\n",
        "# pillow\n",
        "# matplotlib (visualizations)\n",
        "# re, json, csv, itertools, collections, functools, textwrap, zipfile,\n",
        "\n"
      ]
    },
    {
      "cell_type": "code",
      "execution_count": null,
      "id": "636dd7fb-605f-47be-890b-a23a9604e0df",
      "metadata": {
        "id": "636dd7fb-605f-47be-890b-a23a9604e0df",
        "outputId": "65ad3469-d7c1-4bd2-f2fc-24013e6d7c40"
      },
      "outputs": [
        {
          "name": "stdout",
          "output_type": "stream",
          "text": [
            "Person(name='Alice', age=30, city='San Francisco')\n"
          ]
        }
      ],
      "source": [
        "# coordinates = (10, 20)\n",
        "# config = (1920, 1080, True)  # screen resolution and fullscreen flag\n",
        "\n",
        "# # Using a tuple as a key in a dictionary\n",
        "# location_data = {coordinates: \"Player's location\"}\n",
        "# location_data\n",
        "\n",
        "# def get_user_info():\n",
        "#     return \"Alice\", 30, \"New York\"\n",
        "\n",
        "# a= get_user_info()\n",
        "# name, age, city = a\n",
        "\n",
        "# print(name)\n",
        "\n",
        "\n",
        "from collections import namedtuple\n",
        "\n",
        "# Define a namedtuple type called 'Person'\n",
        "Person = namedtuple('Person', ['name', 'age', 'city'])\n",
        "\n",
        "# Create an instance of Person\n",
        "person1 = Person(name=\"Alice\", age=30, city=\"New York\")\n",
        "\n",
        "person1 = person1._replace(city=\"San Francisco\")\n",
        "print(person1)\n",
        "\n",
        "s = 'hello world'\n",
        "s.replace(\"ello\",\"re\")\n",
        "#key word arguments\n",
        "# import math\n",
        "# help(math)\n",
        "import sys\n",
        "print(sys.argv)\n",
        "REPL (Read-Eval-Print Loop)"
      ]
    },
    {
      "cell_type": "code",
      "execution_count": null,
      "id": "c89ce63d-1e12-4b2f-a88a-66cdd0a2d2a3",
      "metadata": {
        "id": "c89ce63d-1e12-4b2f-a88a-66cdd0a2d2a3",
        "outputId": "766d09db-6ab1-4370-89c1-b1edb2b764c9"
      },
      "outputs": [
        {
          "name": "stdout",
          "output_type": "stream",
          "text": [
            "14\n"
          ]
        }
      ],
      "source": [
        "#higher order function - fns that return another function\n",
        "# def make_adder(n):\n",
        "#     def adder(x):\n",
        "#         return x + n\n",
        "#     return adder\n",
        "\n",
        "# add_four = make_adder(4)\n",
        "# print(add_four(10))  # Outputs 14\n",
        "\n"
      ]
    },
    {
      "cell_type": "code",
      "execution_count": null,
      "id": "fd3fa230-9d30-4bbe-9597-22cfd9fadf84",
      "metadata": {
        "id": "fd3fa230-9d30-4bbe-9597-22cfd9fadf84",
        "outputId": "0ff19333-5938-42df-a5d9-917693fcccfd"
      },
      "outputs": [
        {
          "name": "stdout",
          "output_type": "stream",
          "text": [
            "27\n"
          ]
        }
      ],
      "source": [
        "def createadder(x):\n",
        "    def addvalue(y):\n",
        "        return x+y\n",
        "    return addvalue\n",
        "\n",
        "add5 = createadder(5)\n",
        "print(add5(22))\n",
        "\n",
        "assert statement where to use?\n",
        "\n"
      ]
    },
    {
      "cell_type": "code",
      "execution_count": null,
      "id": "0d9b5346-0b82-4b11-921f-3a4f80bd164f",
      "metadata": {
        "id": "0d9b5346-0b82-4b11-921f-3a4f80bd164f",
        "outputId": "130a182c-bb16-4b85-fc17-c210061ceec2"
      },
      "outputs": [
        {
          "data": {
            "text/plain": [
              "[]"
            ]
          },
          "execution_count": 71,
          "metadata": {},
          "output_type": "execute_result"
        }
      ],
      "source": [
        "data = [\n",
        "    {\n",
        "        \"name\": \"\",\n",
        "        \"age\": 35,\n",
        "        \"salary\": 100000,\n",
        "    },\n",
        "    {\n",
        "        \"name\": \"Jane Doe\",\n",
        "        \"age\": 42,\n",
        "        \"salary\": 150000,\n",
        "    },\n",
        "    {\n",
        "        \"name\": \"John Doe\",\n",
        "        \"age\": \"23\",\n",
        "        \"salary\": 100000,\n",
        "    },\n",
        "    {\n",
        "        \"name\": \"Foo Bar\",\n",
        "        \"age\": \"302\",\n",
        "        \"salary\": \"123456\",\n",
        "    },\n",
        "    {\n",
        "        \"name\": \"Bar Foo\",\n",
        "        \"age\": \"30\",\n",
        "        \"salary\": \"123\",\n",
        "    },\n",
        "]\n",
        "def has_empty_name(person):\n",
        "    return person['name'] == ''\n",
        "\n",
        "def has_age_over_100(person):\n",
        "    return person['age'] > 100\n",
        "\n",
        "def convert_age_to_number(person):\n",
        "    person['age'] = float(person['age'])\n",
        "\n",
        "def convert_salary_to_number(person):\n",
        "    person['salary'] = float(person['salary'])\n",
        "\n",
        "def convert_salary_to_yearly(person):\n",
        "    if person['salary'] < 1000:\n",
        "        # 2000 work hours in the year, roughly\n",
        "        person['salary'] = 2000 * person['salary']\n",
        "\n",
        "def clean_data(data, cleaners, filters):\n",
        "    # first make sure the data is cleaned\n",
        "    for item in data:\n",
        "        for cleaner_func in cleaners:\n",
        "            cleaner_func(item)\n",
        "    # then keep only the good data\n",
        "    out = []\n",
        "    for item in data:\n",
        "        should_append = True\n",
        "        for filter in filters:\n",
        "            # don't add this item if the filter returns False\n",
        "            if not filter(item):\n",
        "                should_append = False\n",
        "\n",
        "        if should_append:\n",
        "            out.append(item)\n",
        "    return out\n",
        "\n",
        "clean_data(data,\n",
        "    cleaners=[convert_age_to_number, convert_salary_to_number, convert_salary_to_yearly],\n",
        "    filters=[has_empty_name, has_age_over_100])"
      ]
    },
    {
      "cell_type": "code",
      "execution_count": null,
      "id": "6e8dbe31-27a1-4550-8bf5-2d075b550e75",
      "metadata": {
        "id": "6e8dbe31-27a1-4550-8bf5-2d075b550e75"
      },
      "outputs": [],
      "source": [
        "binary_rep = bin(4)[2:]\n",
        "consecutive_ones = binary_rep.split('0')\n",
        "\n",
        "    # Find the maximum length of consecutive '1's\n",
        "max_ones = max(len(group) for group in consecutive_ones)\n",
        "\n",
        "\n",
        "from collections import deque\n",
        "\n",
        "# Initialize deque\n",
        "d = deque([1, 2, 3])\n",
        "print(\"Initial deque:\", d)  # Output: deque([1, 2, 3])\n",
        "\n",
        "# Append items\n",
        "d.append(4)\n",
        "d.appendleft(0)\n",
        "print(\"After append and appendleft:\", d)  # Output: deque([0, 1, 2, 3, 4])\n",
        "\n",
        "# Pop items\n",
        "print(\"Popped from right:\", d.pop())      # Output: 4\n",
        "print(\"Popped from left:\", d.popleft())   # Output: 0\n",
        "print(\"After pop and popleft:\", d)         # Output: deque([1, 2, 3])\n",
        "\n",
        "# Extend deque\n",
        "d.extend([4, 5, 6])\n",
        "d.extendleft([-1, -2])\n",
        "print(\"After extend and extendleft:\", d)  # Output: deque([-2, -1, 1, 2, 3, 4, 5, 6])\n",
        "\n",
        "# Remove item\n",
        "d.remove(-2)\n",
        "print(\"After removing -2:\", d)            # Output: deque([-1, 1, 2, 3, 4, 5, 6])\n",
        "\n",
        "# Clear deque\n",
        "d.clear()\n",
        "print(\"After clearing:\", d)                # Output: deque([])\n",
        "\n",
        "# Max length\n",
        "d = deque([1, 2, 3], maxlen=5)\n",
        "print(\"Max length:\", d.maxlen)             # Output: 5\n",
        "\n",
        "\n",
        "s='e'\n",
        "try:\n",
        "    value=int(s)\n",
        "    print(value)\n",
        "except ValueError:\n",
        "    print(\"Bad String\")\n",
        "\n",
        "a ={'a', 'r', 'b', 'c', 'd'}\n",
        "a | b\n",
        "a & b\n",
        "a ^ b\n",
        "\n",
        "#check palindrome\n",
        "\n",
        "# 0 n-1\n",
        "# 1 n-2\n",
        "s = 'racecar'\n",
        "v=\"not palindrome\"\n",
        "def checkpli(s):\n",
        "    c= list(s)\n",
        "    # for x in range(0,len(c)):\n",
        "    x=0\n",
        "    while x < len(c)//2:\n",
        "        if c[x] !=c[len(c)-x-1]:\n",
        "            return v\n",
        "        x+=1\n",
        "    print(\"palindrome\")\n",
        "\n",
        "\n",
        "checkpli(s)\n",
        "\n",
        "# Global Variables: Accessible from anywhere in the code.\n",
        "# Local Variables: Defined and accessible only within a function.\n",
        "# Nonlocal Variables: Allows modification of variables in the enclosing (outer) function from within a nested (inner) function.\n",
        "\n",
        "arr=[1,2]\n",
        "c= (lambda x: x+2)\n",
        "result = list(map(c,arr))\n",
        "result\n",
        "\n",
        "help(math) vs help(str)\n",
        "\n",
        "@classmethod\n",
        "@staticmethod\n",
        "@property\n",
        "@_.setter\n",
        "@_.deleter\n",
        "\n",
        "from collections import defaultdict\n",
        "unique_counts1 = defaultdict(int)\n",
        "help(unique_counts1)\n",
        "\n",
        "import functools\n",
        "\n",
        "def log_function_call(func):\n",
        "    @functools.wraps(func)\n",
        "    def wrapper(*args, **kwargs):\n",
        "        print(f\"Calling {func.__name__} with arguments {args} and keyword arguments {kwargs}\")\n",
        "        result = func(*args, **kwargs)\n",
        "        print(f\"{func.__name__} returned {result}\")\n",
        "        return result\n",
        "    return wrapper\n",
        "\n",
        "@log_function_call\n",
        "def add(a, b):\n",
        "    return a + b\n",
        "add(3, 5)\n",
        "\n",
        "\n",
        "#class decorators\n",
        "def simple_decorator(cls):\n",
        "    # This is the decorator function that modifies the class behavior.\n",
        "    class WrappedClass:\n",
        "        def __init__(self, *args, **kwargs):\n",
        "            print(\"Class is being instantiated.\")\n",
        "            self.instance = cls(*args, **kwargs)  # Create an instance of the original class\n",
        "\n",
        "        def say_hello(self):\n",
        "            print(\"Hello from the decorator!\")\n",
        "\n",
        "    return WrappedClass\n",
        "\n",
        "@simple_decorator\n",
        "class MyClass:\n",
        "    def __init__(self, name):\n",
        "        self.name = name\n",
        "\n",
        "    def greet(self):\n",
        "        print(f\"Hello, {self.name}!\")\n",
        "\n",
        "# Example usage\n",
        "obj = MyClass(\"Alice\")\n",
        "obj.say_hello()  # Calls the decorator-added method\n",
        "\n",
        "queue = [1]\n",
        "queue.append((2, 3))\n",
        "# queue.sort(key=lambda x: x[1], reverse=True)\n",
        "queue\n",
        "\n",
        "\n",
        "from collections import deque\n",
        "d = deque([1, 2, 3])\n",
        "reversed_deque = deque(reversed(d))\n",
        "print(reversed_deque)\n",
        "\n",
        "s1='abcfffa'\n",
        "s2='cab'\n",
        "\n",
        "c= s1[2:]+s1[:2]\n",
        "c"
      ]
    },
    {
      "cell_type": "code",
      "execution_count": null,
      "id": "a98cd55d-ceca-4fef-9db7-e0f846f18d21",
      "metadata": {
        "id": "a98cd55d-ceca-4fef-9db7-e0f846f18d21"
      },
      "outputs": [],
      "source": []
    },
    {
      "cell_type": "code",
      "execution_count": null,
      "id": "3b948b6f-9360-45ad-9268-40a94517d421",
      "metadata": {
        "id": "3b948b6f-9360-45ad-9268-40a94517d421"
      },
      "outputs": [],
      "source": []
    },
    {
      "cell_type": "code",
      "execution_count": null,
      "id": "09c33182-0ccb-4e74-96a5-1a6d8bf3d3b8",
      "metadata": {
        "id": "09c33182-0ccb-4e74-96a5-1a6d8bf3d3b8"
      },
      "outputs": [],
      "source": []
    },
    {
      "cell_type": "code",
      "execution_count": null,
      "id": "a549476c-afef-4a10-a76b-112bcf880f3e",
      "metadata": {
        "id": "a549476c-afef-4a10-a76b-112bcf880f3e"
      },
      "outputs": [],
      "source": []
    },
    {
      "cell_type": "code",
      "execution_count": null,
      "id": "55a463e7-856d-4efa-997e-a8ac472acb42",
      "metadata": {
        "id": "55a463e7-856d-4efa-997e-a8ac472acb42"
      },
      "outputs": [],
      "source": []
    },
    {
      "cell_type": "code",
      "execution_count": null,
      "id": "52b0f8aa-aa7f-4606-8bd2-b7873553f4c7",
      "metadata": {
        "id": "52b0f8aa-aa7f-4606-8bd2-b7873553f4c7"
      },
      "outputs": [],
      "source": []
    },
    {
      "cell_type": "code",
      "execution_count": null,
      "id": "9fd443b2-7c57-414e-b308-44d677d2496f",
      "metadata": {
        "id": "9fd443b2-7c57-414e-b308-44d677d2496f"
      },
      "outputs": [],
      "source": [
        "\n",
        "\n",
        "\n"
      ]
    },
    {
      "cell_type": "code",
      "execution_count": null,
      "id": "c0db5b48-b49c-479d-ba6c-ac745210dc35",
      "metadata": {
        "id": "c0db5b48-b49c-479d-ba6c-ac745210dc35"
      },
      "outputs": [],
      "source": []
    },
    {
      "cell_type": "code",
      "execution_count": null,
      "id": "f7cc5d74-538d-443c-b397-1b65ad7dde09",
      "metadata": {
        "id": "f7cc5d74-538d-443c-b397-1b65ad7dde09"
      },
      "outputs": [],
      "source": []
    },
    {
      "cell_type": "code",
      "execution_count": null,
      "id": "f65cd26e-c94f-45ba-b4e2-9f17ec63bcd9",
      "metadata": {
        "id": "f65cd26e-c94f-45ba-b4e2-9f17ec63bcd9"
      },
      "outputs": [],
      "source": []
    },
    {
      "cell_type": "code",
      "execution_count": null,
      "id": "18474621-07c0-41a2-b306-f8aca8c2ad02",
      "metadata": {
        "id": "18474621-07c0-41a2-b306-f8aca8c2ad02"
      },
      "outputs": [],
      "source": []
    },
    {
      "cell_type": "code",
      "execution_count": null,
      "id": "2b0bd910-6c1e-4434-84f6-95c5448ef530",
      "metadata": {
        "id": "2b0bd910-6c1e-4434-84f6-95c5448ef530"
      },
      "outputs": [],
      "source": []
    },
    {
      "cell_type": "code",
      "execution_count": null,
      "id": "43ff14b2-cab5-412b-8d8d-56d81badd487",
      "metadata": {
        "id": "43ff14b2-cab5-412b-8d8d-56d81badd487"
      },
      "outputs": [],
      "source": []
    },
    {
      "cell_type": "code",
      "execution_count": null,
      "id": "fbf3d01f-a4d7-4730-aef2-215aa98c7016",
      "metadata": {
        "id": "fbf3d01f-a4d7-4730-aef2-215aa98c7016"
      },
      "outputs": [],
      "source": []
    },
    {
      "cell_type": "code",
      "execution_count": null,
      "id": "615019f2-d57b-487c-84c3-403b436ecc7d",
      "metadata": {
        "id": "615019f2-d57b-487c-84c3-403b436ecc7d"
      },
      "outputs": [],
      "source": []
    },
    {
      "cell_type": "code",
      "execution_count": null,
      "id": "b2642166-e55d-4482-ad8b-82a00dc11ccc",
      "metadata": {
        "id": "b2642166-e55d-4482-ad8b-82a00dc11ccc"
      },
      "outputs": [],
      "source": []
    },
    {
      "cell_type": "code",
      "execution_count": null,
      "id": "a6247db9-f3c9-40a8-9e43-90e4943ac7d1",
      "metadata": {
        "id": "a6247db9-f3c9-40a8-9e43-90e4943ac7d1"
      },
      "outputs": [],
      "source": []
    },
    {
      "cell_type": "code",
      "execution_count": null,
      "id": "35a27e80-da70-4830-ab04-9f6ab1d31d45",
      "metadata": {
        "id": "35a27e80-da70-4830-ab04-9f6ab1d31d45"
      },
      "outputs": [],
      "source": []
    },
    {
      "cell_type": "code",
      "execution_count": null,
      "id": "9d4c0588-fc87-464e-9e06-a0d2fe9bb5ac",
      "metadata": {
        "id": "9d4c0588-fc87-464e-9e06-a0d2fe9bb5ac",
        "outputId": "58f41cf4-7789-4b64-cf68-79f357a50822"
      },
      "outputs": [
        {
          "name": "stdout",
          "output_type": "stream",
          "text": [
            "Hello World!\n"
          ]
        }
      ],
      "source": [
        "l1 = [\"Hello\", \" \", \"World\", \"!\"]\n",
        "\n",
        "# e=lambda x: x*24\n",
        "# result=map(e,l1)\n",
        "# print(list(result))\n",
        "\n",
        "# e=lambda x:x>2\n",
        "# list(filter(e,l1))\n",
        "\n",
        "from functools import reduce\n",
        "e=lambda x,y: x+y\n",
        "print(reduce(e,l1))\n"
      ]
    },
    {
      "cell_type": "code",
      "execution_count": null,
      "id": "b6a368f9-2981-49a3-95f7-852b58fd0a1e",
      "metadata": {
        "id": "b6a368f9-2981-49a3-95f7-852b58fd0a1e",
        "outputId": "b2a7c3f2-9ca8-4071-9aa2-af2af541c5a9"
      },
      "outputs": [
        {
          "data": {
            "text/plain": [
              "<function __main__.<lambda>(x)>"
            ]
          },
          "execution_count": 19,
          "metadata": {},
          "output_type": "execute_result"
        }
      ],
      "source": [
        "l1=[1,2,4]\n",
        "    # :x+1 for x in l1\n",
        "l1 = [1, 2, 4]\n",
        "e = lambda x: x *3\n",
        "\n",
        "e"
      ]
    },
    {
      "cell_type": "code",
      "execution_count": null,
      "id": "61a2209f-be78-4a5a-87d7-738b0f5ddcf7",
      "metadata": {
        "id": "61a2209f-be78-4a5a-87d7-738b0f5ddcf7"
      },
      "outputs": [],
      "source": []
    },
    {
      "cell_type": "code",
      "execution_count": null,
      "id": "2ed3c676-097f-40f3-8676-7139015f4f29",
      "metadata": {
        "id": "2ed3c676-097f-40f3-8676-7139015f4f29"
      },
      "outputs": [],
      "source": []
    },
    {
      "cell_type": "code",
      "execution_count": null,
      "id": "c7412c89-4ba3-4952-9767-839e675e4c3f",
      "metadata": {
        "id": "c7412c89-4ba3-4952-9767-839e675e4c3f",
        "outputId": "309c3dcd-0fa3-4a9d-a75c-cea60590ceaa"
      },
      "outputs": [
        {
          "data": {
            "text/plain": [
              "2"
            ]
          },
          "execution_count": 1,
          "metadata": {},
          "output_type": "execute_result"
        }
      ],
      "source": [
        "s=[1,2]\n",
        "len(s)"
      ]
    },
    {
      "cell_type": "code",
      "execution_count": null,
      "id": "8cc4795c-7ff4-4cd9-b979-77252b7c8f8d",
      "metadata": {
        "id": "8cc4795c-7ff4-4cd9-b979-77252b7c8f8d"
      },
      "outputs": [],
      "source": [
        "min\n",
        "max\n",
        "l2=l1\n",
        "l2.sort()\n",
        "l2\n",
        "\n",
        "f\"{min} {max}\"\n",
        "print\n"
      ]
    },
    {
      "cell_type": "code",
      "execution_count": null,
      "id": "d31edd88-bd1f-40db-ac4d-b27322ec3cca",
      "metadata": {
        "id": "d31edd88-bd1f-40db-ac4d-b27322ec3cca",
        "outputId": "ddc2cb54-d8c7-4db1-a4a1-74929d9353b3"
      },
      "outputs": [
        {
          "data": {
            "text/plain": [
              "'harry 12299933'"
            ]
          },
          "execution_count": 3,
          "metadata": {},
          "output_type": "execute_result"
        }
      ],
      "source": [
        "s='harry 12299933'\n",
        "s.strip()"
      ]
    },
    {
      "cell_type": "code",
      "execution_count": null,
      "id": "3bd2212b-5b14-4d05-8343-7ca506c8cb61",
      "metadata": {
        "id": "3bd2212b-5b14-4d05-8343-7ca506c8cb61",
        "outputId": "5deae646-78d3-499b-e332-17199d79b92f"
      },
      "outputs": [
        {
          "data": {
            "text/plain": [
              "[33, 1, 3]"
            ]
          },
          "execution_count": 47,
          "metadata": {},
          "output_type": "execute_result"
        }
      ],
      "source": [
        "l1"
      ]
    },
    {
      "cell_type": "code",
      "execution_count": null,
      "id": "3a8d6989-7cbf-4fb8-ae70-9d92bcfad8ae",
      "metadata": {
        "id": "3a8d6989-7cbf-4fb8-ae70-9d92bcfad8ae"
      },
      "outputs": [],
      "source": []
    },
    {
      "cell_type": "code",
      "execution_count": null,
      "id": "1bf47166-b16b-41ff-9c5b-223e89ef9a20",
      "metadata": {
        "id": "1bf47166-b16b-41ff-9c5b-223e89ef9a20"
      },
      "outputs": [],
      "source": []
    },
    {
      "cell_type": "code",
      "execution_count": null,
      "id": "87412e59-011a-40c2-9e4a-bcda30062738",
      "metadata": {
        "id": "87412e59-011a-40c2-9e4a-bcda30062738"
      },
      "outputs": [],
      "source": []
    },
    {
      "cell_type": "code",
      "execution_count": null,
      "id": "2bda4157-f324-48f5-99cd-6370ff487af7",
      "metadata": {
        "id": "2bda4157-f324-48f5-99cd-6370ff487af7",
        "outputId": "be43cd7f-dedd-4abf-ce35-9ec50fa4b183"
      },
      "outputs": [
        {
          "name": "stdout",
          "output_type": "stream",
          "text": [
            "The price is 44 dollars\n"
          ]
        }
      ],
      "source": [
        "ee=44\n",
        "txt = f\"The price is {ee} dollars\"\n",
        "print(txt)"
      ]
    },
    {
      "cell_type": "code",
      "execution_count": null,
      "id": "d29667b0-ef34-41da-bcca-f61c88edb545",
      "metadata": {
        "id": "d29667b0-ef34-41da-bcca-f61c88edb545",
        "outputId": "2e293dcb-eb64-4d9b-ca17-ab02fc4214d0"
      },
      "outputs": [
        {
          "name": "stdout",
          "output_type": "stream",
          "text": [
            "An exception occurred\n"
          ]
        }
      ],
      "source": [
        "try:\n",
        "  print(x)\n",
        "except:\n",
        "  print(\"An exception occurred\")"
      ]
    },
    {
      "cell_type": "code",
      "execution_count": null,
      "id": "797259e0-2976-40a1-ab04-f6c09d7c5569",
      "metadata": {
        "id": "797259e0-2976-40a1-ab04-f6c09d7c5569",
        "outputId": "81ab4d42-b60b-4759-ee5e-13f34ee25b21"
      },
      "outputs": [
        {
          "name": "stdout",
          "output_type": "stream",
          "text": [
            "['he']\n"
          ]
        }
      ],
      "source": [
        "import re\n",
        "\n",
        "pattern = r'\\b[Hh][eE]\\b'\n",
        "txt = \"he rain in Spain The rain in Spain\"\n",
        "# x = re.search(\"^The.*Spain$\", txt)\n",
        "x = re.findall(pattern, txt)\n",
        "print(x)"
      ]
    },
    {
      "cell_type": "code",
      "execution_count": null,
      "id": "57f1e144-64b3-4006-9e22-ab581b0b57a1",
      "metadata": {
        "id": "57f1e144-64b3-4006-9e22-ab581b0b57a1",
        "outputId": "f37ca795-c642-484d-fb7f-07f5f3c48907"
      },
      "outputs": [
        {
          "name": "stdout",
          "output_type": "stream",
          "text": [
            "The first white-space character is located in position: 3\n"
          ]
        },
        {
          "name": "stderr",
          "output_type": "stream",
          "text": [
            "<>:4: SyntaxWarning: invalid escape sequence '\\s'\n",
            "<>:4: SyntaxWarning: invalid escape sequence '\\s'\n",
            "C:\\Users\\tnagisetty\\AppData\\Local\\Temp\\ipykernel_19308\\3440849899.py:4: SyntaxWarning: invalid escape sequence '\\s'\n",
            "  x = re.search(\"\\s\", txt)\n"
          ]
        }
      ],
      "source": [
        "import re\n",
        "\n",
        "txt = \"The rain in Spain\"\n",
        "x = re.search(\"\\s\", txt)\n",
        "\n",
        "print(\"The first white-space character is located in position:\", x.start())"
      ]
    },
    {
      "cell_type": "code",
      "execution_count": null,
      "id": "c51bf20a-8d5f-48bf-b98d-6778ab2ed38e",
      "metadata": {
        "id": "c51bf20a-8d5f-48bf-b98d-6778ab2ed38e",
        "outputId": "b715ba7e-4796-4e47-a13c-158b4b1cac7a"
      },
      "outputs": [
        {
          "data": {
            "text/plain": [
              "3"
            ]
          },
          "execution_count": 31,
          "metadata": {},
          "output_type": "execute_result"
        }
      ],
      "source": [
        "l1=[1,23,3]\n",
        "len(l1)"
      ]
    },
    {
      "cell_type": "code",
      "execution_count": null,
      "id": "3a234b59-c28c-4e67-893e-46b1e05a92b9",
      "metadata": {
        "id": "3a234b59-c28c-4e67-893e-46b1e05a92b9"
      },
      "outputs": [],
      "source": []
    },
    {
      "cell_type": "code",
      "execution_count": null,
      "id": "67c15e3f-926f-4bda-a837-5d855b5801b3",
      "metadata": {
        "id": "67c15e3f-926f-4bda-a837-5d855b5801b3",
        "outputId": "788a5ca4-0972-4c9b-b857-f48f90aa3f4a"
      },
      "outputs": [
        {
          "name": "stdout",
          "output_type": "stream",
          "text": [
            "sl222\n"
          ]
        }
      ],
      "source": [
        "s=\"sl222rc\"\n",
        "s1=\"\"\n",
        "s=s.strip(\"rc\")\n",
        "s\n",
        "print(s)"
      ]
    },
    {
      "cell_type": "code",
      "execution_count": null,
      "id": "60f42a47-1575-456a-a01f-061f2a6fedf9",
      "metadata": {
        "id": "60f42a47-1575-456a-a01f-061f2a6fedf9"
      },
      "outputs": [],
      "source": [
        "SELECT *\n",
        "  FROM tutorial.billboard_top_100_year_end\n",
        " WHERE group_name ilike '%ludacris%'"
      ]
    },
    {
      "cell_type": "code",
      "execution_count": null,
      "id": "f6eea07d-78ad-487b-a936-40526983996f",
      "metadata": {
        "id": "f6eea07d-78ad-487b-a936-40526983996f"
      },
      "outputs": [],
      "source": []
    },
    {
      "cell_type": "code",
      "execution_count": null,
      "id": "b6ed58af-9513-450d-8236-a943b3bb99d2",
      "metadata": {
        "id": "b6ed58af-9513-450d-8236-a943b3bb99d2",
        "outputId": "58d4dd1e-ac0b-4cd5-d66b-185bdcb948fa"
      },
      "outputs": [
        {
          "data": {
            "text/plain": [
              "[1, 2, 3]"
            ]
          },
          "execution_count": 20,
          "metadata": {},
          "output_type": "execute_result"
        }
      ],
      "source": [
        "A= [1,2,3,4]\n",
        "A1= [1,2,3,5,6]\n",
        "#common in two lists\n",
        "dir(set)\n",
        "list(set(A).intersection(set(A1)))"
      ]
    },
    {
      "cell_type": "code",
      "execution_count": null,
      "id": "00e1a57d-638f-4f8a-a4d5-66600829c52c",
      "metadata": {
        "id": "00e1a57d-638f-4f8a-a4d5-66600829c52c",
        "outputId": "e121dd02-edcc-4b36-e4fc-7f0ca08c4c21"
      },
      "outputs": [
        {
          "data": {
            "text/plain": [
              "'3 occurred 3 times.\\n33 occurred 2 times.\\n333 occurred 2 times.\\n2 occurred 2 times.\\n'"
            ]
          },
          "execution_count": 108,
          "metadata": {},
          "output_type": "execute_result"
        }
      ],
      "source": [
        "A= [1,3,33,333,333,33,3,2,2,3,4]\n",
        "\n",
        "def occr(A):\n",
        "#get occrance of each as a dict\n",
        "    l={}\n",
        "    for x in range(0,len(A)):\n",
        "        if A[x] in l:\n",
        "            l[A[x]]+=1\n",
        "        else:\n",
        "            l[A[x]]=1\n",
        "#get duplicates of each as a dict\n",
        "    loccr={}\n",
        "    for x in l:\n",
        "        if l[x]>1:\n",
        "            loccr[x]=l[x]\n",
        "\n",
        "    string1=''\n",
        "    for x in loccr:\n",
        "        string1 += f\"{x} occurred {loccr[x]} times.\\n\"\n",
        "    return string1\n",
        "\n",
        "\n",
        "occr(A)"
      ]
    },
    {
      "cell_type": "code",
      "execution_count": null,
      "id": "bdcdb0f3-b63d-4288-b94f-2081ffe4f67a",
      "metadata": {
        "id": "bdcdb0f3-b63d-4288-b94f-2081ffe4f67a",
        "outputId": "a07be395-2f50-4d58-97c7-c856206ac85d"
      },
      "outputs": [
        {
          "data": {
            "text/plain": [
              "[4, 5, 1, 2, 3]"
            ]
          },
          "execution_count": 122,
          "metadata": {},
          "output_type": "execute_result"
        }
      ],
      "source": [
        "l=[1,2,3,4,5]\n",
        "\n",
        "#x elements left\n",
        "clocked=[]\n",
        "toshiftn=2\n",
        "for ele in l:\n",
        "    aftershiftelement=l.index(ele)-(toshiftn)\n",
        "    clocked.append(l[aftershiftelement])\n",
        "clocked"
      ]
    },
    {
      "cell_type": "code",
      "execution_count": null,
      "id": "ce2c994d-5f8f-40ac-a907-d64ecaa49384",
      "metadata": {
        "id": "ce2c994d-5f8f-40ac-a907-d64ecaa49384",
        "outputId": "b0ab20d5-55a8-43d4-cd6e-a010824b7693"
      },
      "outputs": [
        {
          "name": "stdout",
          "output_type": "stream",
          "text": [
            "1\n",
            "3\n",
            "2\n",
            "4\n"
          ]
        }
      ],
      "source": [
        "q={1: 1, 3: 3, 2: 2, 4: 1}\n",
        "for x in q:\n",
        "    print(x)"
      ]
    },
    {
      "cell_type": "code",
      "execution_count": null,
      "id": "e99052e2-cdce-4337-8f86-403b2ec7426c",
      "metadata": {
        "id": "e99052e2-cdce-4337-8f86-403b2ec7426c",
        "outputId": "c2191a68-edc9-4367-a099-6f980c6c6101"
      },
      "outputs": [
        {
          "name": "stdout",
          "output_type": "stream",
          "text": [
            "55\n"
          ]
        },
        {
          "data": {
            "text/plain": [
              "[1, 2, 3, 4, 55]"
            ]
          },
          "execution_count": 166,
          "metadata": {},
          "output_type": "execute_result"
        }
      ],
      "source": [
        "#find the largest digits\n",
        "\n",
        "# find the largest\n",
        "# find the second larget\n",
        "# if first and second largest are not neighbours, ignore first largest and second largest as the largest.\n",
        "\n",
        "y= [1,4,2, 3,55]\n",
        "y1=y\n",
        "y1.sort()\n",
        "largest=(y1[len(y1)-1])\n",
        "second_larget=(y1[len(y1)-2])\n",
        "if (y.index(largest) == (y.index(second_larget))+1):\n",
        "    return\n"
      ]
    },
    {
      "cell_type": "code",
      "execution_count": null,
      "id": "f7ed0dcd-a9cc-48d5-9551-74f73efbae84",
      "metadata": {
        "id": "f7ed0dcd-a9cc-48d5-9551-74f73efbae84",
        "outputId": "dab6f562-6608-4578-b5d5-95be65dd4f70"
      },
      "outputs": [
        {
          "ename": "TypeError",
          "evalue": "insert expected 2 arguments, got 1",
          "output_type": "error",
          "traceback": [
            "\u001b[1;31m---------------------------------------------------------------------------\u001b[0m",
            "\u001b[1;31mTypeError\u001b[0m                                 Traceback (most recent call last)",
            "Cell \u001b[1;32mIn[53], line 9\u001b[0m\n\u001b[0;32m      7\u001b[0m         n1\u001b[38;5;241m.\u001b[39minsert(a)\n\u001b[0;32m      8\u001b[0m     \u001b[38;5;28;01melse\u001b[39;00m:\n\u001b[1;32m----> 9\u001b[0m         n2\u001b[38;5;241m.\u001b[39minsert(a)\n\u001b[0;32m     11\u001b[0m \u001b[38;5;28mprint\u001b[39m(n1,n2)\n",
            "\u001b[1;31mTypeError\u001b[0m: insert expected 2 arguments, got 1"
          ]
        }
      ],
      "source": [
        "y= [1,4,2, 3,55]\n",
        "\n",
        "n1=[]\n",
        "n2=[]\n",
        "for a in y:\n",
        "    if a% 2 == 0:\n",
        "        n1.insert(a)\n",
        "    else:\n",
        "        n2.insert(a)\n",
        "\n",
        "print(n1,n2)\n"
      ]
    },
    {
      "cell_type": "code",
      "execution_count": null,
      "id": "649a4c4d-4f75-4f7c-8c59-77226887e411",
      "metadata": {
        "id": "649a4c4d-4f75-4f7c-8c59-77226887e411"
      },
      "outputs": [],
      "source": [
        "def adjective_to_verb(sentence, index):\n",
        "    \"\"\"Change the adjective within the sentence to a verb.\n",
        "\n",
        "    :param sentence: str - that uses the word in sentence.\n",
        "    :param index: int - index of the word to remove and transform.\n",
        "    :return: str - word that changes the extracted adjective to a verb.\n",
        "\n",
        "    For example, (\"It got dark as the sun set.\", 2) becomes \"darken\".\n",
        "    \"\"\"\n",
        "    splitted=sentence.split(\" \")\n",
        "    verbed = splitted[index]+\"en\"\n",
        "    return verbed\n",
        "\n",
        "sentence='Look at the bright sky.'\n",
        "index\n",
        "adjective_to_verb(sentence, index):"
      ]
    },
    {
      "cell_type": "code",
      "execution_count": null,
      "id": "c049c508-c88d-4c17-a589-e8705990c2af",
      "metadata": {
        "id": "c049c508-c88d-4c17-a589-e8705990c2af",
        "outputId": "d36af427-99dd-408e-9691-5659bcc55931"
      },
      "outputs": [
        {
          "ename": "KeyboardInterrupt",
          "evalue": "",
          "output_type": "error",
          "traceback": [
            "\u001b[1;31m---------------------------------------------------------------------------\u001b[0m",
            "\u001b[1;31mKeyboardInterrupt\u001b[0m                         Traceback (most recent call last)",
            "Cell \u001b[1;32mIn[7], line 24\u001b[0m\n\u001b[0;32m     22\u001b[0m    cardsatevenspositons\u001b[38;5;241m.\u001b[39mappend(element)\n\u001b[0;32m     23\u001b[0m \u001b[38;5;28;01melse\u001b[39;00m:\n\u001b[1;32m---> 24\u001b[0m     cardsatoddpositons\u001b[38;5;241m.\u001b[39mappend(element)\n",
            "\u001b[1;31mKeyboardInterrupt\u001b[0m: "
          ]
        }
      ],
      "source": [
        "\n",
        "b=[1,2,4,9,11]\n",
        "b1=[1,4,11]\n",
        "\n",
        "n=len(b)\n",
        "\n",
        "oddpositions=[]\n",
        "evenpositions=[]\n",
        "\n",
        "for x in range(n):\n",
        "    if x % 2 == 0:\n",
        "        evenpositions.append(x)\n",
        "    else:\n",
        "        oddpositions.append(x)\n",
        "\n",
        "if i need to get elements from b=[1,2,4,9,11]  - only elements in the index [2,4,6]\n",
        "indexes =[2,4,6]\n",
        "cardsatevenspositons=[]\n",
        "cardsatoddpositons=[]\n",
        "while x in evenpositions:\n",
        "    for element in b:\n",
        "        if b.index(element) == x:\n",
        "           cardsatevenspositons.append(element)\n",
        "        else:\n",
        "            cardsatoddpositons.append(element)\n",
        "\n",
        "\n",
        "\n",
        "\n",
        "\n",
        "\n",
        "\n",
        "\n",
        "\n",
        "\n",
        "\n"
      ]
    },
    {
      "cell_type": "code",
      "execution_count": null,
      "id": "21bf0bfa-7565-47e8-9458-0b0d37da4976",
      "metadata": {
        "id": "21bf0bfa-7565-47e8-9458-0b0d37da4976",
        "outputId": "85b930a7-4bb3-44d7-a2ee-62a9015f66a2"
      },
      "outputs": [
        {
          "name": "stdout",
          "output_type": "stream",
          "text": [
            "[4, 11]\n"
          ]
        }
      ],
      "source": [
        "b = [1, 2, 4, 9, 11]\n",
        "indices = [2, 4, 6]\n",
        "\n",
        "# # Using list comprehension\n",
        "# result = [b[i] for i in indices if i < len(b)]\n",
        "\n",
        "result=[]\n",
        "for i in indices:\n",
        "    if i<len(b):\n",
        "        result.append(b[i])\n",
        "\n",
        "\n",
        "print(result)  # Output: [4, 11]"
      ]
    },
    {
      "cell_type": "code",
      "execution_count": null,
      "id": "dda7f019-7b11-4031-b825-6df93206d9c1",
      "metadata": {
        "id": "dda7f019-7b11-4031-b825-6df93206d9c1",
        "outputId": "0e70a3f7-07ab-452b-caf4-dd76c796d38f"
      },
      "outputs": [
        {
          "name": "stdout",
          "output_type": "stream",
          "text": [
            "[1, 4, 11] [2, 9]\n"
          ]
        }
      ],
      "source": [
        "hand=[1, 2, 4, 9, 11]\n",
        "even_indices = hand[::2]\n",
        "odd_indices = hand[1::2]\n",
        "print(even_indices,odd_indices)"
      ]
    },
    {
      "cell_type": "code",
      "execution_count": null,
      "id": "e50ffdab-26d6-4f31-8885-921f1bb81156",
      "metadata": {
        "id": "e50ffdab-26d6-4f31-8885-921f1bb81156"
      },
      "outputs": [],
      "source": [
        "import sqlite3\n",
        "con = sqlite3.connect(\"tutorial.db\")"
      ]
    },
    {
      "cell_type": "code",
      "execution_count": null,
      "id": "a416ae4f-3530-4f12-a0ff-1e5731a88f44",
      "metadata": {
        "id": "a416ae4f-3530-4f12-a0ff-1e5731a88f44",
        "outputId": "761962c3-4a6a-41e4-abea-94461313de7d"
      },
      "outputs": [
        {
          "data": {
            "text/plain": [
              "('movie',)"
            ]
          },
          "execution_count": 7,
          "metadata": {},
          "output_type": "execute_result"
        }
      ],
      "source": [
        "cur = con.cursor()\n",
        "cur.execute(\"CREATE TABLE movie(title, year, score)\")\n",
        "res = cur.execute(\"SELECT name FROM sqlite_master\")\n",
        "res.fetchone()\n"
      ]
    },
    {
      "cell_type": "code",
      "execution_count": null,
      "id": "7a7970f9-1914-43f8-82bf-68a9ed079f3f",
      "metadata": {
        "id": "7a7970f9-1914-43f8-82bf-68a9ed079f3f"
      },
      "outputs": [],
      "source": [
        "cur.execute(\"\"\"\n",
        "    INSERT INTO movie VALUES\n",
        "        ('Monty Python and the Holy Grail', 1975, 8.2),\n",
        "        ('And Now for Something Completely Different', 1971, 7.5)\n",
        "\"\"\")\n",
        "\n",
        "con.commit()"
      ]
    },
    {
      "cell_type": "code",
      "execution_count": null,
      "id": "26af706d-2447-4984-a8e0-47fabdaaf982",
      "metadata": {
        "id": "26af706d-2447-4984-a8e0-47fabdaaf982",
        "outputId": "1c2686ee-5f81-4c5c-91a4-d8a031b45252"
      },
      "outputs": [
        {
          "data": {
            "text/plain": [
              "[(8.2,), (7.5,), (8.2,), (7.5,)]"
            ]
          },
          "execution_count": 13,
          "metadata": {},
          "output_type": "execute_result"
        }
      ],
      "source": [
        "res = cur.execute(\"SELECT score FROM movie\")\n",
        "res.fetchall()"
      ]
    },
    {
      "cell_type": "code",
      "execution_count": null,
      "id": "11f5c639-6277-4ef1-bcf1-26c2fe8dbac0",
      "metadata": {
        "id": "11f5c639-6277-4ef1-bcf1-26c2fe8dbac0",
        "outputId": "19b63340-61f1-4e5b-8a20-b45bd7417153"
      },
      "outputs": [
        {
          "ename": "TypeError",
          "evalue": "unsupported operand type(s) for ** or pow(): 'str' and 'int'",
          "output_type": "error",
          "traceback": [
            "\u001b[1;31m---------------------------------------------------------------------------\u001b[0m",
            "\u001b[1;31mTypeError\u001b[0m                                 Traceback (most recent call last)",
            "Cell \u001b[1;32mIn[23], line 2\u001b[0m\n\u001b[0;32m      1\u001b[0m e\u001b[38;5;241m=\u001b[39m\u001b[38;5;124m\"\u001b[39m\u001b[38;5;124mss\u001b[39m\u001b[38;5;124m\"\u001b[39m\n\u001b[1;32m----> 2\u001b[0m e\u001b[38;5;241m*\u001b[39m\u001b[38;5;241m*\u001b[39m\u001b[38;5;241m2\u001b[39m\n",
            "\u001b[1;31mTypeError\u001b[0m: unsupported operand type(s) for ** or pow(): 'str' and 'int'"
          ]
        }
      ],
      "source": [
        "e=\"ss\"\n",
        "e**2"
      ]
    },
    {
      "cell_type": "code",
      "execution_count": null,
      "id": "03a1f8c6-86da-4edf-b2bd-e157081d6e8b",
      "metadata": {
        "id": "03a1f8c6-86da-4edf-b2bd-e157081d6e8b",
        "outputId": "431b26fd-15d4-4a5b-bf1d-7a3a0d9ab5dc"
      },
      "outputs": [
        {
          "ename": "IndentationError",
          "evalue": "expected an indented block after function definition on line 1 (2824542984.py, line 2)",
          "output_type": "error",
          "traceback": [
            "\u001b[1;36m  Cell \u001b[1;32mIn[15], line 2\u001b[1;36m\u001b[0m\n\u001b[1;33m    self.name = name\u001b[0m\n\u001b[1;37m    ^\u001b[0m\n\u001b[1;31mIndentationError\u001b[0m\u001b[1;31m:\u001b[0m expected an indented block after function definition on line 1\n"
          ]
        }
      ],
      "source": [
        "def __init__(self, name, age):\n",
        "self.name = name\n",
        "self.age = age\n",
        "def __str__(self):\n",
        "return f\"{self.name}({self.age})\"\n",
        "p1 = Person(\"John\", 36)\n",
        "print(p1)\n"
      ]
    },
    {
      "cell_type": "code",
      "execution_count": null,
      "id": "5a740f29-1b97-4b5f-a3c5-8fd5f36f96f5",
      "metadata": {
        "id": "5a740f29-1b97-4b5f-a3c5-8fd5f36f96f5",
        "outputId": "efe72ecf-925e-4796-de80-82ba640e725e"
      },
      "outputs": [
        {
          "name": "stdin",
          "output_type": "stream",
          "text": [
            " 4 <!--[if IE 9]>IE9-specific content <![endif]--> <div> Welcome to HackerRank</div> <!--[if IE 9]>IE9-specific content<![endif]-->\n"
          ]
        }
      ],
      "source": [
        "d = input()"
      ]
    },
    {
      "cell_type": "code",
      "execution_count": null,
      "id": "b785777b-77b2-4492-a891-dec55ca8bf31",
      "metadata": {
        "id": "b785777b-77b2-4492-a891-dec55ca8bf31",
        "outputId": "3eae76ef-dda3-4dd8-b9b1-0e6451aae9dd"
      },
      "outputs": [
        {
          "data": {
            "text/plain": [
              "['4 <!--[if IE 9]>IE9-specific content <![endif]--> <div> Welcome to HackerRank</div> <!--[if IE 9]>IE9-specific content<![endif]-->']"
            ]
          },
          "execution_count": 29,
          "metadata": {},
          "output_type": "execute_result"
        }
      ],
      "source": [
        "d.split('\\n')\n"
      ]
    },
    {
      "cell_type": "code",
      "execution_count": null,
      "id": "265cd8ae-d020-46cd-b13c-2a8da479a192",
      "metadata": {
        "id": "265cd8ae-d020-46cd-b13c-2a8da479a192",
        "outputId": "d1b40000-a375-49f8-f758-2e7b086a8070"
      },
      "outputs": [
        {
          "name": "stdout",
          "output_type": "stream",
          "text": [
            "1\n",
            "2\n",
            "3\n",
            "4\n",
            "5\n"
          ]
        }
      ],
      "source": [
        "a= [1,2,3,4,5]\n",
        "for n in a:\n",
        "    if 1 <= n <= 5:\n",
        "    # n is even and in the range of 2 to 5\n",
        "        print(n)\n"
      ]
    },
    {
      "cell_type": "code",
      "execution_count": null,
      "id": "b3529fb2-24e1-4ebd-8aaf-eee977e19cce",
      "metadata": {
        "id": "b3529fb2-24e1-4ebd-8aaf-eee977e19cce",
        "outputId": "15a5ca09-8756-4c45-c753-1c008620a233"
      },
      "outputs": [
        {
          "name": "stdout",
          "output_type": "stream",
          "text": [
            "Inside function, counter is 1\n",
            "Outside function, counter is 1\n"
          ]
        }
      ],
      "source": [
        "# Define a global variable\n",
        "counter = 0\n",
        "\n",
        "def increment_global():\n",
        "    global counter\n",
        "    counter += 1\n",
        "    print(f\"Inside function, counter is {counter}\")\n",
        "\n",
        "# Call the function\n",
        "increment_global()  # Inside function, counter is 1\n",
        "\n",
        "# Access the global variable\n",
        "print(f\"Outside function, counter is {counter}\")  # Outside function, counter is 1\n"
      ]
    },
    {
      "cell_type": "code",
      "execution_count": null,
      "id": "0c7b2c32-042d-489f-bd81-24a8da9597d7",
      "metadata": {
        "id": "0c7b2c32-042d-489f-bd81-24a8da9597d7",
        "outputId": "75e4dcfc-102d-4632-8c67-6f0a6eeb1bf0"
      },
      "outputs": [
        {
          "data": {
            "text/plain": [
              "[2, 3, 4]"
            ]
          },
          "execution_count": 170,
          "metadata": {},
          "output_type": "execute_result"
        }
      ],
      "source": [
        "# v=[1,2,3]\n",
        "# v1=[x+1 for x in v]\n",
        "# v1\n",
        "v=[1,2,3]\n",
        "v1=[x+1 for x in v]\n",
        "v1\n",
        "\n"
      ]
    },
    {
      "cell_type": "code",
      "execution_count": null,
      "id": "f6716173-8cfe-4cb0-92b2-0ea9c97bd1b9",
      "metadata": {
        "id": "f6716173-8cfe-4cb0-92b2-0ea9c97bd1b9",
        "outputId": "34a0f9b9-e2eb-49bd-904c-dd8caa6bf940"
      },
      "outputs": [
        {
          "name": "stdout",
          "output_type": "stream",
          "text": [
            "120\n"
          ]
        }
      ],
      "source": [
        "def factorial(n):\n",
        "    if n == 0:\n",
        "        return 1\n",
        "    else:\n",
        "        return n * factorial(n - 1)\n",
        "\n",
        "# Example usage\n",
        "print(factorial(5))  # Output: 120"
      ]
    },
    {
      "cell_type": "code",
      "execution_count": null,
      "id": "e7ce0e32-24a3-41af-9cb5-0578a6d93af0",
      "metadata": {
        "id": "e7ce0e32-24a3-41af-9cb5-0578a6d93af0",
        "outputId": "21aa9483-c2ad-4cb1-8975-6ac1bacd8040"
      },
      "outputs": [
        {
          "name": "stdout",
          "output_type": "stream",
          "text": [
            "The tile of the book is ee\n",
            "The tile of the book is eee1\n"
          ]
        }
      ],
      "source": [
        "class book_shop:\n",
        "\n",
        "    # constructor\n",
        "    def __init__(self, title,req):\n",
        "        self.title = title\n",
        "        self.req= req\n",
        "\n",
        "    # Sample method\n",
        "    def book(self):\n",
        "        print('The tile of the book is', self.title)\n",
        "        print('The tile of the book is', self.req)\n",
        "\n",
        "\n",
        "b = book_shop(\"ee\",\"eee1\")\n",
        "b.book()\n",
        "# The tile of the book is Sandman"
      ]
    }
  ],
  "metadata": {
    "kernelspec": {
      "display_name": "Python 3 (ipykernel)",
      "language": "python",
      "name": "python3"
    },
    "language_info": {
      "codemirror_mode": {
        "name": "ipython",
        "version": 3
      },
      "file_extension": ".py",
      "mimetype": "text/x-python",
      "name": "python",
      "nbconvert_exporter": "python",
      "pygments_lexer": "ipython3",
      "version": "3.12.4"
    },
    "colab": {
      "provenance": [],
      "include_colab_link": true
    }
  },
  "nbformat": 4,
  "nbformat_minor": 5
}