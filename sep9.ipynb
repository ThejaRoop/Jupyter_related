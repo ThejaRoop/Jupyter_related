{
  "cells": [
    {
      "cell_type": "markdown",
      "metadata": {
        "id": "view-in-github",
        "colab_type": "text"
      },
      "source": [
        "<a href=\"https://colab.research.google.com/github/ThejaRoop/Jupyter_related/blob/main/sep9.ipynb\" target=\"_parent\"><img src=\"https://colab.research.google.com/assets/colab-badge.svg\" alt=\"Open In Colab\"/></a>"
      ]
    },
    {
      "cell_type": "code",
      "execution_count": null,
      "id": "8efed7e3-7cd3-4c6d-915f-dac233c3a5f7",
      "metadata": {
        "id": "8efed7e3-7cd3-4c6d-915f-dac233c3a5f7"
      },
      "outputs": [],
      "source": [
        "Apache Kafka & AWS MSK( Managed streaming for Kafka)\n",
        "(producers, topics, consumers)\n",
        "zookeeper - coordinating messages\n",
        "(example - radio)\n",
        "Streaming vs batch\n",
        "SQS - for event driven architecture\n",
        "example: Client machine/ Application - sends data or messagelike ingo - Apache MSK cluster ---> connector\n",
        "(custom Connector)----->sends to S3   ---S3 bucket\n",
        "\n",
        "\n",
        "Framework Design\n",
        "\n",
        "\n",
        "2) microservice architecture - logging, error handling - communicated via -  message queues (e.g., RabbitMQ)\n",
        "1) modular framework  - handle different components like payment gateways, fraud detection, and reporting\n",
        "3) Allowed for independent scaling of components, so when the service experienced high load\n",
        "\n",
        "\n",
        "Pattern in designing\n",
        "2)API Gateway: We used an API Gateway to expose services,\n",
        "    handling routing and security in one place, ensuring consistency and reducing coupling between services.\n",
        "\n",
        "1) Event-Driven Architecture: Services communicated through events, making them loosely coupled.\n",
        "        For example, a User Created event triggered downstream services like user analytics\n",
        "        without tightly coupling the user service with those services.\n",
        "\n",
        "3)Repository Pattern: Used to abstract data access. ensure that services could switch databases\n",
        "or storage engines without affecting business logic.\n",
        "\n",
        "handle backward compatibility\n",
        "Deprecation Warnings:\n",
        "1. internal Python framework for data pipelines used by several teams. At one point,\n",
        "we needed to refactor the logging system to improve performance\n",
        "\n",
        "writing clean, Pythonic code\n",
        " with statement for resource management."
      ]
    },
    {
      "cell_type": "code",
      "execution_count": null,
      "id": "c659adb1-d4c1-4326-94ba-5d6899821e6f",
      "metadata": {
        "id": "c659adb1-d4c1-4326-94ba-5d6899821e6f"
      },
      "outputs": [],
      "source": [
        "1. Vertical scaling - refers to increasing the resources (such as CPU, memory, or storage) of a single machine to\n",
        "    improve its performance or handle higher workloads.\n",
        "2. Horizontal scaling -adding more servers to a system to distribute the workload and increase overall capacity and performance.\n",
        "3. Load balancer - A load balancer is a network device or software that evenly distributes\n",
        "        incoming network traffic across multiple servers or resources to optimize performance and ensure high availability.\n",
        "4. Content delivery networks - Content Delivery Networks (CDNs) are distributed networks of servers\n",
        "    located geographically closer to end users, designed to deliver web content efficiently by caching and serving it from nearby locations\n",
        "5. here instant and continuous data exchange between clients and servers is required.\n",
        "17. Sharding - Sharding is a technique in database management where data is horizontally divided\n",
        "            and distributed across multiple servers or nodes to improve performance, scalability, and load balancing.\n",
        "20. Message Queues - Kind of like databases because they have durable storage.\n",
        "    They can be replicated for redunduncy or sharded for scalability. This can be used in task distribution and workload decoupling."
      ]
    },
    {
      "cell_type": "code",
      "execution_count": null,
      "id": "e0f2dab3-6dcb-43ef-a0a8-305cb9298a86",
      "metadata": {
        "id": "e0f2dab3-6dcb-43ef-a0a8-305cb9298a86"
      },
      "outputs": [],
      "source": [
        "API design\n",
        "- Data Formats - lightweight and human-readable format - JSON, donot use serialization that is python specific like pickle\n",
        " - Error Handling - status codes to indicate success or failure (e.g., 200, 400, 500), error information in the response body\n",
        "- Security - authentication mechanisms (e.g., OAuth, API keys), Authorization: access to different API based on user roles or permissions.\n",
        "- Data Security: Protect sensitive data using encryption\n",
        "- Caching: Implement caching mechanisms\n",
        "- Rate Limiting: Prevent abuse by limiting\n",
        "\n",
        "SOLID Principles\n",
        "\n",
        "1. Single Responsibility Principle (SRP): Violation: A single class handles both message processing and user authentication.\n",
        "2. Open-Closed Principle (OCP): core chat logic is tightly coupled to specific messaging protocols (e.g., WebSocket, HTTP).\n",
        "     Introduce an abstract MessagingProtocol interface and implement concrete classes for different protocols.\n",
        "3) Dependency Inversion Principle (DIP): chat logic depends directly on specific messaging libraries.\n",
        "             abstraction layer (e.g., a MessagingClient interface) that defines the common operations needed for messaging.\n",
        "            allows the application to be decoupled from specific libraries\n",
        "\n",
        "DRY Principle\n",
        "1. Avoid code duplication:\n",
        "2. Use configuration files\n",
        "3. Leverage templates and generators:\n",
        "\n",
        "\n",
        "\n",
        ""
      ]
    },
    {
      "cell_type": "code",
      "execution_count": null,
      "id": "b0265f01-9868-4469-83d6-e721afe8d494",
      "metadata": {
        "id": "b0265f01-9868-4469-83d6-e721afe8d494"
      },
      "outputs": [],
      "source": [
        "ETL (Extract, Transform, Load) processes are crucial for moving data between systems and ensuring its quality.\n",
        "    Effective data handling and cleaning are essential steps in this process.\n",
        "\n",
        "Key Data Handling Mechanisms\n",
        "Extraction:\n",
        "\n",
        "Data Sources: Identify and connect to various data sources like databases, files, APIs, and real-time feeds.\n",
        "Data Formats: Handle different data formats (CSV, JSON, XML, etc.) and ensure compatibility.\n",
        "Data Extraction Tools: Utilize tools like ETL pipelines or custom scripts to extract data efficiently.\n",
        "\n",
        "Transformation:\n",
        "\n",
        "Data Cleaning: Remove inconsistencies, errors, and duplicates.\n",
        "Data Standardization: Convert data to a consistent format (e.g., date, currency).\n",
        "Data Enrichment: Add missing information or context.\n",
        "Data Aggregation: Combine data from multiple sources.\n",
        "Data Validation: Ensure data integrity and compliance with business rules.\n",
        "Data Masking: Protect sensitive data by replacing or obfuscating it.\n",
        "Loading:\n",
        "\n",
        "Target Systems: Determine the destination for the transformed data (e.g., data warehouse, data mart).\n",
        "Data Formats: Ensure compatibility with the target system's data format.\n",
        "Load Mechanisms: Use appropriate methods like bulk loading, incremental loading, or change data capture.\n",
        "\n",
        "\n",
        "Data Cleaning Techniques\n",
        "Missing Value Handling:\n",
        "\n",
        "Imputation: Fill missing values with estimated values (e.g., mean, median, mode).\n",
        "Deletion: Remove rows or columns with too many missing values.\n",
        "Flag Missing Values: Mark missing values for analysis.\n",
        "Outlier Detection and Handling:\n",
        "\n",
        "Statistical Methods: Use techniques like Z-scores or IQR to identify outliers.\n",
        "Domain Knowledge: Apply domain-specific rules to detect outliers.\n",
        "Handling: Remove, replace, or cap outliers based on the context.\n",
        "Data Standardization:\n",
        "\n",
        "Format Conversion: Convert data to a consistent format (e.g., date, currency).\n",
        "Unit Conversion: Convert units to a standard format.\n",
        "Data Quality Rules: Enforce data quality rules to ensure consistency and accuracy.\n",
        "Data Deduplication:\n",
        "\n",
        "Record Linkage: Identify and merge duplicate records based on matching criteria.\n",
        "Hashing: Use hashing techniques to efficiently detect duplicates.\n",
        "\n",
        "Data Validation:\n",
        "Data Type Validation: Ensure data conforms to expected data types.\n",
        "Range Validation: Check if values fall within valid ranges.\n",
        "Consistency Checks: Verify data consistency across different fields.\n",
        "\n",
        "Real-World Challenges and Solutions\n",
        "Data Quality Issues: Address issues like missing values, inconsistencies, and outliers using the techniques mentioned above.\n",
        "Scalability: Handle large datasets and complex transformations efficiently.\n",
        "Data Governance: Implement data governance policies to ensure data quality, security, and compliance.\n",
        "ETL Tools: Leverage ETL tools like Informatica, Talend, or Apache Airflow to streamline the process.\n",
        "Automation: Automate ETL tasks for efficiency and reduce manual errors.\n",
        "\n",
        ""
      ]
    },
    {
      "cell_type": "code",
      "execution_count": null,
      "id": "bd3a7fa7-c74c-4947-ba23-6af375505b82",
      "metadata": {
        "id": "bd3a7fa7-c74c-4947-ba23-6af375505b82",
        "outputId": "4c56ce21-6b8f-4fed-a7fd-ac899f9c91a2"
      },
      "outputs": [
        {
          "data": {
            "text/plain": [
              "6"
            ]
          },
          "execution_count": 11,
          "metadata": {},
          "output_type": "execute_result"
        }
      ],
      "source": [
        "#kadene\n",
        "c=nums = [-2, 1, -3, 4, -1, 2, 1, -5, 4]\n",
        "\n",
        "\n",
        "def max_subarray(nums):\n",
        "    # Initialize the variables\n",
        "    current_sum = nums[0]\n",
        "    max_sum = nums[0]\n",
        "\n",
        "    # Loop through the array starting from the second element\n",
        "    for i in range(len(nums)):\n",
        "        # Update current_sum to be either the current element alone\n",
        "        # or the current element plus the previous current_sum\n",
        "        current_sum = max(nums[i], current_sum + nums[i])\n",
        "\n",
        "        # Update max_sum if current_sum is larger\n",
        "        max_sum = max(max_sum, current_sum)\n",
        "\n",
        "    return max_sum\n",
        "\n",
        "max_subarray(nums)"
      ]
    },
    {
      "cell_type": "code",
      "execution_count": null,
      "id": "bd40b499-db0a-40d7-b9c2-d25899a7f660",
      "metadata": {
        "id": "bd40b499-db0a-40d7-b9c2-d25899a7f660"
      },
      "outputs": [],
      "source": [
        "provide interesting coding challege questions related to DSA Binary Search with solutions\n",
        "\n",
        "# You are given an integer array nums sorted in ascending order (with distinct values), and it is rotated at some unknown pivot.\n",
        "# Given a target value, search the target and return its index. If not found, return -1.\n",
        "\n",
        "Input: nums = [4,5,6,7,0,1,2], target = 0\n",
        "Output: 4\n",
        "\n",
        "Input: nums = [4,5,6,7,0,1,2], target = 3\n",
        "Output: -1\n",
        "\n",
        "\n",
        "#A peak element is an element that is strictly greater than its neighbors. Given an integer array nums, find a peak element and return its index.\n",
        "print(find_peak_element([1,2,3,1]))  # Output: 2\n",
        "\n",
        "#Given a non-negative integer x, return the square root of x rounded down to the nearest integer.\n",
        "\n",
        "\n",
        "provide interesting coding challege questions related to DSA Linear Search with solutions\n",
        "\n",
        "Given a sorted array of distinct integers and a target value,\n",
        "return the index if the target is found. If not, return the index where it would be if it were inserted in order.\n",
        "Input: nums = [1,3,5,6], target = 5\n",
        "Output: 2\n",
        "Input: nums = [1,3,5,6], target = 2\n",
        "Output: 1\n",
        "\n",
        "Given an array nums containing n distinct numbers in the range [0, n], return the only number in the range that is missing from the array.\n",
        "Input: nums = [3,0,1]\n",
        "Output: 2\n",
        "Input: nums = [0,1]\n",
        "Output: 2\n",
        "\n",
        "\n",
        "Given a string s, find the first non-repeating character and return its index. If it does not exist, return -1.\n",
        "Input: s = \"leetcode\"\n",
        "Output: 0\n",
        "Input: s = \"loveleetcode\"\n",
        "Output: 2\n",
        "\n"
      ]
    },
    {
      "cell_type": "code",
      "execution_count": null,
      "id": "17a48fa7-e975-4e41-8741-bc946d90ccdd",
      "metadata": {
        "id": "17a48fa7-e975-4e41-8741-bc946d90ccdd",
        "outputId": "be7b0de8-d3ee-4023-fb2e-1f89dad01c7c"
      },
      "outputs": [
        {
          "name": "stdout",
          "output_type": "stream",
          "text": [
            "1\n",
            "None\n"
          ]
        }
      ],
      "source": [
        "a = 1\n",
        "def f():\n",
        "    global a\n",
        "    if False:\n",
        "        print (c)\n",
        "    else:\n",
        "        print(a)\n",
        "\n"
      ]
    },
    {
      "cell_type": "code",
      "execution_count": null,
      "id": "0b0c0f55-cd44-49b7-b667-f3a9dbac3406",
      "metadata": {
        "id": "0b0c0f55-cd44-49b7-b667-f3a9dbac3406",
        "outputId": "3d635b72-085c-4cf0-a04d-281ff47ad7cd"
      },
      "outputs": [
        {
          "ename": "ValueError",
          "evalue": "list.remove(x): x not in list",
          "output_type": "error",
          "traceback": [
            "\u001b[1;31m---------------------------------------------------------------------------\u001b[0m",
            "\u001b[1;31mValueError\u001b[0m                                Traceback (most recent call last)",
            "Cell \u001b[1;32mIn[26], line 3\u001b[0m\n\u001b[0;32m      1\u001b[0m c\u001b[38;5;241m=\u001b[39m[\u001b[38;5;241m1\u001b[39m,\u001b[38;5;241m2\u001b[39m,\u001b[38;5;241m3\u001b[39m,\u001b[38;5;241m4\u001b[39m]\n\u001b[0;32m      2\u001b[0m e\u001b[38;5;241m=\u001b[39m[\u001b[38;5;241m2\u001b[39m,\u001b[38;5;241m3\u001b[39m]\n\u001b[1;32m----> 3\u001b[0m c\u001b[38;5;241m.\u001b[39mremove(e)\n",
            "\u001b[1;31mValueError\u001b[0m: list.remove(x): x not in list"
          ]
        }
      ],
      "source": [
        "array = [[1,2,3],\n",
        "         [4,5,6],\n",
        "         [7,8,9]]\n",
        "snail(array) #=> [1,2,3,6,9,8,7,4,5]\n",
        "\n",
        "0[1,2,3] 1[3] 2[3]\n",
        "\n",
        "first index all, last elemnets from all , reverse of last\n",
        "\n"
      ]
    },
    {
      "cell_type": "code",
      "execution_count": null,
      "id": "c6814938-8c80-4039-a1af-2e26e9e291b2",
      "metadata": {
        "id": "c6814938-8c80-4039-a1af-2e26e9e291b2",
        "outputId": "ffb0e5de-fcb1-40bd-dbad-16504b61d429"
      },
      "outputs": [
        {
          "name": "stdout",
          "output_type": "stream",
          "text": [
            "1\n",
            "1\n",
            "2\n",
            "3\n",
            "1\n"
          ]
        }
      ],
      "source": [
        "#Given an integer array nums, return true if any value appears more than once in the array, otherwise return false.\n",
        "# Array with subarray problems - coding challenges\n",
        "# recursive problems\n",
        "\n",
        "# Given an array of integers nums, return the length of the longest consecutive sequence of elements.\n",
        "\n",
        "nums= [2,20,4,10,3,4,5]\n",
        "\n",
        "\n",
        "nextelement = nums[0]\n",
        "c = []\n",
        "maxlen = 0\n",
        "current = nums[0]  # Initialize current\n",
        "\n",
        "for a in range(1, len(nums)):\n",
        "    if nums[a] == current + 1:\n",
        "        c.append(nums[a])\n",
        "        current = nums[a]\n",
        "        currlen = len(c)\n",
        "    else:\n",
        "        maxlen = max(currlen, maxlen)\n",
        "        c = [nums[a]]  # Start a new sequence\n",
        "        current = nums[a]\n",
        "\n",
        "\n",
        "nextelement = nums[0]\n",
        "c=[]\n",
        "maxlen = 0\n",
        "current = nums[0]\n",
        "\n",
        "for a in range(0,len(nums)):\n",
        "    if nums[a]== nextelement :\n",
        "        c.append(nums[a])\n",
        "        current = nums[a]\n",
        "        nextelement = current +1\n",
        "        currlen = len(c)\n",
        "    else:\n",
        "        maxlen = max(currlen, maxlen)\n",
        "        c=[]\n",
        "        current = nums[0]\n",
        "\n",
        "print(maxlen)"
      ]
    },
    {
      "cell_type": "code",
      "execution_count": null,
      "id": "f5d21383-c696-4df8-993c-b16909654769",
      "metadata": {
        "id": "f5d21383-c696-4df8-993c-b16909654769",
        "outputId": "ab95ac2e-ecdb-4771-eedd-04055e69fd27"
      },
      "outputs": [
        {
          "name": "stdout",
          "output_type": "stream",
          "text": [
            "1 1 2 3 5 8 13 21 34 55 89 144 "
          ]
        }
      ],
      "source": [
        "# #fibinocci series\n",
        "\n",
        "# 1 1 2 3 5 8 13 21\n",
        "\n",
        "n = 12\n",
        "\n",
        "# 1 twovalbefore\n",
        "# 1 Onevalbefore\n",
        "#     Onevalbefore = twovalbefore\n",
        "# 1+1 current = Onevalbefore + twovalbefore\n",
        "#     current = Onevalbefore\n",
        "# 2+1\n",
        "\n",
        "twovalbefore = 1\n",
        "Onevalbefore = 1\n",
        "current = 0\n",
        "for x in range(0,n):\n",
        "    if x == 0:\n",
        "        print(twovalbefore, end = ' ')\n",
        "    elif x == 1:\n",
        "        print(Onevalbefore, end = ' ')\n",
        "    else:\n",
        "        current = Onevalbefore + twovalbefore\n",
        "        print(current,end = ' ')\n",
        "        twovalbefore = Onevalbefore\n",
        "        Onevalbefore = current\n",
        "\n",
        ""
      ]
    },
    {
      "cell_type": "code",
      "execution_count": null,
      "id": "649ec854-5315-475f-befd-3e6b42376154",
      "metadata": {
        "id": "649ec854-5315-475f-befd-3e6b42376154"
      },
      "outputs": [],
      "source": [
        "# Check for Palindrome\n",
        "# s= 'SAS1'\n",
        "# # s.lower()\n",
        "# # if len match\n",
        "# #remove if non alphanumeric\n",
        "# c = s[::-1]\n",
        "\n",
        "# n= [1,55,31,2]\n",
        "# v=sorted(n, order = desc)\n",
        "# sorted_n = sorted(n, reverse=True)\n",
        "# # v\n",
        "\n",
        "# # 7.\n",
        "# def factorial(n):\n",
        "#     if n == 0 or n ==1:\n",
        "#         return 1\n",
        "#     c = n * factorial(n-1)\n",
        "#     return c\n",
        "\n",
        "# factorial(5)\n",
        " # Armstrong number\n",
        "# fact vs dimentional tables\n",
        "#Swap Two Variables\n",
        "\n",
        "# v1 = 3\n",
        "# v2 =5\n",
        "\n",
        "# v2,v1 = 3,5\n",
        "# print(v1,v2)\n",
        "\n",
        "\n"
      ]
    },
    {
      "cell_type": "code",
      "execution_count": null,
      "id": "c8b75ae0-2bfe-4b65-b34b-eb4289e68941",
      "metadata": {
        "id": "c8b75ae0-2bfe-4b65-b34b-eb4289e68941"
      },
      "outputs": [],
      "source": [
        "# write step by step process on how to use aws EMR to perform pyspark computation with 1 master and 3 slave nodes ,\n",
        "# how to configure, use terraform, data in both aws s3, RDS and postgres.\n",
        "# finally the processed data should be loaded to postgres and from it to tableu. give a digaram or schema..\n",
        "Install Terraform:\n",
        "Create a Terraform configuration file:\n",
        "    In this file, you will define the EMR cluster configuration (master and slave nodes), S3, and security settings.\n",
        "Apply the Terraform configuration\n",
        "\n",
        "Memory updated\n",
        "Here’s a step-by-step guide on how to set up AWS EMR with PySpark computation using 1 master and 3 slave nodes, configure it with Terraform, and integrate data from AWS S3, RDS, and PostgreSQL. We'll also cover how to load the processed data back into PostgreSQL and connect it to Tableau.\n",
        "\n",
        "Step 1: Set Up AWS EMR Cluster with Terraform\n",
        "Install Terraform: Ensure Terraform is installed on your local machine. You can download it from Terraform’s official site.\n",
        "\n",
        "Create a Terraform configuration file: In this file, you will define the EMR cluster configuration (master and slave nodes), S3, and security settings.\n",
        "\n",
        "Apply the Terraform configuration: Run the following Terraform commands to deploy the EMR cluster:\n",
        "\n",
        "This will create an EMR (elastic map reduce) cluster with 1 master node and 3 slave nodes, using AWS S3 for logs.\n",
        "Step 2: Configure AWS S3, RDS, and PostgreSQL for Data Input\n",
        "AWS S3:\n",
        "Upload your raw data files to an S3 bucket.\n",
        "Ensure you have appropriate IAM permissions for the EMR cluster to access this bucket.\n",
        "AWS RDS (PostgreSQL):\n",
        "Set up an AWS RDS instance running PostgreSQL for your relational data.\n",
        "Ensure security groups allow inbound traffic from the EMR cluster.\n",
        "Store additional data or configurations needed for the Spark job in this RDS.\n",
        "PostgreSQL (On-Prem or Cloud):\n",
        "If you’re using an external PostgreSQL (not AWS RDS), ensure connectivity and permissions to allow EMR to access it.\n",
        "Step 3: Write the PySpark Script\n",
        "Create your PySpark script (your_script.py) to perform the desired data transformations.\n",
        "\n",
        "=============\n",
        "Data comes from AWS S3 and AWS RDS (PostgreSQL).\n",
        "The data is processed by the AWS EMR cluster using PySpark.\n",
        "The results are stored in a PostgreSQL database.\n",
        "Tableau connects to PostgreSQL for reporting and visualization."
      ]
    },
    {
      "cell_type": "code",
      "execution_count": null,
      "id": "4c2a36b4-551b-4103-a41f-a3b98fdf3b58",
      "metadata": {
        "id": "4c2a36b4-551b-4103-a41f-a3b98fdf3b58",
        "outputId": "3ff88650-3686-40c1-942a-a21efb99e89d"
      },
      "outputs": [
        {
          "name": "stdout",
          "output_type": "stream",
          "text": [
            "[2]\n",
            "[2, 3]\n",
            "[2, 3, 4]\n",
            "[2, 3, 4, 5]\n",
            "Longest consecutive sequence length: 4\n"
          ]
        }
      ],
      "source": [
        "# Given an array of integers nums, return the length of the longest consecutive sequence of elements.\n",
        "nums = [2,20,4,10,3,4,5]\n",
        "nums = sorted(set(nums))\n",
        "seq = []\n",
        "initial = nums[0]\n",
        "maxlen = 0\n",
        "for x in range(len(nums)):\n",
        "    if nums[x] == initial:\n",
        "        seq.append(nums[x])\n",
        "        initial +=1\n",
        "        maxlen = max(len(seq), maxlen)\n",
        "        print(seq)\n",
        "    else:\n",
        "        seq = []\n",
        "        intial = nums[x]\n",
        "\n",
        "print(f\"Longest consecutive sequence length: {maxlen}\")"
      ]
    },
    {
      "cell_type": "code",
      "execution_count": null,
      "id": "f280e53a-3f53-4987-a0dc-03993813844d",
      "metadata": {
        "id": "f280e53a-3f53-4987-a0dc-03993813844d"
      },
      "outputs": [],
      "source": [
        "# find consecutive elements in the list that increase incrementally (i.e., each element is greater than the previous one\n",
        "nums = [2,20,4,10,3,4,5]\n",
        "# newnum=nums[:2]+nums[3:]\n",
        "# newnum1=[x for x in nums if x!=4] #all occurrences of the number 4\n",
        "# nums.insert(0,1)\n",
        "# nums.index(10)\n",
        "# [1] + [0] * 10\n",
        "# nums.remove(4)\n",
        "# numsb = nums\n",
        "# numsc = list(nums) #creating a independent copy - shallow copy\n",
        "\n",
        "# import copy\n",
        "# c =copy.copy(nums) # If the list contains nested mutable objects, they will be a mutated, as it not a true hard copy\n",
        "# d =copy.deepcopy(nums)\n",
        "\n",
        "# nums = [2, [20, 30], 4, 10, 3]\n",
        "# c = copy.copy(nums)\n",
        "# nums.append(2000) vs nums[1].append(2000)\n"
      ]
    },
    {
      "cell_type": "code",
      "execution_count": null,
      "id": "aaa0e9cc-c2c6-48e0-b192-2fb873a6cdd3",
      "metadata": {
        "id": "aaa0e9cc-c2c6-48e0-b192-2fb873a6cdd3",
        "outputId": "e2a5a77c-4148-4b1e-ac91-856a3a920281"
      },
      "outputs": [
        {
          "data": {
            "text/plain": [
              "[20, 4, 10]"
            ]
          },
          "execution_count": 77,
          "metadata": {},
          "output_type": "execute_result"
        }
      ],
      "source": [
        "# nums = [2,20,4,10,3,4,5]\n",
        "# reversed(nums)\n",
        "# nums.reverse()\n",
        "# del A[i] vs del A[i:j]\n",
        "a = [2,20,4,10,3,4,5]\n",
        "a[:-1]\n",
        "a[-3:]\n",
        "a[1:4:1]\n",
        "\n",
        "# inputseq , iterator , logic (optional), expression\n",
        "[x**2 for a in range(6)]\n",
        "# yields [1, 4, 9,16, 25]\n",
        "\n",
        "[x**2 for a in range(6) if x % 2 == 0]\n",
        "#yields[4,16]\n"
      ]
    },
    {
      "cell_type": "code",
      "execution_count": null,
      "id": "adb9ca72-d08f-42da-887b-5f41008a3034",
      "metadata": {
        "id": "adb9ca72-d08f-42da-887b-5f41008a3034"
      },
      "outputs": [],
      "source": [
        "# x = [\"1\",\"2\",\".\",\".\",\"3\",\".\",\".\",\".\",\".\"]\n",
        "# c='1'\n",
        "# c.isdigit()\n",
        "# for y in range(len(x)):\n",
        "#     if int(x[y]).isnum():\n",
        "#         print(y)\n",
        "# dir(int)\n",
        "#find duplicate elements in a list\n",
        "\n",
        "\n",
        "# Add a number to a set.\n",
        "# c=set()\n",
        "# c.add(3)\n",
        "# c\n",
        "\n",
        "# m1={\"a\":32, \"b\":1}\n",
        "# m2={\"a\":2, \"b\":1}\n",
        "# if m1 ==m2:\n",
        "#     print('hi')\n",
        "\n",
        "# if 'a' in range()\n",
        "\n",
        "# ascii_value = ord('a')\n",
        "\n"
      ]
    },
    {
      "cell_type": "code",
      "execution_count": null,
      "id": "8804f339-f83f-4e92-b579-ac3d07fc8e79",
      "metadata": {
        "id": "8804f339-f83f-4e92-b579-ac3d07fc8e79"
      },
      "outputs": [],
      "source": [
        "# I have a requirment, where i have data in aws s3, postgressql, mongodb and getting\n",
        "# data from them in csv, json, txt file formats.\n",
        "# I want to get all of their data but use an abstraction layer for data analytics\n",
        "# where, if the data is for example csv format and getting from postgres - it should be using\n",
        "# a centain method and a certain logic and if it is coming from mongodb and in json format, it should use a differnt logic.\n",
        "# use abstraction method, so i can receive data from all points but perform logic using spefici functions with certain\n",
        "# inputs data formats only.\n",
        "# This has to be configured in pyspark for DDS operations with cron job for automatic processing. write a coding example\n",
        "# and give a architecture overview. AWS EMR for ETL, kafka (EKS) for streaming, pyspark.\n",
        "#Finally data should sit in postgres in RDS.\n",
        "\n",
        "# Data Ingestion:\n",
        "# Use AWS Glue or custom scripts to extract data from S3, PostgreSQL, and MongoDB.\n",
        "# Convert data to a common format (e.g., JSON) if necessary.\n",
        "# Data Storage:\n",
        "# Load the processed data into PostgreSQL RDS using the psycopg2 library.\n",
        "# Orchestration:\n",
        "# Use Airflow to schedule and monitor the data pipeline. Define tasks for data ingestion, processing, and storage.\n",
        "# Use triggers in Airflow to automatically run the pipeline based on events (e.g., new data added to S3).\n"
      ]
    },
    {
      "cell_type": "code",
      "execution_count": null,
      "id": "6d9ab404-6b65-48c0-98ae-490b6b9cf430",
      "metadata": {
        "id": "6d9ab404-6b65-48c0-98ae-490b6b9cf430",
        "outputId": "7bc7d947-c8c5-4c3a-8634-2ce0c27581c9"
      },
      "outputs": [
        {
          "name": "stdout",
          "output_type": "stream",
          "text": [
            "True\n"
          ]
        }
      ],
      "source": [
        "# Given two strings s and t, return true if the two strings are anagrams of each other, otherwise return false.\n",
        "\n",
        "s = \"racecar\"\n",
        "t = \"carrace\"\n",
        "\n",
        "class solution:\n",
        "    def isanagram(self,s,t):\n",
        "        if len(s)!=len(t):\n",
        "            return False\n",
        "        else:\n",
        "            return charcount(s)== charcount(t)\n",
        "\n",
        "    def charcount(self,c):\n",
        "        m={}\n",
        "        for x in c:\n",
        "            if x in m:\n",
        "                m[x]+=1\n",
        "            else:\n",
        "                m[x]=1\n",
        "        return m\n",
        "\n",
        "checkana=solution()\n",
        "checkana1 = checkana.isanagram(s,t)\n",
        "print(checkana1)\n",
        ""
      ]
    },
    {
      "cell_type": "code",
      "execution_count": null,
      "id": "6ee8cfb2-40ca-4343-9f6c-63e9f71b60a7",
      "metadata": {
        "id": "6ee8cfb2-40ca-4343-9f6c-63e9f71b60a7"
      },
      "outputs": [],
      "source": [
        "# static method - Utility methods that logically belong to the class but don’t need instance or class-specific data.\n",
        "# what is the advantage of static over class method and instance methods\n",
        "\n",
        "\n",
        "class MyClass:\n",
        "    @staticmethod\n",
        "    def static_method():\n",
        "        return \"This is a static method\"\n",
        "\n",
        "print(MyClass.static_method())  # Called directly on the class\n",
        "\n",
        "No self argument: Static methods don't require a self argument, making them more flexible and reusable.\n",
        "They can be called directly on the class without creating an instance.\n",
        "\n",
        "No implicit binding to instances: Unlike instance methods, static methods are not\n",
        "bound to a specific instance of the class. This means they can be called without an instance,\n",
        "making them more generic and reusable.\n",
        "\n",
        "Shared state: Static methods can access and modify class attributes directly,\n",
        "providing a way to share state across all instances of the class.\n",
        "\n",
        "Utility functions: Static methods are often used for utility functions\n",
        "that don't require access to instance-specific data.\n",
        "\n",
        "Alternative to class variables: Static methods can be used as an alternative to class variables\n",
        "when you need to share data across all instances of a class.\n",
        "\n",
        "However,  important to note that static methods:\n",
        "Cannot access instance attributes:\n",
        "They don't have access to the self argument,\n",
        "    so they cannot directly access or modify instance-specific data.\n",
        "Can be called without an instance:\n",
        "This can sometimes be a disadvantage if you need to ensure that certain methods\n",
        "    are only called on instances of the class.\n"
      ]
    },
    {
      "cell_type": "code",
      "execution_count": null,
      "id": "963bf13e-95c5-4607-8d9b-ef344abbe517",
      "metadata": {
        "id": "963bf13e-95c5-4607-8d9b-ef344abbe517",
        "outputId": "8b63f800-7d2a-48a2-d0fe-89d3ceaea6e7"
      },
      "outputs": [
        {
          "name": "stdout",
          "output_type": "stream",
          "text": [
            "4\n"
          ]
        }
      ],
      "source": [
        "class MyClass:\n",
        "    counter = 0\n",
        "\n",
        "    @staticmethod\n",
        "    def increment_counter():\n",
        "        MyClass.counter += 1\n",
        "\n",
        "# Create multiple instances\n",
        "obj1 = MyClass()\n",
        "obj2 = MyClass()\n",
        "\n",
        "# Increment the counter using a static method\n",
        "MyClass.increment_counter()\n",
        "MyClass.increment_counter()\n",
        "MyClass.increment_counter()\n",
        "MyClass.increment_counter()\n",
        "\n",
        "# Access the shared counter\n",
        "print(MyClass.counter)  # Output: 2"
      ]
    },
    {
      "cell_type": "code",
      "execution_count": null,
      "id": "4a60962b-08ae-4307-b9fb-11ac8686a122",
      "metadata": {
        "id": "4a60962b-08ae-4307-b9fb-11ac8686a122"
      },
      "outputs": [],
      "source": [
        "# Instance Methods\n",
        "# You need to create an instance of the class to call the instance method.\n",
        "# Methods that belong to an instance of a class and can access instance-specific data.\n",
        "# first parameter (self) always"
      ]
    },
    {
      "cell_type": "code",
      "execution_count": null,
      "id": "549b8d9e-50e0-498c-b1b5-593946de34c2",
      "metadata": {
        "id": "549b8d9e-50e0-498c-b1b5-593946de34c2",
        "outputId": "29720962-77bb-45ed-ee7e-649acff0e0df"
      },
      "outputs": [
        {
          "data": {
            "text/plain": [
              "[{'a': 1, 'c': 1, 't': 1},\n",
              " {'o': 1, 'p': 1, 's': 1, 't': 1},\n",
              " {'o': 1, 'p': 1, 's': 1, 't': 1},\n",
              " {'a': 1, 'c': 1, 't': 1},\n",
              " {'o': 1, 'p': 1, 's': 1, 't': 1},\n",
              " {'a': 1, 'h': 1, 't': 1}]"
            ]
          },
          "execution_count": 13,
          "metadata": {},
          "output_type": "execute_result"
        }
      ],
      "source": [
        "# all anagrams together into sublists.\n",
        "strs = [\"act\",\"pots\",\"tops\",\"cat\",\"stop\",\"hat\"]\n",
        "# Output: [[\"hat\"],[\"act\", \"cat\"],[\"stop\", \"pots\", \"tops\"]]\n",
        "\n",
        "def charcount(s):\n",
        "    m= {}\n",
        "    for x in s:\n",
        "        if x in m:\n",
        "            m[x]+=1\n",
        "        else:\n",
        "            m[x]=1\n",
        "    return m\n",
        "l1 =[]\n",
        "for x in strs:\n",
        "    l1.append(charcount(sorted(x)))\n",
        "\n"
      ]
    },
    {
      "cell_type": "code",
      "execution_count": null,
      "id": "6f27f436-11b8-4c5d-9412-818161f0cef0",
      "metadata": {
        "id": "6f27f436-11b8-4c5d-9412-818161f0cef0",
        "outputId": "af47dc9e-ed64-431f-aef1-643a727455b5"
      },
      "outputs": [
        {
          "data": {
            "text/plain": [
              "(('a', 1), ('h', 1), ('t', 1))"
            ]
          },
          "execution_count": 17,
          "metadata": {},
          "output_type": "execute_result"
        }
      ],
      "source": [
        "from collections import defaultdict\n",
        "\n",
        "# Input list of dictionaries\n",
        "input_data = [\n",
        "    {'a': 1, 'c': 1, 't': 1},\n",
        "    {'o': 1, 'p': 1, 's': 1, 't': 1},\n",
        "    {'o': 1, 'p': 1, 's': 1, 't': 1},\n",
        "    {'a': 1, 'c': 1, 't': 1},\n",
        "    {'o': 1, 'p': 1, 's': 1, 't': 1},\n",
        "    {'a': 1, 'h': 1, 't': 1}\n",
        "]\n",
        "\n",
        "# Group anagrams based on character frequencies\n",
        "# anagram_groups = defaultdict(list)\n",
        "\n",
        "for word_dict in input_data:\n",
        "    # Convert dictionary to a sorted tuple of items, as it serves as a unique identifier for the anagram group\n",
        "    key = tuple(sorted(word_dict.items()))\n",
        "\n",
        "key\n",
        "\n",
        "#     # Group dictionaries with the same key\n",
        "#     anagram_groups[key].append(word_dict)\n",
        "\n",
        "# # Convert the defaultdict to a regular dictionary for output\n",
        "# grouped_anagrams = dict(anagram_groups)\n",
        "\n",
        "# # Print grouped anagrams\n",
        "# for group in grouped_anagrams.values():\n",
        "#     print(group)\n"
      ]
    },
    {
      "cell_type": "code",
      "execution_count": null,
      "id": "29da0bb3-eac5-4601-896b-cf59132ffafd",
      "metadata": {
        "id": "29da0bb3-eac5-4601-896b-cf59132ffafd",
        "outputId": "77faf56e-9156-4d7b-ef10-6ef7fc36583f"
      },
      "outputs": [
        {
          "data": {
            "text/plain": [
              "(3, 1, 1, 1)"
            ]
          },
          "execution_count": 26,
          "metadata": {},
          "output_type": "execute_result"
        }
      ],
      "source": [
        "\t# Given a string, find the length of the longest substring without repeating characters.\n",
        "\n",
        "\t# Examples:\n",
        "\n",
        "\t# Given \"abcabcbb\", the answer is \"abc\", which the length is 3.\n",
        "\n",
        "class Solution:\n",
        "    def lenoflongest(self,s):\n",
        "        charSet = set()\n",
        "        l=0\n",
        "        res = 0\n",
        "        for r in range(len(s)):\n",
        "            while s[r] in charSet:\n",
        "                charSet.remove(s[l])\n",
        "                l+=1\n",
        "            charSet.add(s[r])\n",
        "            res = max(res, r-1+1)\n",
        "        return res"
      ]
    },
    {
      "cell_type": "code",
      "execution_count": null,
      "id": "7586cbc4-c47b-4df9-bbd0-da38c11e5b9e",
      "metadata": {
        "id": "7586cbc4-c47b-4df9-bbd0-da38c11e5b9e"
      },
      "outputs": [],
      "source": [
        "# Given a string s, find the longest palindromic substring in s.\n",
        "\n",
        "# Input: \"babad\"\n",
        "# \tOutput: \"bab\"\n",
        "\n",
        "class Solution:\n",
        "    def longestPalindrome(self, s: str) -> str:\n",
        "        if len(s) == 0:\n",
        "            return \"\"\n",
        "\n",
        "        def expandAroundCenter(s, left, right):\n",
        "            while left >= 0 and right < len(s) and s[left] == s[right]:\n",
        "                left -= 1\n",
        "                right += 1\n",
        "            return s[left + 1:right]\n",
        "\n",
        "        longest_palindrome = \"\"\n",
        "\n",
        "        for i in range(len(s)):\n",
        "            # Odd length palindromes\n",
        "            palindrome1 = expandAroundCenter(s, i, i)\n",
        "            # Even length palindromes\n",
        "            palindrome2 = expandAroundCenter(s, i, i + 1)\n",
        "\n",
        "            # Find the longer palindrome\n",
        "            longer_palindrome = palindrome1 if len(palindrome1) > len(palindrome2) else palindrome2\n",
        "\n",
        "            # Update the longest palindrome found so far\n",
        "            if len(longer_palindrome) > len(longest_palindrome):\n",
        "                longest_palindrome = longer_palindrome\n",
        "\n",
        "        return longest_palindrome\n"
      ]
    },
    {
      "cell_type": "code",
      "execution_count": null,
      "id": "908720c5-baf4-4fdb-991d-8a6313392482",
      "metadata": {
        "id": "908720c5-baf4-4fdb-991d-8a6313392482",
        "outputId": "7c329135-442d-4c93-b019-214754a21016"
      },
      "outputs": [
        {
          "data": {
            "text/plain": [
              "4"
            ]
          },
          "execution_count": 32,
          "metadata": {},
          "output_type": "execute_result"
        }
      ],
      "source": [
        "s = 'abcabbbbbbwsabbbbe'\n",
        "def findlongestsub(s):\n",
        "    storeset = set()\n",
        "    l=0\n",
        "    maxval = 0\n",
        "    for x in range(len(s)):\n",
        "        while s[x] in storeset:\n",
        "            storeset.remove(s[l])\n",
        "            l+=1\n",
        "        maxval = max(maxval,x-l+1)\n",
        "        storeset.add(s[x])\n",
        "\n",
        "    return maxval\n",
        "\n",
        "findlongestsub(s)"
      ]
    },
    {
      "cell_type": "code",
      "execution_count": null,
      "id": "26143d83-4ca9-4852-9d17-59b8b9c4beb3",
      "metadata": {
        "id": "26143d83-4ca9-4852-9d17-59b8b9c4beb3",
        "outputId": "0ad85367-db17-44d7-b89b-469281a80968"
      },
      "outputs": [
        {
          "ename": "SyntaxError",
          "evalue": "'return' outside function (3505325307.py, line 15)",
          "output_type": "error",
          "traceback": [
            "\u001b[1;36m  Cell \u001b[1;32mIn[48], line 15\u001b[1;36m\u001b[0m\n\u001b[1;33m    return True\u001b[0m\n\u001b[1;37m    ^\u001b[0m\n\u001b[1;31mSyntaxError\u001b[0m\u001b[1;31m:\u001b[0m 'return' outside function\n"
          ]
        }
      ],
      "source": [
        "s= \"1 a\"\n",
        "s=s.strip()\n",
        "# isinstance(float(s),float)\n",
        "# float(s)\n",
        "\n",
        "# try:\n",
        "#     if isinstance(float(s),float):\n",
        "#         return True\n",
        "# except Exception as e:\n",
        "#     return False\n",
        "\n",
        "s = s.strip()\n",
        "try:\n",
        "    if isinstance(float(s),float) or isinstance(int(s),int):\n",
        "        return True\n",
        "except Exception as e:\n",
        "    return False"
      ]
    },
    {
      "cell_type": "code",
      "execution_count": null,
      "id": "e0e725a8-fcd9-41d6-981d-0ca8a3be87ef",
      "metadata": {
        "id": "e0e725a8-fcd9-41d6-981d-0ca8a3be87ef"
      },
      "outputs": [],
      "source": [
        "# Given an integer array nums, return an array answer\n",
        "# such that answer[i] is equal to the product of all the elements of nums except nums[i].\n",
        "# Input: nums = [1,2,3,4]\n",
        "# Output: [24,12,8,6]\n",
        "\n",
        "\n"
      ]
    },
    {
      "cell_type": "code",
      "execution_count": null,
      "id": "8ec64b8d-8555-4029-a7aa-ead643998ece",
      "metadata": {
        "id": "8ec64b8d-8555-4029-a7aa-ead643998ece",
        "outputId": "2e824473-1f2a-4f78-d37a-c290c7c0a586"
      },
      "outputs": [
        {
          "name": "stdout",
          "output_type": "stream",
          "text": [
            "3 4\n",
            "[3, 4]\n",
            "4 5\n",
            "[3, 4, 5]\n",
            "1 2\n",
            "[3, 4, 5, 2]\n",
            "[3, 4, 5, 2] [1]\n"
          ]
        }
      ],
      "source": [
        "# find the min elemnet in the arry, if it is rotated n times\n",
        "nums = [3,4,5,1,2]\n",
        "#split the array in to two subarray based on the increasing order\n",
        "# [[3,4,5],[1,2]]\n",
        "#compare above two to find the least first element\n",
        "#[5,1,2,3,4]\n",
        "\n",
        "l=0\n",
        "lsubarr = [nums[0]]\n",
        "rsubarr=[]\n",
        "for r in range(1,len(nums)):\n",
        "    while l<r: #if l<r\n",
        "        if nums[r-1]<nums[r]:\n",
        "            print(nums[r-1],nums[r])\n",
        "            lsubarr.append(nums[r])\n",
        "            print(lsubarr)\n",
        "            l+=1\n",
        "        else: #if l>r\n",
        "            if nums[r-1]>nums[r]:\n",
        "                rsubarr.append(nums[r])\n",
        "                l+=1\n",
        "\n",
        "# [3,4,5,1,2]\n",
        "\n",
        "print(lsubarr,rsubarr)\n",
        ""
      ]
    },
    {
      "cell_type": "code",
      "execution_count": null,
      "id": "be4b17fa-b71a-4172-8f99-846e5f2ff926",
      "metadata": {
        "id": "be4b17fa-b71a-4172-8f99-846e5f2ff926",
        "outputId": "d64be9be-9e52-4508-f4a6-5bc4d2a2693a"
      },
      "outputs": [
        {
          "ename": "TypeError",
          "evalue": "'set' object is not subscriptable",
          "output_type": "error",
          "traceback": [
            "\u001b[1;31m---------------------------------------------------------------------------\u001b[0m",
            "\u001b[1;31mTypeError\u001b[0m                                 Traceback (most recent call last)",
            "Cell \u001b[1;32mIn[60], line 22\u001b[0m\n\u001b[0;32m     20\u001b[0m \u001b[38;5;66;03m# Example usage\u001b[39;00m\n\u001b[0;32m     21\u001b[0m S \u001b[38;5;241m=\u001b[39m {\u001b[38;5;241m1\u001b[39m, \u001b[38;5;241m2\u001b[39m, \u001b[38;5;241m3\u001b[39m}\n\u001b[1;32m---> 22\u001b[0m power_set(S)\n",
            "Cell \u001b[1;32mIn[60], line 15\u001b[0m, in \u001b[0;36mpower_set\u001b[1;34m(S)\u001b[0m\n\u001b[0;32m     12\u001b[0m     generate_power_set(S, index \u001b[38;5;241m+\u001b[39m \u001b[38;5;241m1\u001b[39m, current, result)\n\u001b[0;32m     14\u001b[0m result \u001b[38;5;241m=\u001b[39m []\n\u001b[1;32m---> 15\u001b[0m generate_power_set(S, \u001b[38;5;241m0\u001b[39m, [], result)\n\u001b[0;32m     17\u001b[0m \u001b[38;5;28;01mfor\u001b[39;00m subset \u001b[38;5;129;01min\u001b[39;00m result:\n\u001b[0;32m     18\u001b[0m     \u001b[38;5;28mprint\u001b[39m(\u001b[38;5;124m'\u001b[39m\u001b[38;5;124m,\u001b[39m\u001b[38;5;124m'\u001b[39m\u001b[38;5;241m.\u001b[39mjoin(\u001b[38;5;28mmap\u001b[39m(\u001b[38;5;28mstr\u001b[39m, subset)))\n",
            "Cell \u001b[1;32mIn[60], line 8\u001b[0m, in \u001b[0;36mpower_set.<locals>.generate_power_set\u001b[1;34m(S, index, current, result)\u001b[0m\n\u001b[0;32m      6\u001b[0m     \u001b[38;5;28;01mreturn\u001b[39;00m\n\u001b[0;32m      7\u001b[0m \u001b[38;5;66;03m# Include the current element\u001b[39;00m\n\u001b[1;32m----> 8\u001b[0m current\u001b[38;5;241m.\u001b[39mappend(S[index])\n\u001b[0;32m      9\u001b[0m generate_power_set(S, index \u001b[38;5;241m+\u001b[39m \u001b[38;5;241m1\u001b[39m, current, result)\n\u001b[0;32m     10\u001b[0m \u001b[38;5;66;03m# Exclude the current element\u001b[39;00m\n",
            "\u001b[1;31mTypeError\u001b[0m: 'set' object is not subscriptable"
          ]
        }
      ],
      "source": []
    },
    {
      "cell_type": "code",
      "execution_count": null,
      "id": "4ec6fef5-27f4-45d9-9e31-910a5ca850cc",
      "metadata": {
        "id": "4ec6fef5-27f4-45d9-9e31-910a5ca850cc"
      },
      "outputs": [],
      "source": [
        "# give examples for each -- Linear Search\n",
        "# Binary Search\n",
        "# Bubble Sort\n",
        "# Selection Sort\n",
        "# Recursion\n",
        "# Merge Sort\n",
        "\n",
        "# Linear Search\n",
        "def linear_search(arr, target):\n",
        "    for i in range(len(arr)):\n",
        "        if arr[i] == target:\n",
        "            return i  # Return the index where the target is found\n",
        "    return -1  # Return -1 if the target is not found\n",
        "\n",
        "# Example\n",
        "arr = [10, 20, 30, 40, 50]\n",
        "target = 30\n",
        "print(linear_search(arr, target))  # Outputs: 2 (index of 30)\n",
        "\n",
        "# Binary Search\n",
        "# Binary Search is used on sorted arrays. It repeatedly divides the search interval in half.\n",
        "def binary_search(arr, target):\n",
        "    low = 0\n",
        "    high = len(arr) - 1\n",
        "\n",
        "    while low <= high:\n",
        "        mid = (low + high) // 2\n",
        "        if arr[mid] == target:\n",
        "            return mid  # Target found at index mid\n",
        "        elif arr[mid] < target:\n",
        "            low = mid + 1\n",
        "        else:\n",
        "            high = mid - 1\n",
        "    return -1  # Return -1 if the target is not found\n",
        "\n",
        "# Example\n",
        "arr = [10, 20, 30, 40, 50]\n",
        "target = 30\n",
        "print(binary_search(arr, target))  # Outputs: 2 (index of 30)"
      ]
    },
    {
      "cell_type": "code",
      "execution_count": null,
      "id": "f9882088-643a-482a-8e18-9ac343df4dee",
      "metadata": {
        "id": "f9882088-643a-482a-8e18-9ac343df4dee"
      },
      "outputs": [],
      "source": [
        "# Bubble Sort\n",
        "# Bubble Sort repeatedly steps through the list, compares adjacent elements,\n",
        "# and swaps them if they are in the wrong order.\n",
        "def bubble_sort(arr):\n",
        "    n = len(arr)\n",
        "    for i in range(n):\n",
        "        for j in range(0, n-i-1):\n",
        "            if arr[j] > arr[j+1]:\n",
        "                arr[j], arr[j+1] = arr[j+1], arr[j]  # Swap if in wrong order\n",
        "\n",
        "# Example\n",
        "arr = [64, 34, 25, 12, 22, 11, 90]\n",
        "bubble_sort(arr)\n",
        "print(arr)  # Outputs: [11, 12, 22, 25, 34, 64, 90]\n",
        "\n",
        "# Selection Sort\n",
        "# Selection Sort repeatedly finds the minimum element from the unsorted part and puts it at the beginning.\n",
        "def selection_sort(arr):\n",
        "    n = len(arr)\n",
        "    for i in range(n):\n",
        "        min_idx = i\n",
        "        for j in range(i+1, n):\n",
        "            if arr[j] < arr[min_idx]:\n",
        "                min_idx = j\n",
        "        arr[i], arr[min_idx] = arr[min_idx], arr[i]  # Swap the found minimum element\n",
        "\n",
        "# Example\n",
        "arr = [64, 25, 12, 22, 11]\n",
        "selection_sort(arr)\n",
        "print(arr)  # Outputs: [11, 12, 22, 25, 64]\n",
        "\n",
        "# Recursion\n",
        "# Recursion is when a function calls itself to solve a problem.\n",
        "def factorial(n):\n",
        "    if n == 0 or n == 1:\n",
        "        return 1\n",
        "    else:\n",
        "        return n * factorial(n-1)  # Recursively call the function\n",
        "\n",
        "# Example\n",
        "print(factorial(5))  # Outputs: 120 (5 * 4 * 3 * 2 * 1)\n",
        "\n",
        "# Merge Sort\n",
        "# Merge Sort is a divide and conquer algorithm that splits the list into halves,\n",
        "# recursively sorts them, and then merges the sorted halves python\n",
        "\n"
      ]
    },
    {
      "cell_type": "code",
      "execution_count": null,
      "id": "7e0ce727-8a4b-4543-b376-9562b7245045",
      "metadata": {
        "id": "7e0ce727-8a4b-4543-b376-9562b7245045"
      },
      "outputs": [],
      "source": [
        "# callable example\n",
        "# passing function as arguments\n",
        "def add(a, b):\n",
        "    return a + b\n",
        "\n",
        "def subtract(a, b):\n",
        "    return a - b\n",
        "\n",
        "# A function that accepts another function as an argument\n",
        "def operate(func, x, y):\n",
        "    return func(x, y)\n",
        "\n",
        "result1 = operate(add, 5, 3)       # Passing the 'add' function\n",
        "result2 = operate(subtract, 5, 3)  # Passing the 'subtract' function\n",
        "\n",
        "print(\"Addition:\", result1)    # Output: 8\n",
        "print(\"Subtraction:\", result2) # Output: 2"
      ]
    },
    {
      "cell_type": "code",
      "execution_count": null,
      "id": "788d3344-f11c-4830-8d41-f779cbe50057",
      "metadata": {
        "id": "788d3344-f11c-4830-8d41-f779cbe50057",
        "outputId": "853f7a57-fdcf-40e1-c515-259e3b7a4627"
      },
      "outputs": [
        {
          "data": {
            "text/plain": [
              "(2, 23, 3, 1)"
            ]
          },
          "execution_count": 1,
          "metadata": {},
          "output_type": "execute_result"
        }
      ],
      "source": [
        "Ternery operator\n",
        "\n",
        "t2=(2,23)+(3,1)\n",
        "t2\n",
        "\n",
        "# Lambda function syntax\n",
        "l1 = [1, 2, 4]\n",
        "e = lambda x: x + 1\n",
        "result = map(e, l1)\n",
        "print(list(result))  # Output: [2, 3, 5]\n",
        "\n",
        "# using remove vs pop\n",
        "\n",
        "c=[1,2,12,2,3]\n",
        "c1=[]\n",
        "for x in c:\n",
        "    if x!=2:\n",
        "    c1.append(x)\n",
        "\n",
        "e = lambda x: x+1\n",
        "map(e,\n",
        "\n",
        "\n",
        "\n",
        "# Caesar Cipher implementation\n",
        "\n",
        "def caesarCipher(s, k):\n",
        "    result = ''\n",
        "\n",
        "    # Adjust k to handle cases where k > 26\n",
        "    k = k % 26\n",
        "\n",
        "    for char in s:\n",
        "        # Check if the character is an uppercase letter\n",
        "        if 'A' <= char <= 'Z':\n",
        "            # Calculate the new character after shifting\n",
        "            shifted_char = chr((ord(char) - ord('A') + k) % 26 + ord('A'))\n",
        "            result += shifted_char\n",
        "\n",
        "        # Check if the character is a lowercase letter\n",
        "        elif 'a' <= char <= 'z':\n",
        "            # Calculate the new character after shifting\n",
        "            shifted_char = chr((ord(char) - ord('a') + k) % 26 + ord('a'))\n",
        "            result += shifted_char\n",
        "\n",
        "        # If it's a special character, leave it unchanged\n",
        "        else:\n",
        "            result += char\n",
        "\n",
        "    return result\n"
      ]
    },
    {
      "cell_type": "code",
      "execution_count": null,
      "id": "9c0be14f-e996-4c4c-80e9-1b7124abe1c7",
      "metadata": {
        "id": "9c0be14f-e996-4c4c-80e9-1b7124abe1c7"
      },
      "outputs": [],
      "source": [
        "# determine if a string can be a palindrome by removing exactly one character,\n",
        "def can_be_palindrome_by_removing_one(c):\n",
        "    def is_palindrome(s):\n",
        "        return s == s[::-1]\n",
        "\n",
        "    # Check if the original string is already a palindrome\n",
        "    if is_palindrome(c):\n",
        "        return -1  # No need to remove any character if it's already a palindrome\n",
        "\n",
        "    for i in range(len(c)):\n",
        "        # Create a new string with the character at index i removed\n",
        "        new_string = c[:i] + c[i+1:]\n",
        "\n",
        "        # Check if this new string is a palindrome\n",
        "        if is_palindrome(new_string):\n",
        "            return i  # Return the index of the character that was removed\n",
        "\n",
        "    return -1  # Return -1 if no single removal can make it a palindrome\n",
        "\n",
        "# Example usage:\n",
        "c = 'cbc'\n",
        "index = can_be_palindrome_by_removing_one(c)\n",
        "print(index)  # Output: -1 (because 'cbc' is already a palindrome)\n",
        "\n",
        "# Get index of \"o\" (the first occurrence of \"o\")\n",
        "index_o = s.find('o')"
      ]
    },
    {
      "cell_type": "code",
      "execution_count": null,
      "id": "3e033f5b-368c-411f-8449-7a11e64b72ae",
      "metadata": {
        "id": "3e033f5b-368c-411f-8449-7a11e64b72ae"
      },
      "outputs": [],
      "source": [
        "Longest Common Subsequence (LCS)\n",
        "# classic dynamic programming problem where, given two strings,\n",
        "# we want to find the longest subsequence that appears in both of them, with the order of characters preserved.\n",
        "\n",
        "def commonChild(s1, s2):\n",
        "    # Get the lengths of both strings\n",
        "    n = len(s1)\n",
        "\n",
        "    # Initialize a 2D DP table with all zeros\n",
        "    dp = [[0] * (n + 1) for _ in range(n + 1)]\n",
        "\n",
        "    # Fill the dp table\n",
        "    for i in range(1, n + 1):\n",
        "        for j in range(1, n + 1):\n",
        "            if s1[i-1] == s2[j-1]:\n",
        "                dp[i][j] = dp[i-1][j-1] + 1\n",
        "            else:\n",
        "                dp[i][j] = max(dp[i-1][j], dp[i][j-1])\n",
        "\n",
        "    # The result is in dp[n][n]\n",
        "    return dp[n][n]\n",
        "\n",
        "# Example usage\n",
        "s1 = \"ABCDEF\"\n",
        "s2 = \"FBDAMN\"\n",
        "result = commonChild(s1, s2)\n",
        "print(result)  # Output should be 2 (The LCS is \"BD\")\n",
        "\n",
        "\n",
        " # or\n",
        "\n",
        "def commonChild(s1, s2):\n",
        "    # Get the lengths of both strings\n",
        "    n = len(s1)\n",
        "\n",
        "    # Initialize a 2D DP table with all zeros\n",
        "    dp = [[0] * (n + 1) for _ in range(n + 1)]\n",
        "\n",
        "    # Fill the dp table\n",
        "    for i in range(1, n + 1):\n",
        "        for j in range(1, n + 1):\n",
        "            if s1[i-1] == s2[j-1]:\n",
        "                dp[i][j] = dp[i-1][j-1] + 1\n",
        "            else:\n",
        "                dp[i][j] = max(dp[i-1][j], dp[i][j-1])\n",
        "\n",
        "    # The result is in dp[n][n]\n",
        "    return dp[n][n]\n",
        "\n",
        "# Example usage\n",
        "s1 = \"ABCDEF\"\n",
        "s2 = \"FBDAMN\"\n",
        "result = commonChild(s1, s2)\n",
        "print(result)  # Output should be 2 (The LCS is \"BD\")\n",
        "\n",
        "# if a string of brackets is balanced is to use a stack data structure.\n",
        "\n",
        "def isBalanced(s):\n",
        "    # Dictionary to match closing brackets to opening brackets\n",
        "    matching_bracket = {')': '(', ']': '[', '}': '{'}\n",
        "    stack = []\n",
        "\n",
        "    for char in s:\n",
        "        if char in matching_bracket.values():  # If it's one of '(', '[', or '{'\n",
        "            stack.append(char)\n",
        "        elif char in matching_bracket:  # If it's one of ')', ']', or '}'\n",
        "            if not stack or stack[-1] != matching_bracket[char]:\n",
        "                return \"NO\"\n",
        "            stack.pop()\n",
        "\n",
        "    # If the stack is empty, all brackets were matched correctly\n",
        "    return \"YES\" if not stack else \"NO\"\n",
        "\n",
        "# Read input\n",
        "n = int(input())\n",
        "for _ in range(n):\n",
        "    s = input().strip()\n",
        "    print(isBalanced(s))\n",
        "\n"
      ]
    },
    {
      "cell_type": "code",
      "execution_count": null,
      "id": "f0da3bc2-3c55-4bee-829d-84f5395b12a9",
      "metadata": {
        "id": "f0da3bc2-3c55-4bee-829d-84f5395b12a9"
      },
      "outputs": [],
      "source": [
        "#palindrome checker\n",
        "\n",
        "from collections import deque\n",
        "\n",
        "class Solution:\n",
        "    def __init__(self):\n",
        "        # Initialize the stack and queue\n",
        "        self.stack = []\n",
        "        self.queue = deque()\n",
        "\n",
        "    def pushCharacter(self, ch):\n",
        "        # Push the character onto the stack\n",
        "        self.stack.append(ch)\n",
        "\n",
        "    def enqueueCharacter(self, ch):\n",
        "        # Enqueue the character in the queue\n",
        "        self.queue.append(ch)\n",
        "\n",
        "    def popCharacter(self):\n",
        "        # Pop the character from the stack and return it\n",
        "        return self.stack.pop()\n",
        "\n",
        "    def dequeueCharacter(self):\n",
        "        # Dequeue the character from the queue and return it\n",
        "        return self.queue.popleft()\n",
        "\n",
        "# Read the string s\n",
        "s = input()\n",
        "\n",
        "# Create the Solution class object\n",
        "obj = Solution()\n",
        "\n",
        "# Push/enqueue all the characters of string s to stack and queue\n",
        "for ch in s:\n",
        "    obj.pushCharacter(ch)\n",
        "    obj.enqueueCharacter(ch)\n",
        "\n",
        "# Check if the string is a palindrome\n",
        "isPalindrome = True\n",
        "for _ in range(len(s) // 2):\n",
        "    if obj.popCharacter() != obj.dequeueCharacter():\n",
        "        isPalindrome = False\n",
        "        break\n",
        "\n",
        "# Finally print whether string s is palindrome or not\n",
        "if isPalindrome:\n",
        "    print(\"The word, \"+s+\", is a palindrome.\")\n",
        "else:\n",
        "    print(\"The word, \"+s+\", is not a palindrome.\")\n"
      ]
    },
    {
      "cell_type": "code",
      "execution_count": null,
      "id": "850cdcfa-e621-4428-ab04-0b609c9a53f1",
      "metadata": {
        "id": "850cdcfa-e621-4428-ab04-0b609c9a53f1"
      },
      "outputs": [],
      "source": [
        "def check_palindrome(s):\n",
        "    c = list(s)\n",
        "    x = 0\n",
        "    while x < len(c) // 2:\n",
        "        if c[x] != c[len(c) - x - 1]:\n",
        "            print(\"not palindrome\")\n",
        "            return\n",
        "        x += 1\n",
        "    print(\"palindrome\")\n",
        "\n",
        "# Example usage\n",
        "s = 'racecar'\n",
        "check_palindrome(s)\n",
        "\n",
        "Nonlocal variables are used in nested functions."
      ]
    },
    {
      "cell_type": "code",
      "execution_count": null,
      "id": "38e3d7e9-f427-4f4c-857a-614fb3ca6150",
      "metadata": {
        "id": "38e3d7e9-f427-4f4c-857a-614fb3ca6150",
        "outputId": "2399871f-6447-4ff2-9be6-c42fc6a4c4a1"
      },
      "outputs": [
        {
          "name": "stdout",
          "output_type": "stream",
          "text": [
            "Modified global variable x inside function: 20\n",
            "Modified global variable x outside function: 20\n"
          ]
        }
      ],
      "source": [
        "x = 10  # Global variable\n",
        "\n",
        "def modify_global():\n",
        "    global x  # Declare that we are modifying the global variable\n",
        "    x = 20  # Modify the global variable\n",
        "    print(\"Modified global variable x inside function:\", x)\n",
        "\n",
        "modify_global()\n",
        "print(\"Modified global variable x outside function:\", x)\n"
      ]
    },
    {
      "cell_type": "code",
      "execution_count": null,
      "id": "f74c7d53-d7a9-4e92-a29c-33a4d71b0f21",
      "metadata": {
        "id": "f74c7d53-d7a9-4e92-a29c-33a4d71b0f21"
      },
      "outputs": [],
      "source": [
        "arr = [1, 2]\n",
        "c = (lambda x: x + 2)\n",
        "\n",
        "# Apply the lambda function to each element of the list using map\n",
        "result = list(map(c, arr))\n",
        "\n",
        "print(result)"
      ]
    },
    {
      "cell_type": "code",
      "execution_count": null,
      "id": "db1da948-edff-49c1-ac66-bbffb8874382",
      "metadata": {
        "id": "db1da948-edff-49c1-ac66-bbffb8874382",
        "outputId": "ef193d37-d943-4714-f3a0-911337f43978"
      },
      "outputs": [
        {
          "data": {
            "text/plain": [
              "'olleH'"
            ]
          },
          "execution_count": 6,
          "metadata": {},
          "output_type": "execute_result"
        }
      ],
      "source": [
        "text = \"Hello\"\n",
        "c=\"\".join(reversed(text))\n",
        "c"
      ]
    },
    {
      "cell_type": "code",
      "execution_count": null,
      "id": "5b594b22-a1c3-491d-980d-22efcc545a3e",
      "metadata": {
        "id": "5b594b22-a1c3-491d-980d-22efcc545a3e",
        "outputId": "82c6b75d-fffa-4c11-eec7-4b8cd480a478"
      },
      "outputs": [
        {
          "name": "stdout",
          "output_type": "stream",
          "text": [
            "Longest consecutive sequence length: 4\n"
          ]
        }
      ],
      "source": [
        "# Longest consecutive sequence length\n",
        "\n",
        "nums = [2, 20, 4, 10, 3, 4, 5]\n",
        "nums = sorted(set(nums))  # Sorting and removing duplicates\n",
        "\n",
        "seq = []\n",
        "initial = nums[0]\n",
        "maxlen = 0\n",
        "\n",
        "for x in range(len(nums)):\n",
        "    if nums[x] == initial:\n",
        "        seq.append(nums[x])\n",
        "        initial += 1  # Move to the next expected consecutive number\n",
        "        maxlen = max(len(seq), maxlen)\n",
        "    else:\n",
        "        seq = [nums[x]]  # Reset sequence starting from the current number\n",
        "        initial = nums[x] + 1  # Set initial to the next expected consecutive number\n",
        "\n",
        "print(f\"Longest consecutive sequence length: {maxlen}\")"
      ]
    },
    {
      "cell_type": "code",
      "execution_count": null,
      "id": "7da9cc63-bc7d-4b5d-891f-aecb6166cec0",
      "metadata": {
        "id": "7da9cc63-bc7d-4b5d-891f-aecb6166cec0",
        "outputId": "6b49f67c-f601-4c3f-94c8-62ac61ae7bea"
      },
      "outputs": [
        {
          "data": {
            "text/plain": [
              "[2, 3, 4]"
            ]
          },
          "execution_count": 29,
          "metadata": {},
          "output_type": "execute_result"
        }
      ],
      "source": [
        "# import copy\n",
        "wc=[1,2,3]\n",
        "# d = c\n",
        "# d=copy.copy(c)\n",
        "# c.remove(1)\n",
        "\n",
        "# print(c,d)\n",
        "\n",
        "c = lambda x: x+1\n",
        "\n",
        "list(map(c,[1,2,3]))"
      ]
    },
    {
      "cell_type": "code",
      "execution_count": null,
      "id": "f0834466-5d60-4642-b27f-c3d07f6ce490",
      "metadata": {
        "id": "f0834466-5d60-4642-b27f-c3d07f6ce490",
        "outputId": "a3be371f-9adf-45d1-cac8-a3d70f10132c"
      },
      "outputs": [
        {
          "data": {
            "text/plain": [
              "True"
            ]
          },
          "execution_count": 39,
          "metadata": {},
          "output_type": "execute_result"
        }
      ],
      "source": [
        "# contains-duplicate\n",
        "# Given an integer array nums, return true if any value appears at least twice in the array,\n",
        "# and return false if every element is distinct.\n",
        "nums = [1,2,3,1]\n",
        "\n",
        "class Solution:\n",
        "    def containsduplicate(self,nums):\n",
        "        setnum=set()\n",
        "        for x in nums:\n",
        "            if x in setnum:\n",
        "                return True\n",
        "            else:\n",
        "                setnum.add(x)\n",
        "        return False\n",
        "\n",
        "c=Solution()\n",
        "c.containsduplicate(nums)\n"
      ]
    },
    {
      "cell_type": "code",
      "execution_count": null,
      "id": "26afd346-af62-4098-b7ae-36395de88def",
      "metadata": {
        "id": "26afd346-af62-4098-b7ae-36395de88def",
        "outputId": "d7e95f27-aa4d-4abe-f8b9-f8f475b03827"
      },
      "outputs": [
        {
          "name": "stdout",
          "output_type": "stream",
          "text": [
            "True\n"
          ]
        }
      ],
      "source": [
        "# valid-anagram\n",
        "# Given two strings s and t, return true if t is an\n",
        "# anagram\n",
        "#  of s, and false otherwise.\n",
        "\n",
        "class Solution:\n",
        "    def isAnagram(self, s, t):\n",
        "        if len(s)!= len(t):\n",
        "            return False\n",
        "        return self.charcount(s)== self.charcount(t)\n",
        "\n",
        "    def charcount(self,s):\n",
        "        charcount={}\n",
        "        for x in s:\n",
        "            if x in charcount:\n",
        "                charcount[x]+=1\n",
        "            else:\n",
        "                charcount[x]=1\n",
        "        return charcount\n",
        "\n",
        "\n",
        "s = \"anagram\"\n",
        "t = \"nagaram\"\n",
        "\n",
        "c=Solution()\n",
        "print(c.isAnagram(s,t))"
      ]
    },
    {
      "cell_type": "code",
      "execution_count": null,
      "id": "210c7e33-f0b3-4f63-9c0b-452a2e04d66e",
      "metadata": {
        "id": "210c7e33-f0b3-4f63-9c0b-452a2e04d66e",
        "outputId": "53dd2006-c55b-43be-e04e-7bfb94bc0488"
      },
      "outputs": [
        {
          "name": "stdout",
          "output_type": "stream",
          "text": [
            "(2, 0)\n"
          ]
        }
      ],
      "source": [
        "# two-sum\n",
        "# Given an array of integers nums and an integer target, return indices of the two numbers such that they add up to target.\n",
        "# You may assume that each input would have exactly one solution, and you may not use the same element twice.\n",
        "\n",
        "nums = [2,12,7,11,15]\n",
        "target = 9\n",
        "\n",
        "class Solution:\n",
        "    def twosum(self, nums, target):\n",
        "        dict1={}\n",
        "\n",
        "        for index, value in enumerate(nums):\n",
        "            if (target- value) in dict1:\n",
        "                return (index, dict1[target-value])\n",
        "            else:\n",
        "                dict1[value]=index\n",
        "\n",
        "c=Solution()\n",
        "print(c.twosum(nums, target))"
      ]
    },
    {
      "cell_type": "code",
      "execution_count": null,
      "id": "34374952-af89-49b4-a78f-335b2fed90e2",
      "metadata": {
        "id": "34374952-af89-49b4-a78f-335b2fed90e2",
        "outputId": "20a5f89e-f440-4d62-c9d1-b52703437886"
      },
      "outputs": [
        {
          "name": "stdout",
          "output_type": "stream",
          "text": [
            " The key with max reps is 3 and it is repeated 3 times\n"
          ]
        }
      ],
      "source": [
        "# 49. Group Anagrams\n",
        "# Given an array of strings strs, group the\n",
        "# anagrams together. You can return the answer in any order.\n",
        "# Input: strs = [\"eat\",\"tea\",\"tan\",\"ate\",\"nat\",\"bat\"]\n",
        "# Output: [[\"bat\"],[\"nat\",\"tan\"],[\"ate\",\"eat\",\"tea\"]]\n",
        "\n",
        "# from collections import defaultdict\n",
        "# # help(defaultdict)\n",
        "\n",
        "# d1= defaultdict({'person': ['zipcode','phno','state','zone']})\n",
        "# # # d1={'person': ('zipcode','phno','state','zone')}\n",
        "# # type(d1)\n",
        "# help(defaultdict)\n",
        "\n",
        "# missing key would otherwise require explicit checks or error handling.\n",
        "\n",
        "# Input= [\"apple\", \"banana\", \"apple\", \"orange\", \"banana\", \"apple\"]\n",
        "# # Output: {\"apple\": 3, \"banana\": 2, \"orange\": 1}\n",
        "\n",
        "# output={}\n",
        "# for x in Input:\n",
        "#     if x in output:\n",
        "#         output[x]+=1\n",
        "#     else:\n",
        "#         output[x]=1\n",
        "\n",
        "# output\n",
        "\n",
        "# from collections import defaultdict\n",
        "\n",
        "# def word_frequency(words):\n",
        "#     freq = defaultdict(int)\n",
        "#     for word in words:\n",
        "#         freq[word] += 1\n",
        "#         print(dict(freq))\n",
        "#     return dict(freq)\n",
        "\n",
        "# # Example Usage:\n",
        "# words = [\"apple\", \"banana\", \"apple\", \"orange\", \"banana\", \"apple\"]\n",
        "# print(word_frequency(words))\n",
        "# # Output: {\"apple\": 3, \"banana\": 2, \"orange\": 1}\n",
        "\n",
        "# Most Frequent Element\n",
        "# nums = [1, 3, 2, 2, 3, 3, 1]\n",
        "# from collections import defaultdict\n",
        "# freq = defaultdict(int)\n",
        "# nums = [1, 3, 2, 2, 3, 3, 1]\n",
        "# def maxnums(nums):\n",
        "#     for x in nums:\n",
        "#         freq[x]+=1\n",
        "#     return dict(freq)\n",
        "\n",
        "# c = maxnums(nums)\n",
        "# print(c)\n",
        "\n",
        "# m= sorted(c, reverse = True)\n",
        "# print(m[0],c[m[0]].value())\n",
        "\n",
        "\n",
        "# c= {1: 2, 3: 3, 2: 2}\n",
        "# maxval=None\n",
        "# maxkey = None\n",
        "# for x in c.items():\n",
        "#     key, val = x\n",
        "#     if maxval == None or val > maxval:\n",
        "#         maxkey = key\n",
        "#         maxval = val\n",
        "\n",
        "# cd = f' The key with max reps is {maxkey} and it is repeated {maxval} times'\n",
        "# print(cd)\n",
        "\n",
        "# c=[1,2,3]\n",
        "# c1= lambda x: x+1\n",
        "# list(map(c1,c))"
      ]
    },
    {
      "cell_type": "code",
      "execution_count": null,
      "id": "5dd3b5e4-5150-4913-93fc-de45aceea270",
      "metadata": {
        "id": "5dd3b5e4-5150-4913-93fc-de45aceea270",
        "outputId": "96c992f5-2c87-4b82-b108-fda3343cbaee"
      },
      "outputs": [
        {
          "data": {
            "text/plain": [
              "[('orange', 3), ('zanana', 2), ('apple', 1)]"
            ]
          },
          "execution_count": 89,
          "metadata": {},
          "output_type": "execute_result"
        }
      ],
      "source": [
        "b={\"apple\": 1, \"zanana\": 2, \"orange\": 3}\n",
        "# #sort above based on values in desc\n",
        "# sorted(b,reverse = True)\n",
        "\n",
        "# e=sorted(b.items(), key = lambda x:x[1],reverse = True)\n",
        "# e\n",
        "# m= [('orange', 3), ('zanana', 2), ('apple', 1)]\n",
        "# x=sorted(m,key = y, reverse = True)\n",
        "# y = lambda x: x[1]\n",
        "# x [('orange', 3), ('zanana', 2), ('apple', 1)]"
      ]
    },
    {
      "cell_type": "code",
      "execution_count": null,
      "id": "e395a5d4-d564-4421-9b20-3996fb457241",
      "metadata": {
        "id": "e395a5d4-d564-4421-9b20-3996fb457241",
        "outputId": "c9d21bfc-7f01-42a2-ccfe-bcf2cde88ca8"
      },
      "outputs": [
        {
          "name": "stdout",
          "output_type": "stream",
          "text": [
            "[]\n",
            "[]\n",
            "[2]\n",
            "[]\n",
            "{3: [1], 2: [2, 3], 1: [4]}\n"
          ]
        }
      ],
      "source": [
        "from collections import defaultdict\n",
        "\n",
        "def group_by_frequency(nums):\n",
        "    freq = defaultdict(int)\n",
        "    for num in nums:\n",
        "        freq[num] += 1\n",
        "\n",
        "    groups = defaultdict(list)\n",
        "    for num, count in freq.items():\n",
        "        print(groups[count])\n",
        "        groups[count].append(num)\n",
        "\n",
        "\n",
        "    return dict(groups)\n",
        "\n",
        "# Example Usage:\n",
        "nums = [1, 2, 3, 2, 4, 3, 1, 1]\n",
        "print(group_by_frequency(nums))\n",
        "# Output: {3: [1], 2: [2, 3], 1: [4]}\n"
      ]
    },
    {
      "cell_type": "code",
      "execution_count": null,
      "id": "50490857-5a15-4c7d-bc70-f251f0eaf0fd",
      "metadata": {
        "id": "50490857-5a15-4c7d-bc70-f251f0eaf0fd",
        "outputId": "8927a4eb-301d-4791-a7e6-0dbc8c68e29d"
      },
      "outputs": [
        {
          "data": {
            "text/plain": [
              "defaultdict(list, {'ca': [1]})"
            ]
          },
          "execution_count": 104,
          "metadata": {},
          "output_type": "execute_result"
        }
      ],
      "source": [
        "nums = [1,3, 2, 4, 3,1,1,3, 1, 1]\n",
        "\n",
        "from collections import defaultdict\n",
        "\n",
        "# c = defaultdict(int)\n",
        "# for x in nums:\n",
        "#     c[x]+=1\n",
        "\n",
        "# z = defaultdict(list)\n",
        "# for x,reps in c.items():\n",
        "#     z[reps].append(x)\n",
        "\n",
        "z = defaultdict(list)\n",
        "z['ca'].append(1)\n",
        "z"
      ]
    },
    {
      "cell_type": "code",
      "execution_count": null,
      "id": "233b50c6-47d1-4b41-9891-7644fbef3ba0",
      "metadata": {
        "id": "233b50c6-47d1-4b41-9891-7644fbef3ba0",
        "outputId": "4aa0e13f-7b26-4b11-d19f-0dd0f978800b"
      },
      "outputs": [
        {
          "name": "stdout",
          "output_type": "stream",
          "text": [
            "8\n"
          ]
        }
      ],
      "source": [
        "nums = [1,2,3,1,1,3]\n",
        "\n",
        "#return good pairs\n",
        "\n",
        "# pairs=[]\n",
        "# for x in range(len(nums)):\n",
        "#     for y in range(x+1, len(nums)):\n",
        "#         if nums[x] == nums[y]:\n",
        "#             pairs.append((x, y))\n",
        "\n",
        "# find the number of subarrays within a given array that contain an equal number of 0s and 1s.\n",
        "# Input: arr = [1, 0, 0, 1, 0, 1]\n",
        "# Output: 4\n",
        "# Explanation: There are 4 subarrays with an equal number of 0s and 1s:\n",
        "# [1, 0], [0, 1], [0, 1], [1, 0, 0, 1]\n",
        "\n",
        "\n"
      ]
    },
    {
      "cell_type": "code",
      "execution_count": null,
      "id": "8056e464-b46d-4d5f-922b-d0865d65761e",
      "metadata": {
        "id": "8056e464-b46d-4d5f-922b-d0865d65761e",
        "outputId": "4f7bb2df-49a4-4169-f0cd-8e47f86989e3"
      },
      "outputs": [
        {
          "name": "stdout",
          "output_type": "stream",
          "text": [
            "defaultdict(<class 'int'>, {5: 0, 1: 1})\n",
            "defaultdict(<class 'int'>, {5: 1, 1: 1})\n",
            "defaultdict(<class 'int'>, {5: 1, 1: 1, -1: 0, 7: 1})\n",
            "defaultdict(<class 'int'>, {5: 1, 1: 1, -1: 1, 7: 1})\n",
            "defaultdict(<class 'int'>, {5: 2, 1: 1, -1: 1, 7: 1})\n",
            "[(1, 5), (7, -1), (1, 5)]\n"
          ]
        }
      ],
      "source": [
        "from collections import defaultdict\n",
        "\n",
        "def find_pairs(nums, target):\n",
        "    seen = defaultdict(int)\n",
        "    pairs = []\n",
        "    for num in nums:\n",
        "        complement = target - num\n",
        "        if seen[complement]:\n",
        "            pairs.append((complement, num))\n",
        "        seen[num] += 1\n",
        "        print(seen)\n",
        "    return pairs\n",
        "\n",
        "# Example Usage:\n",
        "nums = [1, 5, 7, -1, 5]\n",
        "target = 6\n",
        "print(find_pairs(nums, target))\n",
        "# Output: [(1, 5), (7, -1)]\n"
      ]
    },
    {
      "cell_type": "code",
      "execution_count": null,
      "id": "8892a3fa-4814-4533-b4ec-2632942728b4",
      "metadata": {
        "id": "8892a3fa-4814-4533-b4ec-2632942728b4"
      },
      "outputs": [],
      "source": [
        "group_by_frequency(nums)\n",
        "nums = [1, 2, 3, 2, 4, 3, 1, 1]\n",
        "print(group_by_frequency(nums))\n",
        "# Output: {3: [1], 2: [2, 3], 1: [4]}\n",
        "\n",
        "from collections import defaultdict\n",
        "\n",
        "def groupbyfreq(nums):\n",
        "    freq = defaultdict(int)\n",
        "    for num in nums:\n",
        "        freq[num]+=1\n",
        "\n",
        "    groups = defaultdict(list)\n",
        "    for num,repititions in freq.items():\n",
        "        groups[repititions].append(num)\n",
        "\n",
        "    return dict(groups)\n",
        ""
      ]
    },
    {
      "cell_type": "code",
      "execution_count": null,
      "id": "f609c6c9-30d2-4ed9-95d2-a55fe222287d",
      "metadata": {
        "id": "f609c6c9-30d2-4ed9-95d2-a55fe222287d",
        "outputId": "61455a16-aedc-40c0-c627-8096901eb4f3"
      },
      "outputs": [
        {
          "data": {
            "text/plain": [
              "3"
            ]
          },
          "execution_count": 150,
          "metadata": {},
          "output_type": "execute_result"
        }
      ],
      "source": [
        " # Find the Most Frequent Element\n",
        "\n",
        "nums = [1, 3, 2, 2, 3, 3, 1]\n",
        "\n",
        "from collections import defaultdict\n",
        "\n",
        "def mostfreq(nums):\n",
        "    maxval = None\n",
        "    freq = defaultdict(int)\n",
        "    for x in nums:\n",
        "        freq[x]+=1\n",
        "        if maxval == None or freq[x] > maxval:\n",
        "            maxval = freq[x]\n",
        "    return maxval\n",
        "\n",
        "mostfreq(nums)"
      ]
    },
    {
      "cell_type": "code",
      "execution_count": null,
      "id": "fffe2f3f-9e81-4256-93b9-aaf12d66b53a",
      "metadata": {
        "id": "fffe2f3f-9e81-4256-93b9-aaf12d66b53a",
        "outputId": "3aa29b0a-5d26-4c52-a6ce-5b13e5b39c1b"
      },
      "outputs": [
        {
          "data": {
            "text/plain": [
              "defaultdict(list, {'aet': ['tea', 'ate', 'ate'], 'ant': ['nat']})"
            ]
          },
          "execution_count": 168,
          "metadata": {},
          "output_type": "execute_result"
        }
      ],
      "source": [
        "# Group Anagrams\n",
        "strs = [\"eat\", \"tea\", \"tan\", \"ate\", \"nat\", \"bat\"]\n",
        "\n",
        "from collections import defaultdict\n",
        "\n",
        "def charcount(s):\n",
        "    l= defaultdict(int)\n",
        "    for x in s:\n",
        "        l[x]+=1\n",
        "    return l\n",
        "\n",
        "def isanagram(s,y):\n",
        "    if len(s)!=len(y):\n",
        "        return False\n",
        "    return charcount(s) == charcount(y)\n",
        "\n",
        "\n",
        "def groupan(s):\n",
        "    dictanagrams = defaultdict(list)\n",
        "    for x in range(len(s)):\n",
        "        xs = ''.join(sorted(s[x]))\n",
        "        for y in range(x+1,len(s)):\n",
        "            if isanagram(xs,s[y]):\n",
        "                dictanagrams[xs].append(s[y])\n",
        "    return dictanagrams\n",
        "\n",
        "groupan(strs)"
      ]
    },
    {
      "cell_type": "code",
      "execution_count": null,
      "id": "7a476a9b-7cf3-43a1-be90-50b9ed99078f",
      "metadata": {
        "id": "7a476a9b-7cf3-43a1-be90-50b9ed99078f",
        "outputId": "79bd9264-a5d2-429a-ccbd-47a6828ab181"
      },
      "outputs": [
        {
          "name": "stdout",
          "output_type": "stream",
          "text": [
            "{'aet': ['eat']}\n",
            "{'aet': ['eat', 'tea']}\n",
            "{'aet': ['eat', 'tea'], 'ant': ['tan']}\n",
            "{'aet': ['eat', 'tea', 'ate'], 'ant': ['tan']}\n",
            "{'aet': ['eat', 'tea', 'ate'], 'ant': ['tan', 'nat']}\n",
            "{'aet': ['eat', 'tea', 'ate'], 'ant': ['tan', 'nat'], 'abt': ['bat']}\n"
          ]
        },
        {
          "data": {
            "text/plain": [
              "[['eat', 'tea', 'ate'], ['tan', 'nat'], ['bat']]"
            ]
          },
          "execution_count": 176,
          "metadata": {},
          "output_type": "execute_result"
        }
      ],
      "source": [
        "strs = [\"eat\", \"tea\", \"tan\", \"ate\", \"nat\", \"bat\"]\n",
        "\n",
        "from collections import defaultdict\n",
        "\n",
        "organized=defaultdict(list)\n",
        "\n",
        "for x in strs:\n",
        "    sortedone = \"\".join(sorted(x))\n",
        "    organized[sortedone].append(x)\n",
        "    print(dict(organized))\n",
        "\n",
        "list(organized.values())"
      ]
    },
    {
      "cell_type": "code",
      "execution_count": null,
      "id": "0f15962e-ff04-4c7f-bf79-f17ecd167041",
      "metadata": {
        "id": "0f15962e-ff04-4c7f-bf79-f17ecd167041",
        "outputId": "d03a655b-9842-4be3-cf65-ae7ae887f297"
      },
      "outputs": [
        {
          "name": "stdout",
          "output_type": "stream",
          "text": [
            "defaultdict(<class 'int'>, {'Adding an entry!': 0})\n"
          ]
        }
      ],
      "source": [
        "from collections import defaultdict\n",
        "d1 = defaultdict(int)\n",
        "\n",
        "d1['Adding an entry!']\n",
        "\n",
        "print(d1)"
      ]
    },
    {
      "cell_type": "code",
      "execution_count": null,
      "id": "9fe91c81-53ed-45c7-9ff2-3af914a506e0",
      "metadata": {
        "id": "9fe91c81-53ed-45c7-9ff2-3af914a506e0",
        "outputId": "5288b6f1-4797-4d2c-8c74-00cc74688eca"
      },
      "outputs": [
        {
          "data": {
            "text/plain": [
              "defaultdict(list,\n",
              "            {'M': [0], 'i': [1, 4, 7, 10], 's': [2, 3, 5, 6], 'p': [8, 9]})"
            ]
          },
          "execution_count": 183,
          "metadata": {},
          "output_type": "execute_result"
        }
      ],
      "source": [
        "from collections import defaultdict\n",
        "\n",
        "my_word = \"Mississippi\"\n",
        "\n",
        "d1 = defaultdict(list)\n",
        "\n",
        "for index, letter in enumerate(my_word):\n",
        "        d1[letter].append(index)\n",
        "\n",
        "d1"
      ]
    },
    {
      "cell_type": "code",
      "execution_count": null,
      "id": "50d6c329-a6e3-44cc-ab61-9bb2b3e8b4fa",
      "metadata": {
        "id": "50d6c329-a6e3-44cc-ab61-9bb2b3e8b4fa",
        "outputId": "854c4f8f-ddb8-45ec-c6b7-a84e2d6aaf41"
      },
      "outputs": [
        {
          "data": {
            "text/plain": [
              "False"
            ]
          },
          "execution_count": 202,
          "metadata": {},
          "output_type": "execute_result"
        }
      ],
      "source": [
        "# Given a string s, return true if it is a palindrome, or false otherwise.\n",
        "# s = \"A man, a plan, a canal: Panama\"\n",
        "def valpali(s):\n",
        "    s = s.replace(\" \",\"\")\n",
        "    z=\"\"\n",
        "    for x in s:\n",
        "        if x.isalnum():\n",
        "            z+=x.lower()\n",
        "\n",
        "    for x in range(len(z)//2):\n",
        "        if z[x] != z[-x-1]:\n",
        "            return False\n",
        "    return True\n",
        "\n",
        "valpali(s)"
      ]
    },
    {
      "cell_type": "code",
      "execution_count": null,
      "id": "b56a4150-8c6e-4698-810b-b36b7c8d73a9",
      "metadata": {
        "id": "b56a4150-8c6e-4698-810b-b36b7c8d73a9",
        "outputId": "50a5ea46-1556-476b-c5a8-3fe99321cdd1"
      },
      "outputs": [
        {
          "name": "stdout",
          "output_type": "stream",
          "text": [
            "-1 0 1\n",
            "-1 2 -1\n",
            "0 1 -1\n"
          ]
        },
        {
          "data": {
            "text/plain": [
              "[0, 1, -1]"
            ]
          },
          "execution_count": 229,
          "metadata": {},
          "output_type": "execute_result"
        }
      ],
      "source": [
        "# 3 sum problem\n",
        "\n",
        "m = [-1,0,1,2,-1,-4]\n",
        "\n",
        "# l=m[0]\n",
        "# r= len(m)\n",
        "target = 0\n",
        "for x in range(len(m)):\n",
        "    complement = target - m[x]\n",
        "    for y in range(x+1,len(m)):\n",
        "        complement1=complement - m[y]\n",
        "        for z in range(y+1,len(m)):\n",
        "            if m[z]== complement1:\n",
        "                print (m[x],m[y],m[z])\n",
        "\n",
        "c=[[-1,0, 1], [1,0,-1]]\n",
        "for i,x in enumerate(c):\n",
        "    c[i]= sorted(x)\n",
        "\n",
        "set1=()\n",
        "for x in c:\n",
        "    set1 = set(tuple(x))\n",
        "list(set1)"
      ]
    },
    {
      "cell_type": "code",
      "execution_count": null,
      "id": "0cdfd95e-94c4-4b43-bd6e-5fc691b086b2",
      "metadata": {
        "id": "0cdfd95e-94c4-4b43-bd6e-5fc691b086b2",
        "outputId": "3f29c5af-dafc-4797-8a69-3366b57fa7a0"
      },
      "outputs": [
        {
          "data": {
            "text/plain": [
              "[5, 1]"
            ]
          },
          "execution_count": 244,
          "metadata": {},
          "output_type": "execute_result"
        }
      ],
      "source": [
        "# Given an integer array nums and an integer k, return the k most frequent elements.\n",
        "nums = [1,1,1,1,1,1,2,2,3,5,5,5,5,5,5,5,5,1]\n",
        "k = 2\n",
        "from collections import defaultdict\n",
        "def kmost(nums):\n",
        "    kmostdic = defaultdict(int)\n",
        "    for x in nums:\n",
        "        kmostdic[x]+=1\n",
        "    return dict(kmostdic)\n",
        "l1 = kmost(nums)\n",
        "\n",
        "z={}\n",
        "for element,freq in l1.items():\n",
        "    z[freq]=element\n",
        "\n",
        "# for element,reps in l1.items():\n",
        "y= sorted(z, reverse = True)[:2]\n",
        "\n",
        "mostfreq=[]\n",
        "for x in y:\n",
        "    mostfreq.append(z[x])\n",
        "\n",
        "mostfreq"
      ]
    },
    {
      "cell_type": "code",
      "execution_count": null,
      "id": "efbe68b6-8be5-4eb1-bd89-c52d61cfb890",
      "metadata": {
        "id": "efbe68b6-8be5-4eb1-bd89-c52d61cfb890",
        "outputId": "5df3e280-1197-4cb1-e8a3-35522b71b77d"
      },
      "outputs": [
        {
          "name": "stdout",
          "output_type": "stream",
          "text": [
            "5 8\n",
            "1 7\n",
            "2 2\n",
            "3 1\n"
          ]
        }
      ],
      "source": [
        "nums = [1,1,1,1,1,1,2,2,3,5,5,5,5,5,5,5,5,1]\n",
        "from collections import Counter\n",
        "\n",
        "count = Counter(nums)\n",
        "\n",
        "for item,freq in count.most_common():\n",
        "    print(item,freq)\n",
        ""
      ]
    },
    {
      "cell_type": "code",
      "execution_count": null,
      "id": "16641e3d-2695-41de-ae14-bb13d2fac36b",
      "metadata": {
        "id": "16641e3d-2695-41de-ae14-bb13d2fac36b",
        "outputId": "c7253e85-bd76-4f81-e202-c746aa474182"
      },
      "outputs": [
        {
          "name": "stdout",
          "output_type": "stream",
          "text": [
            "0\n"
          ]
        }
      ],
      "source": [
        "# Example usage:\n",
        "nums = [3, -1, 2, -4, 0]\n",
        " # Output: 0\n",
        "\n",
        "\n",
        "def find_closest_to_zero(nums):\n",
        "    minv = nums[0]\n",
        "    for x in nums:\n",
        "        minv = min(minv, abs(x))\n",
        "    return minv\n",
        "\n",
        "print(find_closest_to_zero(nums))"
      ]
    },
    {
      "cell_type": "code",
      "execution_count": null,
      "id": "215b0fa8-92f4-4fd9-afac-ff20eff1ea25",
      "metadata": {
        "id": "215b0fa8-92f4-4fd9-afac-ff20eff1ea25",
        "outputId": "b1af2293-6f6d-4de1-d705-4ba3087cdc91"
      },
      "outputs": [
        {
          "data": {
            "text/plain": [
              "('a', 'p', 'b', 'q', 'c', 'r')"
            ]
          },
          "execution_count": 258,
          "metadata": {},
          "output_type": "execute_result"
        }
      ],
      "source": [
        "# Input: word1 = \"abc\", word2 = \"pqr\"\n",
        "# Output: \"apbqcr\"\n",
        "word1 = \"abc\"\n",
        "word2 = \"pqr\"\n",
        "c=  [s for s in word1]\n",
        "c1=  [s for s in word2]\n",
        "t= list(zip(c,c1))\n",
        "t1=()\n",
        "for x in t:\n",
        "    t1+=x\n",
        "list(t1)"
      ]
    },
    {
      "cell_type": "code",
      "execution_count": null,
      "id": "af1d9cae-8d93-4fb7-91cc-0b5c4730a9e6",
      "metadata": {
        "id": "af1d9cae-8d93-4fb7-91cc-0b5c4730a9e6",
        "outputId": "52ed9d30-71bf-457e-c375-ca15231a5e22"
      },
      "outputs": [
        {
          "name": "stdout",
          "output_type": "stream",
          "text": [
            "3\n"
          ]
        }
      ],
      "source": [
        "# # f(2)\n",
        "# Fibonacci sequence\n",
        "# Input: n = 2\n",
        "# Output: 1\n",
        "# Explanation: F(2) = F(1) + F(0) = 1 + 0 = 1.\n",
        "n=4\n",
        "\n",
        "a=0\n",
        "b=1\n",
        "\n",
        "for x in range(2,n+1):\n",
        "    a,b = b,a+b\n",
        "print(b)\n",
        "\n",
        "# 0,1,1,2,3,5"
      ]
    },
    {
      "cell_type": "code",
      "execution_count": null,
      "id": "ef197a60-9e0f-47a6-a7c0-c8229b4a0aa1",
      "metadata": {
        "id": "ef197a60-9e0f-47a6-a7c0-c8229b4a0aa1",
        "outputId": "13ae84f2-fcf0-4718-c3e7-089f1b6fcc47"
      },
      "outputs": [
        {
          "data": {
            "text/plain": [
              "71"
            ]
          },
          "execution_count": 18,
          "metadata": {},
          "output_type": "execute_result"
        }
      ],
      "source": [
        "# nums = [1,12,-5,-6,24,50,3]\n",
        "# k=4\n",
        "# currsum=nums[:k]\n",
        "# maxsum= sum(nums[:k])\n",
        "# for i in range(len(nums)):\n",
        "#     if i+4<=len(nums):\n",
        "#         currsum = sum(nums[i:i+4])\n",
        "#         maxsum = max(currsum, maxsum)\n",
        "\n",
        "# maxsum\n",
        "# Input: nums = [1,12,-5,-6,50,3], k = 4\n",
        "# Output: 12.75000\n",
        "# Explanation: Maximum average is (12 - 5 - 6 + 50) / 4 = 51 / 4 = 12.75\n",
        "# nums = [1, 12, -5, -6, 50, 3]\n",
        "# k = 4\n",
        "\n",
        "# Initialize the current sum with the sum of the first 'k' elements\n",
        "currsum = sum(nums[:k])\n",
        "maxsum = currsum\n",
        "\n",
        "# [12, -5, -6, 50]\n",
        "\n",
        "# Use a sliding window to find the maximum sum of subarrays of length 'k'\n",
        "for i in range(1, len(nums) - k + 1):\n",
        "    # Update currsum by sliding the window (subtract the element going out and add the new one)\n",
        "    currsum = currsum - nums[i - 1] + nums[i + k - 1]\n",
        "    maxsum = max(currsum, maxsum)\n",
        "\n",
        "# Calculate and print the maximum average\n",
        "max_average = maxsum / k\n",
        "print(max_average)\n"
      ]
    },
    {
      "cell_type": "code",
      "execution_count": null,
      "id": "2662eb28-b0c2-4aec-91a5-d821ce78fe90",
      "metadata": {
        "id": "2662eb28-b0c2-4aec-91a5-d821ce78fe90",
        "outputId": "8109f13e-f1b0-403d-fe6d-7591bf0d0a2a"
      },
      "outputs": [
        {
          "data": {
            "text/plain": [
              "2"
            ]
          },
          "execution_count": 25,
          "metadata": {},
          "output_type": "execute_result"
        }
      ],
      "source": [
        "from collections import Counter\n",
        "\n",
        "text = \"loonbalxballpoon\"\n",
        "find = \"balloon\"\n",
        "d1= dict(Counter(text))\n",
        "d2=dict(Counter(find))\n",
        "\n",
        "d1['b']"
      ]
    },
    {
      "cell_type": "code",
      "execution_count": null,
      "id": "1d2b86b1-a3e3-46ae-8a5f-c4a04f113393",
      "metadata": {
        "id": "1d2b86b1-a3e3-46ae-8a5f-c4a04f113393",
        "outputId": "23e5a3c1-fbd9-4d40-9353-eea10f3b7280"
      },
      "outputs": [
        {
          "data": {
            "text/plain": [
              "[1, 2, 3, 4, 5]"
            ]
          },
          "execution_count": 41,
          "metadata": {},
          "output_type": "execute_result"
        }
      ],
      "source": [
        "#merge two in ascending order\n",
        "# Input: nums1 = [1,2,3,0,0,0], m = 3, nums2 = [2,5,6], n = 3\n",
        "# Output: [1,2,2,3,5,6]\n",
        "\n",
        "# nums1 = [1,2,3,0,0,0]\n",
        "# m = 3\n",
        "# nums2 = [2,5,6]\n",
        "# n = 3\n",
        "\n",
        "# remove-duplicates-from-sorted-array\n",
        "# Input: nums = [1,1,2]\n",
        "# Output: 2, nums = [1,2,_]\n",
        "\n",
        "\n",
        "nums = [1,1,2,2,2,3,4,5]\n",
        "current = nums[0]\n",
        "final =  [nums[0]]\n",
        "\n",
        "for x in range(1, len(nums)):\n",
        "    if nums[x] != current:\n",
        "        final.append((nums[x]))\n",
        "        current = nums[x]\n",
        "\n",
        "final"
      ]
    },
    {
      "cell_type": "code",
      "execution_count": null,
      "id": "3750d303-c276-4199-b566-c0180f591038",
      "metadata": {
        "id": "3750d303-c276-4199-b566-c0180f591038",
        "outputId": "f670a96e-2674-4ebc-fd90-ab5436942be3"
      },
      "outputs": [
        {
          "ename": "KeyboardInterrupt",
          "evalue": "",
          "output_type": "error",
          "traceback": [
            "\u001b[1;31m---------------------------------------------------------------------------\u001b[0m",
            "\u001b[1;31mKeyboardInterrupt\u001b[0m                         Traceback (most recent call last)",
            "Cell \u001b[1;32mIn[46], line 5\u001b[0m\n\u001b[0;32m      2\u001b[0m lcp \u001b[38;5;241m=\u001b[39m strs[\u001b[38;5;241m0\u001b[39m]\n\u001b[0;32m      4\u001b[0m \u001b[38;5;28;01mfor\u001b[39;00m x \u001b[38;5;129;01min\u001b[39;00m \u001b[38;5;28mrange\u001b[39m(\u001b[38;5;241m1\u001b[39m,\u001b[38;5;28mlen\u001b[39m(strs)):\n\u001b[1;32m----> 5\u001b[0m     \u001b[38;5;28;01mwhile\u001b[39;00m lcp \u001b[38;5;241m!=\u001b[39m strs[x]:\n\u001b[0;32m      6\u001b[0m         lcp \u001b[38;5;241m=\u001b[39m \u001b[38;5;124m\"\u001b[39m\u001b[38;5;124m\"\u001b[39m\u001b[38;5;241m.\u001b[39mjoin(lcp[\u001b[38;5;241m0\u001b[39m:\u001b[38;5;28mlen\u001b[39m(lcp)\u001b[38;5;241m-\u001b[39m\u001b[38;5;241m1\u001b[39m])\n\u001b[0;32m      8\u001b[0m \u001b[38;5;28mprint\u001b[39m(lcp)\n",
            "\u001b[1;31mKeyboardInterrupt\u001b[0m: "
          ]
        }
      ],
      "source": [
        "strs = [\"flower\",\"flow\",\"flight\"]\n",
        "lcp = strs[0]\n",
        "\n",
        "for x in range(1,len(strs)):\n",
        "    while lcp != strs[x]:\n",
        "        lcp = \"\".join(lcp[0:len(lcp)-1])\n",
        "\n",
        "print(lcp)\n",
        ""
      ]
    },
    {
      "cell_type": "code",
      "execution_count": null,
      "id": "426d5b95-93f0-4d98-944d-c96537c8cbfa",
      "metadata": {
        "id": "426d5b95-93f0-4d98-944d-c96537c8cbfa",
        "outputId": "e0551d49-1059-481f-d286-583a37e3f097"
      },
      "outputs": [
        {
          "data": {
            "text/plain": [
              "5"
            ]
          },
          "execution_count": 48,
          "metadata": {},
          "output_type": "execute_result"
        }
      ],
      "source": [
        "# Input: prices = [7,1,5,3,6,4]\n",
        "# Output: 5\n",
        "#best time to buy and sell\n",
        "\n",
        "prices = [7,1,5,3,6,4]\n",
        "minday = prices[0]\n",
        "maxgain = 0\n",
        "\n",
        "for x in range(len(prices)):\n",
        "    if x<minday:\n",
        "        minday = x\n",
        "    gain = x-minday\n",
        "    maxgain = max(gain,maxgain)\n",
        "\n",
        "maxgain\n",
        "\n"
      ]
    },
    {
      "cell_type": "code",
      "execution_count": null,
      "id": "c62e6834-82c7-4307-92ff-5a9eb1e33174",
      "metadata": {
        "id": "c62e6834-82c7-4307-92ff-5a9eb1e33174",
        "outputId": "ef812f63-3953-46d3-a296-bb753882ff50"
      },
      "outputs": [
        {
          "name": "stdout",
          "output_type": "stream",
          "text": [
            "Help on built-in module math:\n",
            "\n",
            "NAME\n",
            "    math\n",
            "\n",
            "DESCRIPTION\n",
            "    This module provides access to the mathematical functions\n",
            "    defined by the C standard.\n",
            "\n",
            "FUNCTIONS\n",
            "    acos(x, /)\n",
            "        Return the arc cosine (measured in radians) of x.\n",
            "\n",
            "        The result is between 0 and pi.\n",
            "\n",
            "    acosh(x, /)\n",
            "        Return the inverse hyperbolic cosine of x.\n",
            "\n",
            "    asin(x, /)\n",
            "        Return the arc sine (measured in radians) of x.\n",
            "\n",
            "        The result is between -pi/2 and pi/2.\n",
            "\n",
            "    asinh(x, /)\n",
            "        Return the inverse hyperbolic sine of x.\n",
            "\n",
            "    atan(x, /)\n",
            "        Return the arc tangent (measured in radians) of x.\n",
            "\n",
            "        The result is between -pi/2 and pi/2.\n",
            "\n",
            "    atan2(y, x, /)\n",
            "        Return the arc tangent (measured in radians) of y/x.\n",
            "\n",
            "        Unlike atan(y/x), the signs of both x and y are considered.\n",
            "\n",
            "    atanh(x, /)\n",
            "        Return the inverse hyperbolic tangent of x.\n",
            "\n",
            "    cbrt(x, /)\n",
            "        Return the cube root of x.\n",
            "\n",
            "    ceil(x, /)\n",
            "        Return the ceiling of x as an Integral.\n",
            "\n",
            "        This is the smallest integer >= x.\n",
            "\n",
            "    comb(n, k, /)\n",
            "        Number of ways to choose k items from n items without repetition and without order.\n",
            "\n",
            "        Evaluates to n! / (k! * (n - k)!) when k <= n and evaluates\n",
            "        to zero when k > n.\n",
            "\n",
            "        Also called the binomial coefficient because it is equivalent\n",
            "        to the coefficient of k-th term in polynomial expansion of the\n",
            "        expression (1 + x)**n.\n",
            "\n",
            "        Raises TypeError if either of the arguments are not integers.\n",
            "        Raises ValueError if either of the arguments are negative.\n",
            "\n",
            "    copysign(x, y, /)\n",
            "        Return a float with the magnitude (absolute value) of x but the sign of y.\n",
            "\n",
            "        On platforms that support signed zeros, copysign(1.0, -0.0)\n",
            "        returns -1.0.\n",
            "\n",
            "    cos(x, /)\n",
            "        Return the cosine of x (measured in radians).\n",
            "\n",
            "    cosh(x, /)\n",
            "        Return the hyperbolic cosine of x.\n",
            "\n",
            "    degrees(x, /)\n",
            "        Convert angle x from radians to degrees.\n",
            "\n",
            "    dist(p, q, /)\n",
            "        Return the Euclidean distance between two points p and q.\n",
            "\n",
            "        The points should be specified as sequences (or iterables) of\n",
            "        coordinates.  Both inputs must have the same dimension.\n",
            "\n",
            "        Roughly equivalent to:\n",
            "            sqrt(sum((px - qx) ** 2.0 for px, qx in zip(p, q)))\n",
            "\n",
            "    erf(x, /)\n",
            "        Error function at x.\n",
            "\n",
            "    erfc(x, /)\n",
            "        Complementary error function at x.\n",
            "\n",
            "    exp(x, /)\n",
            "        Return e raised to the power of x.\n",
            "\n",
            "    exp2(x, /)\n",
            "        Return 2 raised to the power of x.\n",
            "\n",
            "    expm1(x, /)\n",
            "        Return exp(x)-1.\n",
            "\n",
            "        This function avoids the loss of precision involved in the direct evaluation of exp(x)-1 for small x.\n",
            "\n",
            "    fabs(x, /)\n",
            "        Return the absolute value of the float x.\n",
            "\n",
            "    factorial(n, /)\n",
            "        Find n!.\n",
            "\n",
            "        Raise a ValueError if x is negative or non-integral.\n",
            "\n",
            "    floor(x, /)\n",
            "        Return the floor of x as an Integral.\n",
            "\n",
            "        This is the largest integer <= x.\n",
            "\n",
            "    fmod(x, y, /)\n",
            "        Return fmod(x, y), according to platform C.\n",
            "\n",
            "        x % y may differ.\n",
            "\n",
            "    frexp(x, /)\n",
            "        Return the mantissa and exponent of x, as pair (m, e).\n",
            "\n",
            "        m is a float and e is an int, such that x = m * 2.**e.\n",
            "        If x is 0, m and e are both 0.  Else 0.5 <= abs(m) < 1.0.\n",
            "\n",
            "    fsum(seq, /)\n",
            "        Return an accurate floating point sum of values in the iterable seq.\n",
            "\n",
            "        Assumes IEEE-754 floating point arithmetic.\n",
            "\n",
            "    gamma(x, /)\n",
            "        Gamma function at x.\n",
            "\n",
            "    gcd(*integers)\n",
            "        Greatest Common Divisor.\n",
            "\n",
            "    hypot(...)\n",
            "        hypot(*coordinates) -> value\n",
            "\n",
            "        Multidimensional Euclidean distance from the origin to a point.\n",
            "\n",
            "        Roughly equivalent to:\n",
            "            sqrt(sum(x**2 for x in coordinates))\n",
            "\n",
            "        For a two dimensional point (x, y), gives the hypotenuse\n",
            "        using the Pythagorean theorem:  sqrt(x*x + y*y).\n",
            "\n",
            "        For example, the hypotenuse of a 3/4/5 right triangle is:\n",
            "\n",
            "            >>> hypot(3.0, 4.0)\n",
            "            5.0\n",
            "\n",
            "    isclose(a, b, *, rel_tol=1e-09, abs_tol=0.0)\n",
            "        Determine whether two floating point numbers are close in value.\n",
            "\n",
            "          rel_tol\n",
            "            maximum difference for being considered \"close\", relative to the\n",
            "            magnitude of the input values\n",
            "          abs_tol\n",
            "            maximum difference for being considered \"close\", regardless of the\n",
            "            magnitude of the input values\n",
            "\n",
            "        Return True if a is close in value to b, and False otherwise.\n",
            "\n",
            "        For the values to be considered close, the difference between them\n",
            "        must be smaller than at least one of the tolerances.\n",
            "\n",
            "        -inf, inf and NaN behave similarly to the IEEE 754 Standard.  That\n",
            "        is, NaN is not close to anything, even itself.  inf and -inf are\n",
            "        only close to themselves.\n",
            "\n",
            "    isfinite(x, /)\n",
            "        Return True if x is neither an infinity nor a NaN, and False otherwise.\n",
            "\n",
            "    isinf(x, /)\n",
            "        Return True if x is a positive or negative infinity, and False otherwise.\n",
            "\n",
            "    isnan(x, /)\n",
            "        Return True if x is a NaN (not a number), and False otherwise.\n",
            "\n",
            "    isqrt(n, /)\n",
            "        Return the integer part of the square root of the input.\n",
            "\n",
            "    lcm(*integers)\n",
            "        Least Common Multiple.\n",
            "\n",
            "    ldexp(x, i, /)\n",
            "        Return x * (2**i).\n",
            "\n",
            "        This is essentially the inverse of frexp().\n",
            "\n",
            "    lgamma(x, /)\n",
            "        Natural logarithm of absolute value of Gamma function at x.\n",
            "\n",
            "    log(...)\n",
            "        log(x, [base=math.e])\n",
            "        Return the logarithm of x to the given base.\n",
            "\n",
            "        If the base is not specified, returns the natural logarithm (base e) of x.\n",
            "\n",
            "    log10(x, /)\n",
            "        Return the base 10 logarithm of x.\n",
            "\n",
            "    log1p(x, /)\n",
            "        Return the natural logarithm of 1+x (base e).\n",
            "\n",
            "        The result is computed in a way which is accurate for x near zero.\n",
            "\n",
            "    log2(x, /)\n",
            "        Return the base 2 logarithm of x.\n",
            "\n",
            "    modf(x, /)\n",
            "        Return the fractional and integer parts of x.\n",
            "\n",
            "        Both results carry the sign of x and are floats.\n",
            "\n",
            "    nextafter(x, y, /, *, steps=None)\n",
            "        Return the floating-point value the given number of steps after x towards y.\n",
            "\n",
            "        If steps is not specified or is None, it defaults to 1.\n",
            "\n",
            "        Raises a TypeError, if x or y is not a double, or if steps is not an integer.\n",
            "        Raises ValueError if steps is negative.\n",
            "\n",
            "    perm(n, k=None, /)\n",
            "        Number of ways to choose k items from n items without repetition and with order.\n",
            "\n",
            "        Evaluates to n! / (n - k)! when k <= n and evaluates\n",
            "        to zero when k > n.\n",
            "\n",
            "        If k is not specified or is None, then k defaults to n\n",
            "        and the function returns n!.\n",
            "\n",
            "        Raises TypeError if either of the arguments are not integers.\n",
            "        Raises ValueError if either of the arguments are negative.\n",
            "\n",
            "    pow(x, y, /)\n",
            "        Return x**y (x to the power of y).\n",
            "\n",
            "    prod(iterable, /, *, start=1)\n",
            "        Calculate the product of all the elements in the input iterable.\n",
            "\n",
            "        The default start value for the product is 1.\n",
            "\n",
            "        When the iterable is empty, return the start value.  This function is\n",
            "        intended specifically for use with numeric values and may reject\n",
            "        non-numeric types.\n",
            "\n",
            "    radians(x, /)\n",
            "        Convert angle x from degrees to radians.\n",
            "\n",
            "    remainder(x, y, /)\n",
            "        Difference between x and the closest integer multiple of y.\n",
            "\n",
            "        Return x - n*y where n*y is the closest integer multiple of y.\n",
            "        In the case where x is exactly halfway between two multiples of\n",
            "        y, the nearest even value of n is used. The result is always exact.\n",
            "\n",
            "    sin(x, /)\n",
            "        Return the sine of x (measured in radians).\n",
            "\n",
            "    sinh(x, /)\n",
            "        Return the hyperbolic sine of x.\n",
            "\n",
            "    sqrt(x, /)\n",
            "        Return the square root of x.\n",
            "\n",
            "    sumprod(p, q, /)\n",
            "        Return the sum of products of values from two iterables p and q.\n",
            "\n",
            "        Roughly equivalent to:\n",
            "\n",
            "            sum(itertools.starmap(operator.mul, zip(p, q, strict=True)))\n",
            "\n",
            "        For float and mixed int/float inputs, the intermediate products\n",
            "        and sums are computed with extended precision.\n",
            "\n",
            "    tan(x, /)\n",
            "        Return the tangent of x (measured in radians).\n",
            "\n",
            "    tanh(x, /)\n",
            "        Return the hyperbolic tangent of x.\n",
            "\n",
            "    trunc(x, /)\n",
            "        Truncates the Real x to the nearest Integral toward 0.\n",
            "\n",
            "        Uses the __trunc__ magic method.\n",
            "\n",
            "    ulp(x, /)\n",
            "        Return the value of the least significant bit of the float x.\n",
            "\n",
            "DATA\n",
            "    e = 2.718281828459045\n",
            "    inf = inf\n",
            "    nan = nan\n",
            "    pi = 3.141592653589793\n",
            "    tau = 6.283185307179586\n",
            "\n",
            "FILE\n",
            "    (built-in)\n",
            "\n",
            "\n"
          ]
        }
      ],
      "source": [
        "#return sqrt of 1 to 100 in a list\n",
        "import math\n",
        "help(math)\n"
      ]
    }
  ],
  "metadata": {
    "kernelspec": {
      "display_name": "Python 3 (ipykernel)",
      "language": "python",
      "name": "python3"
    },
    "language_info": {
      "codemirror_mode": {
        "name": "ipython",
        "version": 3
      },
      "file_extension": ".py",
      "mimetype": "text/x-python",
      "name": "python",
      "nbconvert_exporter": "python",
      "pygments_lexer": "ipython3",
      "version": "3.12.4"
    },
    "colab": {
      "provenance": [],
      "include_colab_link": true
    }
  },
  "nbformat": 4,
  "nbformat_minor": 5
}