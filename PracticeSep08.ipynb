{
  "cells": [
    {
      "cell_type": "markdown",
      "metadata": {
        "id": "view-in-github",
        "colab_type": "text"
      },
      "source": [
        "<a href=\"https://colab.research.google.com/github/ThejaRoop/Jupyter_related/blob/main/PracticeSep08.ipynb\" target=\"_parent\"><img src=\"https://colab.research.google.com/assets/colab-badge.svg\" alt=\"Open In Colab\"/></a>"
      ]
    },
    {
      "cell_type": "code",
      "execution_count": null,
      "id": "af70da1e-70f0-4500-80bf-7a2e23e443aa",
      "metadata": {
        "id": "af70da1e-70f0-4500-80bf-7a2e23e443aa"
      },
      "outputs": [],
      "source": [
        "binary_rep = bin(4)[2:]\n",
        "consecutive_ones = binary_rep.split('0')\n",
        "\n",
        "    # Find the maximum length of consecutive '1's\n",
        "max_ones = max(len(group) for group in consecutive_ones)\n",
        "\n",
        "\n",
        "from collections import deque\n",
        "\n",
        "# Initialize deque\n",
        "d = deque([1, 2, 3])\n",
        "print(\"Initial deque:\", d)  # Output: deque([1, 2, 3])\n",
        "\n",
        "# Append items\n",
        "d.append(4)\n",
        "d.appendleft(0)\n",
        "print(\"After append and appendleft:\", d)  # Output: deque([0, 1, 2, 3, 4])\n",
        "\n",
        "# Pop items\n",
        "print(\"Popped from right:\", d.pop())      # Output: 4\n",
        "print(\"Popped from left:\", d.popleft())   # Output: 0\n",
        "print(\"After pop and popleft:\", d)         # Output: deque([1, 2, 3])\n",
        "\n",
        "# Extend deque\n",
        "d.extend([4, 5, 6])\n",
        "d.extendleft([-1, -2])\n",
        "print(\"After extend and extendleft:\", d)  # Output: deque([-2, -1, 1, 2, 3, 4, 5, 6])\n",
        "\n",
        "# Remove item\n",
        "d.remove(-2)\n",
        "print(\"After removing -2:\", d)            # Output: deque([-1, 1, 2, 3, 4, 5, 6])\n",
        "\n",
        "# Clear deque\n",
        "d.clear()\n",
        "print(\"After clearing:\", d)                # Output: deque([])\n",
        "\n",
        "# Max length\n",
        "d = deque([1, 2, 3], maxlen=5)\n",
        "print(\"Max length:\", d.maxlen)             # Output: 5\n",
        "\n",
        "\n",
        "s='e'\n",
        "try:\n",
        "    value=int(s)\n",
        "    print(value)\n",
        "except ValueError:\n",
        "    print(\"Bad String\")\n",
        "\n",
        "a ={'a', 'r', 'b', 'c', 'd'}\n",
        "a | b\n",
        "a & b\n",
        "a ^ b\n",
        "\n",
        "#check palindrome\n",
        "\n",
        "# 0 n-1\n",
        "# 1 n-2\n",
        "s = 'racecar'\n",
        "v=\"not palindrome\"\n",
        "def checkpli(s):\n",
        "    c= list(s)\n",
        "    # for x in range(0,len(c)):\n",
        "    x=0\n",
        "    while x < len(c)//2:\n",
        "        if c[x] !=c[len(c)-x-1]:\n",
        "            return v\n",
        "        x+=1\n",
        "    print(\"palindrome\")\n",
        "\n",
        "\n",
        "checkpli(s)\n",
        "\n",
        "# Global Variables: Accessible from anywhere in the code.\n",
        "# Local Variables: Defined and accessible only within a function.\n",
        "# Nonlocal Variables: Allows modification of variables in the enclosing (outer) function from within a nested (inner) function.\n",
        "\n",
        "arr=[1,2]\n",
        "c= (lambda x: x+2)\n",
        "result = list(map(c,arr))\n",
        "result\n",
        "\n",
        "help(math) vs help(str)\n",
        "\n",
        "@classmethod\n",
        "@staticmethod\n",
        "@property\n",
        "@_.setter\n",
        "@_.deleter\n",
        "\n",
        "from collections import defaultdict\n",
        "unique_counts1 = defaultdict(int)\n",
        "help(unique_counts1)\n",
        "\n",
        "import functools\n",
        "\n",
        "def log_function_call(func):\n",
        "    @functools.wraps(func)\n",
        "    def wrapper(*args, **kwargs):\n",
        "        print(f\"Calling {func.__name__} with arguments {args} and keyword arguments {kwargs}\")\n",
        "        result = func(*args, **kwargs)\n",
        "        print(f\"{func.__name__} returned {result}\")\n",
        "        return result\n",
        "    return wrapper\n",
        "\n",
        "@log_function_call\n",
        "def add(a, b):\n",
        "    return a + b\n",
        "add(3, 5)\n",
        "\n",
        "\n",
        "#class decorators\n",
        "def simple_decorator(cls):\n",
        "    # This is the decorator function that modifies the class behavior.\n",
        "    class WrappedClass:\n",
        "        def __init__(self, *args, **kwargs):\n",
        "            print(\"Class is being instantiated.\")\n",
        "            self.instance = cls(*args, **kwargs)  # Create an instance of the original class\n",
        "\n",
        "        def say_hello(self):\n",
        "            print(\"Hello from the decorator!\")\n",
        "\n",
        "    return WrappedClass\n",
        "\n",
        "@simple_decorator\n",
        "class MyClass:\n",
        "    def __init__(self, name):\n",
        "        self.name = name\n",
        "\n",
        "    def greet(self):\n",
        "        print(f\"Hello, {self.name}!\")\n",
        "\n",
        "# Example usage\n",
        "obj = MyClass(\"Alice\")\n",
        "obj.say_hello()  # Calls the decorator-added method\n",
        "\n",
        "queue = [1]\n",
        "queue.append((2, 3))\n",
        "# queue.sort(key=lambda x: x[1], reverse=True)\n",
        "queue\n",
        "\n",
        "\n",
        "from collections import deque\n",
        "d = deque([1, 2, 3])\n",
        "reversed_deque = deque(reversed(d))\n",
        "print(reversed_deque)\n",
        "\n",
        "s1='abcfffa'\n",
        "s2='cab'\n",
        "\n",
        "c= s1[2:]+s1[:2]\n",
        "c"
      ]
    },
    {
      "cell_type": "code",
      "execution_count": null,
      "id": "dd04bad1-6eeb-4f47-9341-42b1bf9bb35f",
      "metadata": {
        "id": "dd04bad1-6eeb-4f47-9341-42b1bf9bb35f",
        "outputId": "886fa7a5-b204-4116-b844-5b9dff2264b8"
      },
      "outputs": [
        {
          "data": {
            "text/plain": [
              "142"
            ]
          },
          "execution_count": 5,
          "metadata": {},
          "output_type": "execute_result"
        }
      ],
      "source": [
        "number = int('10001110', base=2)\n",
        "number"
      ]
    },
    {
      "cell_type": "code",
      "execution_count": null,
      "id": "cdc5ebe8-af2d-495a-821b-86e31ee0b6d8",
      "metadata": {
        "id": "cdc5ebe8-af2d-495a-821b-86e31ee0b6d8",
        "outputId": "c4779bc9-f086-47c4-bba6-0c6b9fe963e2"
      },
      "outputs": [
        {
          "data": {
            "text/plain": [
              "[1, (2, 3)]"
            ]
          },
          "execution_count": 1,
          "metadata": {},
          "output_type": "execute_result"
        }
      ],
      "source": []
    },
    {
      "cell_type": "code",
      "execution_count": null,
      "id": "bc21a893-c965-443c-8c2b-9914860ec0df",
      "metadata": {
        "id": "bc21a893-c965-443c-8c2b-9914860ec0df"
      },
      "outputs": [],
      "source": []
    },
    {
      "cell_type": "code",
      "execution_count": null,
      "id": "55684363-afeb-4524-913c-01595762ee1c",
      "metadata": {
        "id": "55684363-afeb-4524-913c-01595762ee1c",
        "outputId": "d42c2994-27df-42ec-a0e9-25b7fc319154"
      },
      "outputs": [
        {
          "name": "stdout",
          "output_type": "stream",
          "text": [
            "Calling add with arguments (3, 5) and keyword arguments {}\n",
            "add returned 8\n"
          ]
        },
        {
          "data": {
            "text/plain": [
              "8"
            ]
          },
          "execution_count": 21,
          "metadata": {},
          "output_type": "execute_result"
        }
      ],
      "source": []
    },
    {
      "cell_type": "code",
      "execution_count": null,
      "id": "87259677-c22f-4cce-99e9-2078c471004d",
      "metadata": {
        "id": "87259677-c22f-4cce-99e9-2078c471004d",
        "outputId": "94d943bc-46cd-4fd1-cf31-618fd658fec5"
      },
      "outputs": [
        {
          "data": {
            "text/plain": [
              "[1, 3, 4, [22, 1]]"
            ]
          },
          "execution_count": 6,
          "metadata": {},
          "output_type": "execute_result"
        }
      ],
      "source": [
        "node=[22,1]\n",
        "a=[1,3,4]\n",
        "\n",
        "a.append(node)\n",
        "\n",
        "a[-1]\n",
        "\n",
        "a\n",
        "\n",
        "\n",
        "\n",
        "\n"
      ]
    },
    {
      "cell_type": "code",
      "execution_count": null,
      "id": "bf7c511c-67c3-4963-b2b5-88fe358603ca",
      "metadata": {
        "id": "bf7c511c-67c3-4963-b2b5-88fe358603ca",
        "outputId": "fb6504a8-8d92-4e64-9b16-19370c249a79"
      },
      "outputs": [
        {
          "name": "stdout",
          "output_type": "stream",
          "text": [
            "b'day_of_week: 2\\n'\n",
            "b'day_of_year: 247\\n'\n",
            "b'utc_offset: +00:00\\n'\n",
            "b'utc_datetime: 2024-09-03T00:08:34.286435+00:00\\n'\n",
            "b'datetime: 2024-09-03T00:08:34.286435+00:00\\n'\n",
            "b'dst_offset: 0\\n'\n",
            "b'week_number: 36\\n'\n",
            "b'unixtime: 1725322114\\n'\n",
            "b'timezone: Etc/UTC\\n'\n",
            "b'raw_offset: 0\\n'\n",
            "b'dst_until: \\n'\n",
            "b'dst_from: \\n'\n",
            "b'dst: false\\n'\n",
            "b'client_ip: 47.188.40.212\\n'\n",
            "b'abbreviation: UTC'\n"
          ]
        }
      ],
      "source": [
        "from urllib.request import urlopen\n",
        "with urlopen('http://worldtimeapi.org/api/timezone/etc/UTC.txt') as response:\n",
        "    for line in response:\n",
        "        print(line)\n",
        "        # line = line.decode()             # Convert bytes to a str\n",
        "        # if line.startswith('datetime'):\n",
        "        #     print(line.rstrip())         # Remove trailing newline\n"
      ]
    },
    {
      "cell_type": "code",
      "execution_count": null,
      "id": "4f268dd3-47d9-420e-b0dd-b166bcea5def",
      "metadata": {
        "id": "4f268dd3-47d9-420e-b0dd-b166bcea5def",
        "outputId": "0865356c-0708-44ba-e4ef-8820a39fff0e"
      },
      "outputs": [
        {
          "data": {
            "text/plain": [
              "[1132, 1, 3, 22, 11, 222]"
            ]
          },
          "execution_count": 32,
          "metadata": {},
          "output_type": "execute_result"
        }
      ],
      "source": [
        "from collections import deque\n",
        "# l1=[3,22,11]\n",
        "# d1=deque(l1)\n",
        "\n",
        "# d1.append(222)\n",
        "# # d1.appendleft(1)\n",
        "# d1.extend(d1)\n",
        "d1\n",
        "d1.popleft()\n",
        "d1.extendleft([1132])\n",
        "d1\n",
        "s= list(d1)\n",
        "s"
      ]
    },
    {
      "cell_type": "code",
      "execution_count": null,
      "id": "170b051b-383b-4310-9151-b1c135c2d436",
      "metadata": {
        "id": "170b051b-383b-4310-9151-b1c135c2d436",
        "outputId": "77438afa-22a7-4851-e9d7-23bd83eab8ac"
      },
      "outputs": [
        {
          "data": {
            "text/plain": [
              "[2, 1, 22, 34, 1]"
            ]
          },
          "execution_count": 16,
          "metadata": {},
          "output_type": "execute_result"
        }
      ],
      "source": [
        "linkedlist vs list comprehension\n",
        "when to use deque, queue, queue.popleft()\n",
        "\n",
        "\n",
        "# l=[2,34,1]\n",
        "# l2=[22,34,1]\n",
        "# l.extend(l2)\n",
        "# # c= l.pop(l[1])\n",
        "# c\n",
        "l=[2, 34, 1, 22, 34, 1]\n",
        "l.pop(1)\n",
        "l\n",
        "\n"
      ]
    },
    {
      "cell_type": "code",
      "execution_count": null,
      "id": "d9ada651-927e-4c47-9541-d6b7342bb0e5",
      "metadata": {
        "id": "d9ada651-927e-4c47-9541-d6b7342bb0e5"
      },
      "outputs": [],
      "source": [
        "# 55//2\n",
        "\n",
        "x=55\n",
        "\n",
        "def maxones(x):\n",
        "    r=[]\n",
        "    while x>0:\n",
        "        q= x%2\n",
        "        r.append(q)\n",
        "        x= x//2\n",
        "\n",
        "    f=\"\"\n",
        "    for e in range(len(r)-1,-1,-1):\n",
        "        f+=str(r[e])\n",
        "\n",
        "    leng=[]\n",
        "    splitted=f.split('0')\n",
        "    for f in splitted :\n",
        "        leng.append(len(f))\n",
        "\n",
        "    return (max(leng))\n",
        "\n"
      ]
    },
    {
      "cell_type": "code",
      "execution_count": null,
      "id": "8532c7a8-9b20-4f5e-9a3c-98a58b8fc685",
      "metadata": {
        "id": "8532c7a8-9b20-4f5e-9a3c-98a58b8fc685",
        "outputId": "06f1b05f-81df-4fd5-a2f0-7a3523266e27"
      },
      "outputs": [
        {
          "data": {
            "text/plain": [
              "<generator object <genexpr> at 0x00000235D2810AD0>"
            ]
          },
          "execution_count": 7,
          "metadata": {},
          "output_type": "execute_result"
        }
      ],
      "source": [
        "bin(4)[2:]\n",
        "consecutive_ones = binary_rep.split('0')\n",
        "\n",
        "    # Find the maximum length of consecutive '1's\n",
        "max_ones = (len(group) for group in consecutive_ones)\n",
        "max_ones"
      ]
    },
    {
      "cell_type": "code",
      "execution_count": null,
      "id": "ed3cb73f-f8f2-4911-9c1a-b782053a53fa",
      "metadata": {
        "id": "ed3cb73f-f8f2-4911-9c1a-b782053a53fa",
        "outputId": "960b4c83-24e1-4d48-ffd3-84af9064342c"
      },
      "outputs": [
        {
          "name": "stdout",
          "output_type": "stream",
          "text": [
            "my name is tnagisetty, my location ap\n",
            "my class is ten\n"
          ]
        }
      ],
      "source": [
        "class Person :\n",
        "    def __init__(self, name, location, phno):\n",
        "        self.name = name\n",
        "        self.location = location\n",
        "        self.phno = phno\n",
        "    def printname(self):\n",
        "        print(f'my name is {self.name}, my location {self.location}')\n",
        "\n",
        "class Student(Person):\n",
        "    def __init__(self, name, location, phno,studentclass=\"Not Assigned\"):\n",
        "        super().__init__(name,location,phno)\n",
        "        self.studentclass = studentclass\n",
        "    def showclass(self):\n",
        "        print(f'my class is {self.studentclass}')\n",
        "\n",
        "theja = Student (\"tnagisetty\", \"ap\", 43,'ten')\n",
        "theja.printname()\n",
        "theja.showclass()\n"
      ]
    },
    {
      "cell_type": "code",
      "execution_count": null,
      "id": "c7be38ad-6f13-4206-8063-dfd19884c57e",
      "metadata": {
        "id": "c7be38ad-6f13-4206-8063-dfd19884c57e",
        "outputId": "bfcf0a55-72c1-41d0-e09f-87931a4befc8"
      },
      "outputs": [
        {
          "name": "stdout",
          "output_type": "stream",
          "text": [
            "[4, 4, 4, 3]\n"
          ]
        }
      ],
      "source": [
        "s='eee'\n",
        "s.count('e')\n",
        "\n",
        "# squares = [x**2 for x in range(10)]\n",
        "# print(squares)  # Output: [0, 1, 4, 9, 16, 25, 36, 49, 64, 81]\n",
        "\n",
        "result = list(map(lambda x: x+2 ,[2,2,2,1]))\n",
        "print(result)\n"
      ]
    },
    {
      "cell_type": "code",
      "execution_count": null,
      "id": "9637379f-e3fd-456c-a6bd-974d93da3a3f",
      "metadata": {
        "id": "9637379f-e3fd-456c-a6bd-974d93da3a3f",
        "outputId": "dd43f0b1-218d-4946-a3da-e98c73d5d589"
      },
      "outputs": [
        {
          "name": "stdout",
          "output_type": "stream",
          "text": [
            "<__main__.ListNode object at 0x000001FDB4C2FD40>\n"
          ]
        }
      ],
      "source": [
        "class ListNode:\n",
        "    def __init__(self, val=0, next = None):\n",
        "        self.val = val\n",
        "        self.next = next\n",
        "\n",
        "node1 = ListNode(1)\n",
        "node2 = ListNode(2)\n",
        "node3 = ListNode(3)\n",
        "node4 = ListNode(4)\n",
        "\n",
        "head = node1\n",
        "\n",
        "def print_linked_list(head):\n",
        "    current = head\n",
        "    while current:\n",
        "        print(current.val, end=\" -> \" if current.next else \"\")\n",
        "        current = current.next\n",
        "    print()\n"
      ]
    },
    {
      "cell_type": "code",
      "execution_count": null,
      "id": "16dab6ed-155a-4187-aefa-f3f18d042933",
      "metadata": {
        "id": "16dab6ed-155a-4187-aefa-f3f18d042933",
        "outputId": "85759c83-c772-4520-e048-98b38805884c"
      },
      "outputs": [
        {
          "name": "stdout",
          "output_type": "stream",
          "text": [
            "11\n"
          ]
        }
      ],
      "source": [
        "from collections import deque\n",
        "simplelist =[1,2,3]\n",
        "l1 = deque(simplelist)\n",
        "l1.append(11)\n",
        "l1.appendleft(99)\n",
        "list2=list(l1)\n",
        "e= list2.pop()\n",
        "print(e)\n"
      ]
    },
    {
      "cell_type": "code",
      "execution_count": null,
      "id": "9d541cd3-10e9-42e4-9eeb-e16db9e03109",
      "metadata": {
        "id": "9d541cd3-10e9-42e4-9eeb-e16db9e03109",
        "outputId": "8dd01687-200e-4434-8936-ea409bd42685"
      },
      "outputs": [
        {
          "name": "stdout",
          "output_type": "stream",
          "text": [
            "3\n"
          ]
        }
      ],
      "source": [
        "nums=[-1,0,2,4,6,8]\n",
        "target=4\n",
        "\n",
        "for x in nums:\n",
        "    if x == target:\n",
        "        print(nums.index(x))\n",
        "\n",
        "# after = nums[6:]\n",
        "# print(after)\n",
        "\n",
        "for x in range(len(nums)):\n",
        "    # Slice the list into two parts: before x and after x\n",
        "    before = nums[:x]\n",
        "    after = nums[x+1:]\n",
        "    print(f' {before}')\n",
        "    print(f'hi {after}')\n",
        "    # Concatenate both parts to get all elements except nums[x]\n",
        "    all_but_x = before + after\n",
        "\n",
        "0-6"
      ]
    },
    {
      "cell_type": "code",
      "execution_count": null,
      "id": "9defa32e-214d-4cae-a4d4-2f30b574273f",
      "metadata": {
        "id": "9defa32e-214d-4cae-a4d4-2f30b574273f",
        "outputId": "5c8479fd-2df1-44c5-9013-50211211c26e"
      },
      "outputs": [
        {
          "data": {
            "text/plain": [
              "False"
            ]
          },
          "execution_count": 39,
          "metadata": {},
          "output_type": "execute_result"
        }
      ],
      "source": [
        "d1 = {'a': 2, 'b': 3}\n",
        "d2 = {'a': 2, 'b': 1}\n",
        "\n",
        "# # Initialize an empty dictionary to store the result\n",
        "# result = {}\n",
        "\n",
        "# # Iterate over each key in d1\n",
        "# for key in d1:\n",
        "#     # Get the value from d1 for the current key\n",
        "#     value_d1 = d1.get(key, 0)\n",
        "\n",
        "#     # Get the value from d2 for the current key, default to 0 if the key doesn't exist in d2\n",
        "#     value_d2 = d2.get(key, 0)\n",
        "\n",
        "#     # Subtract the value from d2 from the value from d1\n",
        "#     result[key] = value_d1 - value_d2\n",
        "\n",
        "# print(result)  # Output: {'a': 0, 'b': 2}\n",
        "\n",
        "c={'a':0,'b':2}\n",
        "c1={'a':0,'b':0,'d':1}\n",
        "\n",
        "\n",
        "# all(count == 0 for count in c.values())\n",
        "\n",
        "# has_non_zero_count = False\n",
        "\n",
        "# for count in c.values():\n",
        "#     if count != 0:\n",
        "#         has_non_zero_count = True\n",
        "#         break\n",
        "\n",
        "\n",
        "# def checkequal():\n",
        "#     equalproportion = True\n",
        "#     for x in c.values():\n",
        "#         if x!=0:\n",
        "#             equalproportion = False\n",
        "#             break\n",
        "#     return equalproportion\n",
        "\n",
        "# checkequal()\n",
        "\n",
        "# while True:\n",
        "#     user_input = input(\"Enter a number (or 'quit' to exit): \")\n",
        "#     if user_input == \"quit\":\n",
        "#         break\n",
        "#     print((user_input) * 2)\n",
        "\n"
      ]
    },
    {
      "cell_type": "code",
      "execution_count": null,
      "id": "7c46d48a-ed80-4f34-be95-76cec749177a",
      "metadata": {
        "id": "7c46d48a-ed80-4f34-be95-76cec749177a",
        "outputId": "4799e7d2-0a09-46ab-e401-9535eae19285"
      },
      "outputs": [
        {
          "data": {
            "text/plain": [
              "2"
            ]
          },
          "execution_count": 46,
          "metadata": {},
          "output_type": "execute_result"
        }
      ],
      "source": [
        "When preparing for a Python and PySpark developer interview, particularly focused on framework design and\n",
        "development, you may encounter a mix of conceptual, practical, and problem-solving questions.\n",
        "Here's a list of potential interview questions broken down into categories:\n",
        "\n",
        "1. Python-Specific Questions\n",
        "Object-Oriented Design:\n",
        "\n",
        "How would you design a system that can handle multiple shapes (e.g., Circle, Rectangle) and compute their areas?\n",
        "Walk through the design and implementation.\n",
        "Explain how to implement inheritance and polymorphism in Python with an example.\n",
        "\n",
        "Design Patterns: 3. What are design patterns? Which ones have you used in Python development? 4. Can you implement the Singleton pattern in Python?\n",
        "\n",
        "Frameworks: 5. Have you worked with any Python frameworks like Django or Flask?\n",
        "What are the key differences between them?\n",
        "6. How would you design a custom Python framework for a specific problem? What considerations would you take into account?\n",
        "\n",
        "Concurrency: 7. How do threads and processes differ in Python?\n",
        "                                       When would you use each?\n",
        "                                       8. Can you explain the Global Interpreter Lock (GIL) in Python and how it affects multi-threading?\n",
        "\n",
        "Testing and Debugging: 9. How do you design testable code?\n",
        "                                       Can you walk me through how you’d test a piece of Python code?\n",
        "                                       10. What are some Python debugging techniques or tools you’ve used?\n",
        "\n",
        "2. PySpark-Specific Questions\n",
        "DataFrame API: 11. What are the key differences between the DataFrame API and RDD API in PySpark?\n",
        "                                       12. How do you handle schema changes in PySpark DataFrames?\n",
        "\n",
        "Optimization: 13. How would you optimize a PySpark job that is running slower than expected?\n",
        "                                       14. Explain the concept of lazy evaluation in PySpark and how it impacts performance.\n",
        "\n",
        "Joins and Transformations: 15. Can you explain different types of joins in PySpark?\n",
        "                                       When would you use a broadcast join?\n",
        "                                       16. How do you perform transformations in PySpark, and how do they differ from actions?\n",
        "\n",
        "Cluster Management: 17. How do you design a PySpark job to efficiently run on a cluster?\n",
        "                                       What factors would you consider?\n",
        "                                       18. What are the trade-offs of running PySpark in local mode vs. a distributed cluster?\n",
        "\n",
        "Real-time Processing: 19. How does Spark Streaming differ from batch processing in PySpark?\n",
        "                                       20. How would you design a PySpark job to process real-time data from Kafka?\n",
        "\n",
        "3. General Framework Design and Development Questions\n",
        "Architectural Design: 21. How do you approach designing a scalable data processing framework?\n",
        "                                       What are the key components?\n",
        "    22. What design considerations would you take into account for fault tolerance and data consistency?\n",
        "\n",
        "Data Handling and Storage: 23. How do you design a framework for handling large-scale data? What storage solutions would you consider?\n",
        "    24. How do you ensure data integrity and avoid duplication in distributed data processing frameworks?\n",
        "\n",
        "Error Handling and Logging: 25. How would you design a logging and error-handling system in a large-scale Python/PySpark application?\n",
        "\n",
        "Security: 26. What are some best practices for securing a Python/PySpark application?\n",
        "        27. How do you handle sensitive data in distributed systems like Spark?\n",
        "\n",
        "APIs and Integrations: 28. How do you design APIs for integration with other systems in a data processing pipeline?\n",
        "        29. How would you handle backward compatibility when evolving a Python/PySpark framework?\n",
        "\n",
        "4. Problem-Solving and Coding Questions\n",
        "Algorithm Design: 30. Write a Python function to find the longest common prefix among a list of strings.\n",
        "        31. Write a PySpark job to compute the average value of a column in a large dataset.\n",
        "\n",
        "Scenario-Based: 32. Imagine you have a large dataset with millions of records, and your PySpark job is failing due to out-of-memory issues.\n",
        "        How would you troubleshoot and resolve this?\n",
        "        33. How would you design a system that can process both batch and real-time data efficiently using PySpark?"
      ]
    },
    {
      "cell_type": "code",
      "execution_count": null,
      "id": "d27fc7a4-77f1-478a-a961-7b77fee1d7d6",
      "metadata": {
        "id": "d27fc7a4-77f1-478a-a961-7b77fee1d7d6",
        "outputId": "5d486e60-0038-4b41-f204-ee0692ed879d"
      },
      "outputs": [
        {
          "name": "stdout",
          "output_type": "stream",
          "text": [
            "defaultdict(<class 'list'>, {'apple': ['apple', 'apple', 'apple'], 'banana': ['banana'], 'orange': ['orange']})\n"
          ]
        }
      ],
      "source": [
        "from collections import defaultdict\n",
        "\n",
        "# Create a defaultdict where the default value for missing keys is an empty list\n",
        "word_count = defaultdict(list)\n",
        "\n",
        "# Add words to the dictionary\n",
        "words = [\"apple\", \"banana\", \"apple\", \"orange\", \"apple\"]\n",
        "for word in words:\n",
        "    word_count[word].append(word)\n",
        "\n",
        "# Access elements and print the result\n",
        "print(word_count)\n",
        "\n",
        "s = [('yellow', 1), ('blue', 2), ('yellow', 3), ('blue', 4), ('red', 1)]\n",
        "d = defaultdict(list)\n",
        "for k, v in s:\n",
        "    d[k].append(v)\n",
        "\n",
        "sorted(d.items())\n",
        "\n",
        "v ='eabc'\n",
        "''.join(sorted(v))"
      ]
    },
    {
      "cell_type": "code",
      "execution_count": null,
      "id": "d1efafe1-4e89-4110-b80a-e6ff2b61ca60",
      "metadata": {
        "id": "d1efafe1-4e89-4110-b80a-e6ff2b61ca60",
        "outputId": "47a10e29-92dc-454e-da64-265170fd7a7c"
      },
      "outputs": [
        {
          "name": "stdout",
          "output_type": "stream",
          "text": [
            "[(1, 1), (2, 2), (3, 4)]\n"
          ]
        }
      ],
      "source": [
        "\n",
        "nums = [1,2,2,3,3,3,3]\n",
        "k = 2\n",
        "#find frequency of each put in desc order in a dict\n",
        "# get get the first k keys from dic in the form of a list\n",
        "\n",
        "dic1={}\n",
        "for x in nums:\n",
        "    if x in dic1:\n",
        "        dic1[x]+=1\n",
        "    else:\n",
        "        dic1[x]=1\n",
        "\n",
        "dic1\n",
        "\n",
        "dic1 ={1: 1, 2: 2, 3: 4}\n",
        "\n",
        "\n",
        "items = list(dic1.items())\n",
        "print((items))\n",
        "\n",
        "items= [(1, 1), (2, 2), (3, 4)]\n",
        "\n",
        "\n"
      ]
    },
    {
      "cell_type": "code",
      "execution_count": null,
      "id": "274983ca-1a98-463f-bc52-98089ea027d8",
      "metadata": {
        "id": "274983ca-1a98-463f-bc52-98089ea027d8"
      },
      "outputs": [],
      "source": [
        "#Binary Search\n",
        "#Problem: Find the position of a target value in a sorted array.\n",
        "\n",
        "\n",
        "def binary_search(arr, target):\n",
        "    low, high = 0, len(arr) - 1\n",
        "    while low <= high:\n",
        "        mid = (low + high) // 2\n",
        "        if arr[mid] == target:\n",
        "            return mid\n",
        "        elif arr[mid] < target:\n",
        "            low = mid + 1\n",
        "        else:\n",
        "            high = mid - 1\n",
        "    return -1  # Target not found\n",
        "\n",
        "# Example usage\n",
        "print(binary_search([1, 3, 5, 7, 9], 5))  # Output: 2\n"
      ]
    },
    {
      "cell_type": "code",
      "execution_count": null,
      "id": "b591ce1c-b46f-45b0-8519-595e58f92826",
      "metadata": {
        "id": "b591ce1c-b46f-45b0-8519-595e58f92826"
      },
      "outputs": [],
      "source": [
        "# Merge Sort\n",
        "# Problem: Sort an array of integers\n",
        "\n",
        "def merge_sort(arr):\n",
        "    if len(arr) > 1:\n",
        "        mid = len(arr) // 2\n",
        "        left_half = arr[:mid]\n",
        "        right_half = arr[mid:]\n",
        "\n",
        "        merge_sort(left_half)\n",
        "        merge_sort(right_half)\n",
        "\n",
        "        i = j = k = 0\n",
        "\n",
        "        while i < len(left_half) and j < len(right_half):\n",
        "            if left_half[i] < right_half[j]:\n",
        "                arr[k] = left_half[i]\n",
        "                i += 1\n",
        "            else:\n",
        "                arr[k] = right_half[j]\n",
        "                j += 1\n",
        "            k += 1\n",
        "\n",
        "        while i < len(left_half):\n",
        "            arr[k] = left_half[i]\n",
        "            i += 1\n",
        "            k += 1\n",
        "\n",
        "        while j < len(right_half):\n",
        "            arr[k] = right_half[j]\n",
        "            j += 1\n",
        "            k += 1\n",
        "\n",
        "# Example usage\n",
        "arr = [38, 27, 43, 3, 9, 82, 10]\n",
        "merge_sort(arr)\n",
        "print(arr)  # Output: [3, 9, 10, 27, 38, 43, 82]\n"
      ]
    },
    {
      "cell_type": "code",
      "execution_count": null,
      "id": "d176ce2c-975c-4d95-ae0d-b106e83baa1c",
      "metadata": {
        "id": "d176ce2c-975c-4d95-ae0d-b106e83baa1c"
      },
      "outputs": [],
      "source": [
        "# Quick Sort\n",
        "# Problem: Sort an array of integers.\n",
        "def quick_sort(arr):\n",
        "    if len(arr) <= 1:\n",
        "        return arr\n",
        "    pivot = arr[len(arr) // 2]\n",
        "    left = [x for x in arr if x < pivot]\n",
        "    middle = [x for x in arr if x == pivot]\n",
        "    right = [x for x in arr if x > pivot]\n",
        "    return quick_sort(left) + middle + quick_sort(right)\n",
        "\n",
        "# Example usage\n",
        "print(quick_sort([3, 6, 8, 10, 1, 2, 1]))  # Output: [1, 1, 2, 3, 6, 8, 10]"
      ]
    },
    {
      "cell_type": "code",
      "execution_count": null,
      "id": "5d606eea-d9b2-4e85-81f2-3f7837401234",
      "metadata": {
        "id": "5d606eea-d9b2-4e85-81f2-3f7837401234"
      },
      "outputs": [],
      "source": [
        "# Breadth-First Search (BFS)\n",
        "# Problem: Traverse or search a tree or graph level by level.\n",
        "\n",
        "from collections import deque\n",
        "\n",
        "def bfs(graph, start):\n",
        "    visited = set()\n",
        "    queue = deque([start])\n",
        "    visited.add(start)\n",
        "\n",
        "    while queue:\n",
        "        vertex = queue.popleft()\n",
        "        print(vertex, end=\" \")\n",
        "\n",
        "        for neighbor in graph[vertex]:\n",
        "            if neighbor not in visited:\n",
        "                visited.add(neighbor)\n",
        "                queue.append(neighbor)\n",
        "\n",
        "# Example usage\n",
        "graph = {\n",
        "    'A': ['B', 'C'],\n",
        "    'B': ['A', 'D', 'E'],\n",
        "    'C': ['A', 'F'],\n",
        "    'D': ['B'],\n",
        "    'E': ['B', 'F'],\n",
        "    'F': ['C', 'E']\n",
        "}\n",
        "bfs(graph, 'A')  # Output: A B C D E F\n"
      ]
    },
    {
      "cell_type": "code",
      "execution_count": null,
      "id": "32ca2f94-eac0-4804-9710-96dc514b2740",
      "metadata": {
        "id": "32ca2f94-eac0-4804-9710-96dc514b2740"
      },
      "outputs": [],
      "source": [
        "# Depth-First Search (DFS)\n",
        "# Problem: Traverse or search a tree or graph by going as deep as possible before backtracking.\n",
        "\n",
        "def dfs(graph, start, visited=None):\n",
        "    if visited is None:\n",
        "        visited = set()\n",
        "    visited.add(start)\n",
        "    print(start, end=\" \")\n",
        "\n",
        "    for neighbor in graph[start]:\n",
        "        if neighbor not in visited:\n",
        "            dfs(graph, neighbor, visited)\n",
        "\n",
        "\n",
        "# Problem: Sort an array of integers.\n",
        "#bubble sort\n",
        "\n",
        "arr= [64, 34, 25, 12, 22, 11, 90]\n",
        "\n",
        "def bubblesort(arr):\n",
        "    n = len(arr)\n",
        "    for i in range(0,n):\n",
        "        swapped = False\n",
        "        for j in range(0,n-i-1):\n",
        "            if arr[j]> arr[j+1]:\n",
        "                arr[j+1], arr[j]= arr[j], arr[j+1]\n",
        "                swapped = True\n",
        "        if not swapped:\n",
        "            return arr\n",
        "\n",
        "\n",
        "bubblesort(arr)\n",
        "\n",
        "# Quick Sort\n",
        "# Problem: Sort an array of integers.\n",
        "#get the middle element and sort left and right portions\n",
        "\n",
        "arr= [1, 1, 2, 3, 6, 8, 10]\n",
        "\n",
        "def quicksor(arr):\n",
        "    mid = (len(arr))//2\n",
        "    lefth =[ x for x in arr if x < arr[mid]]\n",
        "    righth = [ x for x in arr if x > arr[mid]]\n",
        "    mid = [ x for x in arr if arr[mid]== x]\n",
        "\n",
        "    return lefth+mid+righth\n",
        "\n",
        "quicksor(arr)"
      ]
    },
    {
      "cell_type": "code",
      "execution_count": null,
      "id": "6eb55587-57e6-4cdd-bbb9-d4707f0767e0",
      "metadata": {
        "id": "6eb55587-57e6-4cdd-bbb9-d4707f0767e0",
        "outputId": "ac2b0f0a-3d27-42d3-cd99-77e5b742134e"
      },
      "outputs": [
        {
          "data": {
            "text/plain": [
              "[1, 1, 2, 3, 6, 8, 10]"
            ]
          },
          "execution_count": 16,
          "metadata": {},
          "output_type": "execute_result"
        }
      ],
      "source": [
        "# First and last index of target in sorted array\n",
        "\n",
        "def find_first_and_last(arr, target):\n",
        "    # Function to find the first occurrence of the target\n",
        "    def find_first(arr, target):\n",
        "        low, high = 0, len(arr) - 1\n",
        "        first_index = -1\n",
        "        while low <= high:\n",
        "            mid = (low + high) // 2\n",
        "            if arr[mid] == target:\n",
        "                first_index = mid  # Record the index\n",
        "                high = mid - 1  # Move left to find the first occurrence\n",
        "            elif arr[mid] < target:\n",
        "                low = mid + 1\n",
        "            else:\n",
        "                high = mid - 1\n",
        "        return first_index\n",
        "\n",
        "    # Function to find the last occurrence of the target\n",
        "    def find_last(arr, target):\n",
        "        low, high = 0, len(arr) - 1\n",
        "        last_index = -1\n",
        "        while low <= high:\n",
        "            mid = (low + high) // 2\n",
        "            if arr[mid] == target:\n",
        "                last_index = mid  # Record the index\n",
        "                low = mid + 1  # Move right to find the last occurrence\n",
        "            elif arr[mid] < target:\n",
        "                low = mid + 1\n",
        "            else:\n",
        "                high = mid - 1\n",
        "        return last_index\n",
        "\n",
        "    # Find the first and last occurrence of the target\n",
        "    first_index = find_first(arr, target)\n",
        "    last_index = find_last(arr, target)\n",
        "\n",
        "    return [first_index, last_index]\n",
        "\n",
        "# Example usage\n",
        "arr = [1, 2, 2, 2, 3, 4, 5]\n",
        "target = 2\n",
        "result = find_first_and_last(arr, target)\n",
        "print(result)  # Output: [1, 3]\n",
        "\n",
        "# arr =[1,3,3,3,3,9]\n",
        "# target = 3\n",
        "\n",
        "# def firstlast(arr, target):\n",
        "#     for i in range(len(arr)):\n",
        "#         if arr[i] == target:\n",
        "#             start = i\n",
        "#             while i < len(arr) and arr[i+1] == target:\n",
        "#                 i+=1\n",
        "#             return [start, i]\n",
        "#     return [-1,-1]\n",
        "\n",
        "\n",
        "# firstlast(arr, target)"
      ]
    },
    {
      "cell_type": "code",
      "execution_count": null,
      "id": "b9c40f14-7dfb-4377-bca0-f861bbaf8281",
      "metadata": {
        "id": "b9c40f14-7dfb-4377-bca0-f861bbaf8281",
        "outputId": "1e37116c-2106-465a-9116-c62f437d6662"
      },
      "outputs": [
        {
          "data": {
            "text/plain": [
              "9"
            ]
          },
          "execution_count": 26,
          "metadata": {},
          "output_type": "execute_result"
        }
      ],
      "source": [
        "#Kth largest element\n",
        "\n",
        "arr =[1,3,3,3,3,9]\n",
        "sarr=sorted(arr, reverse = True)\n",
        "sarr[1-1]\n"
      ]
    },
    {
      "cell_type": "code",
      "execution_count": null,
      "id": "eb50030f-72e4-4c52-8049-f32acc623720",
      "metadata": {
        "id": "eb50030f-72e4-4c52-8049-f32acc623720"
      },
      "outputs": [],
      "source": [
        "popular design patterns\n",
        "\n",
        "\n",
        "Show drafts\n",
        "\n",
        "\n",
        "Popular Design Patterns in Software Development\n",
        "Design patterns are reusable solutions to common software design problems. They provide proven templates that can be adapted to\n",
        "various contexts, improving code quality, maintainability, and flexibility. Here are some of the most popular design patterns:\n",
        "\n",
        "Creational Patterns\n",
        "Factory: Creates objects without specifying their exact class.\n",
        "Abstract Factory: Creates families of related or dependent objects without specifying their concrete classes.\n",
        "Singleton: Ensures a class has only one instance and provides a global point of access to it.\n",
        "Builder: Separates the construction of a complex object from its representation, allowing you to create different representations of the same object.\n",
        "Prototype: Creates new objects by copying existing objects.\n",
        "\n",
        "Structural Patterns\n",
        "Adapter: Converts the interface of a class into another interface that clients expect.\n",
        "Bridge: Decouples an abstraction from its implementation, allowing them to vary independently.\n",
        "Composite: Composes objects into tree structures to represent part-whole hierarchies.\n",
        "Decorator: Attaches additional responsibilities to an object dynamically without altering its class.\n",
        "Facade: Provides a unified interface to a set of interfaces in a subsystem.\n",
        "Flyweight: Reduces memory usage by sharing common objects.\n",
        "Proxy: Provides a surrogate or placeholder for another object to control access to it.\n",
        "\n",
        "\n",
        "Behavioral Patterns\n",
        "Strategy: Defines a family of algorithms, encapsulates each one, and makes them interchangeable.\n",
        "Observer: Defines a one-to-many dependency between objects so that when one object changes state, all its dependents are notified and\n",
        "updated automatically.\n",
        "Iterator: Provides a way to access the elements of an aggregate object sequentially without exposing its internal representation.\n",
        "Template Method: Defines the skeleton of an algorithm in an operation, deferring some steps to subclasses.\n",
        "Command: Encapsulates a request as an object, thereby letting you parameterize clients with different requests, queue or log requests,\n",
        "and support undoable operations.\n",
        "State: Allows an object to alter its behavior when its internal state changes.\n",
        "Visitor: Represents an operation to be performed on the elements of an object structure.\n",
        "\n",
        "\n",
        "# Given a string s, return true if it is a palindrome, otherwise return false\n",
        "\n",
        "s = \"Was it a car or a cat I saw?\"\n",
        "\n",
        "# caseinsesitive and ignore alphaneumaric\n",
        "\n",
        "def is_pali(s):\n",
        "    s = ''.join(c.lower() for c in s if c.isalnum())\n",
        "    return s == s[::-1]\n",
        "\n",
        "is_pali(s)"
      ]
    },
    {
      "cell_type": "code",
      "execution_count": null,
      "id": "e2ad2d1c-c4d8-4cd0-8c99-f0f2142bd908",
      "metadata": {
        "id": "e2ad2d1c-c4d8-4cd0-8c99-f0f2142bd908",
        "outputId": "b46d16bd-f4cd-4271-822c-281acef8ebb1"
      },
      "outputs": [
        {
          "data": {
            "text/plain": [
              "True"
            ]
          },
          "execution_count": 34,
          "metadata": {},
          "output_type": "execute_result"
        }
      ],
      "source": [
        "#sliding window\n",
        "# Return the maximum profit you can achieve\n",
        "\n",
        "# from the list see the lowest price, see if the any higher price is to its right?\n",
        "#     if so,\n",
        "#         find the largest price\n",
        "\n",
        "\n",
        "creating a reusable framework for building RESTful APIs in Python.\n",
        "#identified common features such as routing, request handling,JSON/XML serialization, response formatting,\n",
        "#and data validation, framework to be modular and extensible\n",
        "\n",
        "Python  dynamic typing and metaprogramming capabilities impact framework design\n",
        "Dynamic typing could enable more flexible data structures and late binding,\n",
        "while metaprogramming could be used to generate code dynamically based on user-defined configurations.\n",
        "greater flexibility and customization - custom data types, decorators\n",
        "\n",
        "\n",
        "project complexity, development time, and maintainability.\n",
        "higher level of abstraction, built-in components, and overall structure,streamline development, improve code organization, and enhance maintainability.\n",
        "\n",
        "\n",
        "\n",
        "\n",
        "\n"
      ]
    },
    {
      "cell_type": "code",
      "execution_count": null,
      "id": "2e2c20bc-fbaf-4b97-866a-2c9faac0135b",
      "metadata": {
        "id": "2e2c20bc-fbaf-4b97-866a-2c9faac0135b"
      },
      "outputs": [],
      "source": [
        "class Solution:\n",
        "    def isValid(self, s: str) -> bool:\n",
        "        # Map closing brackets to their corresponding opening brackets\n",
        "        pairs = {\")\": \"(\", \"}\": \"{\", \"]\": \"[\"}\n",
        "        stack = []\n",
        "\n",
        "        for char in s:\n",
        "            if char in pairs:  # If it's a closing bracket\n",
        "                # Pop the top element from the stack if it's not empty, otherwise use a dummy value\n",
        "                top_element = stack.pop() if stack else '#'\n",
        "                # If the top element doesn't match the expected opening bracket, return False\n",
        "                if pairs[char] != top_element:\n",
        "                    return False\n",
        "            else:\n",
        "                # If it's an opening bracket, push it onto the stack\n",
        "                stack.append(char)\n",
        "\n",
        "        # If the stack is empty at the end, the string is valid\n",
        "        return not stack\n"
      ]
    },
    {
      "cell_type": "code",
      "execution_count": null,
      "id": "3e0ea318-c1b5-4593-8dff-e204c07afab0",
      "metadata": {
        "id": "3e0ea318-c1b5-4593-8dff-e204c07afab0",
        "outputId": "1fadae42-1df8-4231-c49b-e856de11df63"
      },
      "outputs": [
        {
          "name": "stdout",
          "output_type": "stream",
          "text": [
            "1\n",
            "2\n",
            "3\n",
            "4\n",
            "6\n",
            "12\n"
          ]
        }
      ],
      "source": [
        "from abc import ABC, abstractmethod\n",
        "\n",
        "# Defining the interface\n",
        "class AdvancedArithmetic(ABC):\n",
        "    @abstractmethod\n",
        "    def divisorSum(self, n):\n",
        "        pass\n",
        "\n",
        "# Calculator class implementing AdvancedArithmetic\n",
        "class Calculator(AdvancedArithmetic):\n",
        "    def divisorSum(self, n):\n",
        "        c = 0\n",
        "        for x in range(1, int(n**0.5) + 1):\n",
        "            if n % x == 0:\n",
        "                c += x\n",
        "                if x != n // x:  # Add the corresponding divisor\n",
        "                    c += n // x\n",
        "        return c\n",
        "\n",
        "# Example Usage:\n",
        "calculator = Calculator()\n",
        "result = calculator.divisorSum(6)\n",
        "print(f\"I implemented: AdvancedArithmetic\")\n",
        "print(result)\n"
      ]
    },
    {
      "cell_type": "code",
      "execution_count": null,
      "id": "b2525414-256b-4a8b-966f-0292d196e490",
      "metadata": {
        "id": "b2525414-256b-4a8b-966f-0292d196e490",
        "outputId": "086d78c7-6022-4631-ce0d-90161c33d676"
      },
      "outputs": [
        {
          "name": "stdout",
          "output_type": "stream",
          "text": [
            "[1, 2, 3, 4, 5]\n"
          ]
        }
      ],
      "source": [
        "#bubblesort\n",
        "c =[3,1,4,2,5]\n",
        "\n",
        "count = 0\n",
        "n = len(c)\n",
        "for x in range(n):\n",
        "    for j in range(n-1):\n",
        "        if c[j]>c[j+1]:\n",
        "            c[j],c[j+1] = c[j+1],c[j]\n",
        "            count+=1\n",
        "\n",
        "print(c)"
      ]
    }
  ],
  "metadata": {
    "kernelspec": {
      "display_name": "Python 3 (ipykernel)",
      "language": "python",
      "name": "python3"
    },
    "language_info": {
      "codemirror_mode": {
        "name": "ipython",
        "version": 3
      },
      "file_extension": ".py",
      "mimetype": "text/x-python",
      "name": "python",
      "nbconvert_exporter": "python",
      "pygments_lexer": "ipython3",
      "version": "3.12.4"
    },
    "colab": {
      "provenance": [],
      "include_colab_link": true
    }
  },
  "nbformat": 4,
  "nbformat_minor": 5
}